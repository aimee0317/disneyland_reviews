{
 "cells": [
  {
   "cell_type": "code",
   "execution_count": 48,
   "id": "f8eba06c-016f-4138-904f-968b4d41124b",
   "metadata": {},
   "outputs": [],
   "source": [
    "import numpy as np\n",
    "import pandas as pd\n",
    "import altair as alt\n",
    "import string\n",
    "import nltk\n",
    "from nltk.stem import SnowballStemmer, LancasterStemmer\n",
    "from nltk.corpus import wordnet\n",
    "from nltk.tokenize import RegexpTokenizer\n",
    "from nltk.corpus import stopwords\n",
    "from wordcloud import WordCloud, STOPWORDS\n",
    "import tkinter\n",
    "import matplotlib\n",
    "import matplotlib.pyplot as plt\n",
    "from PIL import Image\n",
    "from textblob import TextBlob\n",
    "from sentence_transformers import SentenceTransformer\n",
    "import umap\n",
    "import hdbscan\n",
    "\n",
    "\n",
    "alt.renderers.enable('mimetype')\n",
    "alt.data_transformers.disable_max_rows()\n",
    "%matplotlib inline"
   ]
  },
  {
   "cell_type": "code",
   "execution_count": 2,
   "id": "d79e50ba-7855-4246-a355-f27e8234642a",
   "metadata": {},
   "outputs": [],
   "source": [
    "disney_df = pd.read_csv(\"../data/raw/DisneylandReviews.csv\")\n",
    "reviews = disney_df['Review_Text']"
   ]
  },
  {
   "cell_type": "code",
   "execution_count": 3,
   "id": "d15a467c-a23f-401c-9c9e-819fa1985104",
   "metadata": {},
   "outputs": [
    {
     "data": {
      "text/plain": [
       "0        If you've ever been to Disneyland anywhere you...\n",
       "1        Its been a while since d last time we visit HK...\n",
       "2        Thanks God it wasn   t too hot or too humid wh...\n",
       "3        HK Disneyland is a great compact park. Unfortu...\n",
       "4        the location is not in the city, took around 1...\n",
       "                               ...                        \n",
       "42651    i went to disneyland paris in july 03 and thou...\n",
       "42652    2 adults and 1 child of 11 visited Disneyland ...\n",
       "42653    My eleven year old daughter and myself went to...\n",
       "42654    This hotel, part of the Disneyland Paris compl...\n",
       "42655    I went to the Disneyparis resort, in 1996, wit...\n",
       "Name: Review_Text, Length: 42656, dtype: object"
      ]
     },
     "execution_count": 3,
     "metadata": {},
     "output_type": "execute_result"
    }
   ],
   "source": [
    "reviews  "
   ]
  },
  {
   "cell_type": "code",
   "execution_count": 4,
   "id": "2f9d3ccb-5369-400c-8a28-b07ee42aceb3",
   "metadata": {},
   "outputs": [],
   "source": [
    "def preprocess(text):\n",
    "    text = text.lower()\n",
    "    text = text.replace('hk', 'hongkong')\n",
    "    text = text.replace('hong kong', 'hongkong')\n",
    "    text = text.replace(\"n't\", \" not\")\n",
    "    text = text.replace('n   t', \" not\")\n",
    "    text = text.replace('disneyparis', 'disney paris')\n",
    "    return text"
   ]
  },
  {
   "cell_type": "code",
   "execution_count": 5,
   "id": "f4db1ada-274a-4cf1-971d-2a91a129099d",
   "metadata": {},
   "outputs": [
    {
     "data": {
      "text/plain": [
       "0        if you've ever been to disneyland anywhere you...\n",
       "1        its been a while since d last time we visit ho...\n",
       "2        thanks god it was not too hot or too humid whe...\n",
       "3        hongkong disneyland is a great compact park. u...\n",
       "4        the location is not in the city, took around 1...\n",
       "                               ...                        \n",
       "42651    i went to disneyland paris in july 03 and thou...\n",
       "42652    2 adults and 1 child of 11 visited disneyland ...\n",
       "42653    my eleven year old daughter and myself went to...\n",
       "42654    this hotel, part of the disneyland paris compl...\n",
       "42655    i went to the disney paris resort, in 1996, wi...\n",
       "Name: Review_Text, Length: 42656, dtype: object"
      ]
     },
     "execution_count": 5,
     "metadata": {},
     "output_type": "execute_result"
    }
   ],
   "source": [
    "reviews = reviews.apply(lambda x: preprocess(x))\n",
    "reviews"
   ]
  },
  {
   "cell_type": "code",
   "execution_count": 6,
   "id": "845d8c85-00cb-48ab-a131-a22347b57331",
   "metadata": {},
   "outputs": [],
   "source": [
    "def remove_punc(text):\n",
    "    clean = ''.join([char for char in text if char not in string.punctuation])\n",
    "    return clean"
   ]
  },
  {
   "cell_type": "code",
   "execution_count": 7,
   "id": "cfa510be-b326-465a-9045-4af92a2461b8",
   "metadata": {},
   "outputs": [
    {
     "data": {
      "text/plain": [
       "0        if youve ever been to disneyland anywhere youl...\n",
       "1        its been a while since d last time we visit ho...\n",
       "2        thanks god it was not too hot or too humid whe...\n",
       "3        hongkong disneyland is a great compact park un...\n",
       "4        the location is not in the city took around 1 ...\n",
       "                               ...                        \n",
       "42651    i went to disneyland paris in july 03 and thou...\n",
       "42652    2 adults and 1 child of 11 visited disneyland ...\n",
       "42653    my eleven year old daughter and myself went to...\n",
       "42654    this hotel part of the disneyland paris comple...\n",
       "42655    i went to the disney paris resort in 1996 with...\n",
       "Name: Review_Text, Length: 42656, dtype: object"
      ]
     },
     "execution_count": 7,
     "metadata": {},
     "output_type": "execute_result"
    }
   ],
   "source": [
    "reviews = reviews.apply(lambda x: remove_punc(x))\n",
    "reviews"
   ]
  },
  {
   "cell_type": "code",
   "execution_count": 8,
   "id": "a6d51100-477d-4d36-8c20-fb5495e0f518",
   "metadata": {},
   "outputs": [],
   "source": [
    "def remove_digit(text):\n",
    "    clean = ''.join([i for i in text if not i.isdigit()])\n",
    "    return clean"
   ]
  },
  {
   "cell_type": "code",
   "execution_count": 9,
   "id": "acb4d91b-ef03-4b9a-91fc-b8665ed8877f",
   "metadata": {},
   "outputs": [
    {
     "data": {
      "text/plain": [
       "0        if youve ever been to disneyland anywhere youl...\n",
       "1        its been a while since d last time we visit ho...\n",
       "2        thanks god it was not too hot or too humid whe...\n",
       "3        hongkong disneyland is a great compact park un...\n",
       "4        the location is not in the city took around  h...\n",
       "                               ...                        \n",
       "42651    i went to disneyland paris in july  and though...\n",
       "42652     adults and  child of  visited disneyland pari...\n",
       "42653    my eleven year old daughter and myself went to...\n",
       "42654    this hotel part of the disneyland paris comple...\n",
       "42655    i went to the disney paris resort in  with a s...\n",
       "Name: Review_Text, Length: 42656, dtype: object"
      ]
     },
     "execution_count": 9,
     "metadata": {},
     "output_type": "execute_result"
    }
   ],
   "source": [
    "reviews = reviews.apply(lambda x: remove_digit(x))\n",
    "reviews"
   ]
  },
  {
   "cell_type": "code",
   "execution_count": 10,
   "id": "a6fc5047-6c2f-4e9d-8344-6abe71bba4bf",
   "metadata": {},
   "outputs": [],
   "source": [
    "# def spell_checker(text):\n",
    "#     t = TextBlob(text)\n",
    "#     spell_checked = ' '.join([w.correct() for w in t.words])\n",
    "#     return spell_checked "
   ]
  },
  {
   "cell_type": "code",
   "execution_count": 11,
   "id": "f23e6ab5-5165-4b10-8e7d-c18087e5986b",
   "metadata": {},
   "outputs": [],
   "source": [
    "# spell_checked = reviews.apply(lambda x: spell_checker(x))\n",
    "# spell_checked "
   ]
  },
  {
   "cell_type": "code",
   "execution_count": 12,
   "id": "0d13e78c-1c47-47b6-b2f4-39f49054d316",
   "metadata": {},
   "outputs": [],
   "source": [
    "def text_lemmatizer(text):\n",
    "    t = TextBlob(text)\n",
    "    lemmatized_text = ' '.join([w.lemmatize() for w in t.words])\n",
    "    return lemmatized_text"
   ]
  },
  {
   "cell_type": "code",
   "execution_count": 13,
   "id": "e670cadd-98d6-402c-8389-953bcb6343dd",
   "metadata": {},
   "outputs": [
    {
     "data": {
      "text/plain": [
       "0        if youve ever been to disneyland anywhere youl...\n",
       "1        it been a while since d last time we visit hon...\n",
       "2        thanks god it wa not too hot or too humid when...\n",
       "3        hongkong disneyland is a great compact park un...\n",
       "4        the location is not in the city took around ho...\n",
       "                               ...                        \n",
       "42651    i went to disneyland paris in july and thought...\n",
       "42652    adult and child of visited disneyland paris be...\n",
       "42653    my eleven year old daughter and myself went to...\n",
       "42654    this hotel part of the disneyland paris comple...\n",
       "42655    i went to the disney paris resort in with a sm...\n",
       "Name: Review_Text, Length: 42656, dtype: object"
      ]
     },
     "execution_count": 13,
     "metadata": {},
     "output_type": "execute_result"
    }
   ],
   "source": [
    "reviews_lemmatized = reviews.apply(lambda x: text_lemmatizer(x))\n",
    "reviews_lemmatized"
   ]
  },
  {
   "cell_type": "code",
   "execution_count": 14,
   "id": "b0089b3c-1ce8-4af2-8dbc-bb525c5d43fa",
   "metadata": {},
   "outputs": [],
   "source": [
    "tokenizer = RegexpTokenizer(r'\\w+')"
   ]
  },
  {
   "cell_type": "code",
   "execution_count": 15,
   "id": "9b04a3d0-2daf-4e3b-a025-9cca8aed3c34",
   "metadata": {},
   "outputs": [
    {
     "data": {
      "text/plain": [
       "0        [if, youve, ever, been, to, disneyland, anywhe...\n",
       "1        [its, been, a, while, since, d, last, time, we...\n",
       "2        [thanks, god, it, was, not, too, hot, or, too,...\n",
       "3        [hongkong, disneyland, is, a, great, compact, ...\n",
       "4        [the, location, is, not, in, the, city, took, ...\n",
       "                               ...                        \n",
       "42651    [i, went, to, disneyland, paris, in, july, and...\n",
       "42652    [adults, and, child, of, visited, disneyland, ...\n",
       "42653    [my, eleven, year, old, daughter, and, myself,...\n",
       "42654    [this, hotel, part, of, the, disneyland, paris...\n",
       "42655    [i, went, to, the, disney, paris, resort, in, ...\n",
       "Name: Review_Text, Length: 42656, dtype: object"
      ]
     },
     "execution_count": 15,
     "metadata": {},
     "output_type": "execute_result"
    }
   ],
   "source": [
    "reviews_tokenized = reviews.apply(lambda x: tokenizer.tokenize(x.lower()))\n",
    "reviews_tokenized "
   ]
  },
  {
   "cell_type": "code",
   "execution_count": 16,
   "id": "8c9bb2a3-adb2-4223-a0bc-7595cf906fde",
   "metadata": {},
   "outputs": [],
   "source": [
    "nltk_stopwords = pd.Series(stopwords.words(\"english\"))\n",
    "nltk_stopwords = nltk_stopwords.apply(lambda x: remove_punc(x))\n",
    "nltk_stopwords = set(nltk_stopwords)"
   ]
  },
  {
   "cell_type": "code",
   "execution_count": 17,
   "id": "f41f4223-aa72-4622-b30c-2e1352d744b1",
   "metadata": {},
   "outputs": [],
   "source": [
    "stopwords_700 = pd.read_csv('../EDA/stopwords.txt', header= None, delimiter = \"\\t\")\n",
    "stopwords_700 = set(stopwords_700[0])"
   ]
  },
  {
   "cell_type": "code",
   "execution_count": 18,
   "id": "a4cbb27a-fca7-46d9-aad2-89a0ab339e25",
   "metadata": {},
   "outputs": [],
   "source": [
    "def remove_stopwords(text): \n",
    "    stop_words = set(stopwords.words(\"english\"))\n",
    "    stop_words_customize = {'disney', 'disneyland', 'land', 'park', 'parks', 'world', 'disneyworld', 'disney world', 'one'}\n",
    "    stop_words_all = nltk_stopwords.union(stopwords_700, stop_words_customize)\n",
    "    clean = [word for word in text if not word in stop_words_all]\n",
    "    return clean"
   ]
  },
  {
   "cell_type": "code",
   "execution_count": 19,
   "id": "b2862e68-c1ca-4549-9d85-ccdca1193cea",
   "metadata": {},
   "outputs": [],
   "source": [
    "reviews_nostop = reviews_tokenized.apply(lambda x: remove_stopwords(x))"
   ]
  },
  {
   "cell_type": "code",
   "execution_count": 20,
   "id": "47a65608-8b2b-49be-a25f-47194682a315",
   "metadata": {},
   "outputs": [
    {
     "data": {
      "text/plain": [
       "0        [find, hongkong, similar, layout, walk, street...\n",
       "1        [last, time, visit, hongkong, time, stay, tomo...\n",
       "2        [thanks, god, hot, humid, visiting, big, issue...\n",
       "3        [hongkong, great, compact, unfortunately, bit,...\n",
       "4        [location, city, took, hour, kowlon, kids, lik...\n",
       "                               ...                        \n",
       "42651    [went, paris, july, thought, brilliant, visite...\n",
       "42652    [adults, child, visited, paris, beginning, feb...\n",
       "42653    [eleven, year, old, daughter, went, visit, son...\n",
       "42654    [hotel, part, paris, complex, wonderful, place...\n",
       "42655    [went, paris, resort, small, child, minute, en...\n",
       "Name: Review_Text, Length: 42656, dtype: object"
      ]
     },
     "execution_count": 20,
     "metadata": {},
     "output_type": "execute_result"
    }
   ],
   "source": [
    "reviews_nostop"
   ]
  },
  {
   "cell_type": "code",
   "execution_count": 52,
   "id": "fab7351f-aa14-44f9-8c54-a820f399544d",
   "metadata": {},
   "outputs": [],
   "source": [
    "stemmer = LancasterStemmer()\n",
    "\n",
    "def text_stemmer(text):\n",
    "    stem_text = ' '.join([stemmer.stem(i) for i in text])\n",
    "    return stem_text"
   ]
  },
  {
   "cell_type": "code",
   "execution_count": 53,
   "id": "151b0a80-c202-44c5-9cd5-69a599df58a8",
   "metadata": {},
   "outputs": [],
   "source": [
    "a = \"went\""
   ]
  },
  {
   "cell_type": "code",
   "execution_count": 54,
   "id": "12890fba-e4ed-4cc7-857c-ef73248b4501",
   "metadata": {},
   "outputs": [
    {
     "data": {
      "text/plain": [
       "'went'"
      ]
     },
     "execution_count": 54,
     "metadata": {},
     "output_type": "execute_result"
    }
   ],
   "source": [
    "stemmer.stem(a)"
   ]
  },
  {
   "cell_type": "code",
   "execution_count": 22,
   "id": "d222a346-2794-4398-adff-a641c1819da0",
   "metadata": {},
   "outputs": [
    {
     "data": {
      "text/plain": [
       "0        findhongkongsimilarlayoutwalkstreetfamiliarfee...\n",
       "1        lasttimevisithongkongtimestaytomorrowlandakama...\n",
       "2        thankgodhothumidvisitbigissushadeiarrivleftpmu...\n",
       "3        hongkonggreatcompactunfortunbitmaintenworkgopr...\n",
       "4        locatcititookhourkowlonkidlikefinecrowdhothong...\n",
       "                               ...                        \n",
       "42651    wentparijulithoughtbrilliantvisithotelstaynewp...\n",
       "42652    adultchildvisitparibeginfebabsolutfantasttimew...\n",
       "42653    elevenyearolddaughterwentvisitsonlondondecidpa...\n",
       "42654    hotelpartparicomplexwonderplacefamilikidneedro...\n",
       "42655    wentpariresortsmallchildminutentertransportpar...\n",
       "Name: Review_Text, Length: 42656, dtype: object"
      ]
     },
     "execution_count": 22,
     "metadata": {},
     "output_type": "execute_result"
    }
   ],
   "source": [
    "reviews_clean = reviews_nostop.apply(lambda x: text_stemmer(x))\n",
    "reviews_clean"
   ]
  },
  {
   "cell_type": "code",
   "execution_count": 23,
   "id": "477697d9-caa6-44c2-8da9-61b3e0e8e7eb",
   "metadata": {},
   "outputs": [
    {
     "data": {
      "text/plain": [
       "0     findhongkongsimilarlayoutwalkstreetfamiliarfee...\n",
       "1     lasttimevisithongkongtimestaytomorrowlandakama...\n",
       "2     thankgodhothumidvisitbigissushadeiarrivleftpmu...\n",
       "3     hongkonggreatcompactunfortunbitmaintenworkgopr...\n",
       "4     locatcititookhourkowlonkidlikefinecrowdhothong...\n",
       "                            ...                        \n",
       "95    fantastniceplacekidfriendeaslifoodareabuyticke...\n",
       "96    loveattractwellrunwellworthvisitfundayageeasil...\n",
       "97    friendstaffcoolweatherklookpurchasdiscounttick...\n",
       "98    smallestspentdaytokyofebruaricomparhongkongsay...\n",
       "99    imbigfanregularvisitorpariexcitvisitnewgreatti...\n",
       "Name: Review_Text, Length: 100, dtype: object"
      ]
     },
     "execution_count": 23,
     "metadata": {},
     "output_type": "execute_result"
    }
   ],
   "source": [
    "reviews_clean[0:100]"
   ]
  },
  {
   "cell_type": "markdown",
   "id": "58e9ff37-82f0-4989-8f8c-c9b89a0dc3bd",
   "metadata": {},
   "source": [
    "### embeddings"
   ]
  },
  {
   "cell_type": "code",
   "execution_count": 24,
   "id": "d64c650f-290c-43ce-9f1e-25a60fbd58b0",
   "metadata": {},
   "outputs": [
    {
     "data": {
      "application/vnd.jupyter.widget-view+json": {
       "model_id": "568f3e82c229480b9134c7b033b6dc68",
       "version_major": 2,
       "version_minor": 0
      },
      "text/plain": [
       "Batches:   0%|          | 0/313 [00:00<?, ?it/s]"
      ]
     },
     "metadata": {},
     "output_type": "display_data"
    }
   ],
   "source": [
    "model = SentenceTransformer('distilbert-base-nli-mean-tokens')\n",
    "embeddings = model.encode(reviews_clean[0:10000], show_progress_bar=True)"
   ]
  },
  {
   "cell_type": "code",
   "execution_count": 25,
   "id": "33e91247-9982-4404-8c24-22ba287a2981",
   "metadata": {},
   "outputs": [
    {
     "data": {
      "text/plain": [
       "array([[-0.6940529 ,  0.28018403,  0.27974668, ..., -0.26895788,\n",
       "        -0.34182492,  0.00938005],\n",
       "       [-0.6940529 ,  0.28018403,  0.27974668, ..., -0.26895788,\n",
       "        -0.34182492,  0.00938005],\n",
       "       [-0.6940529 ,  0.28018403,  0.27974668, ..., -0.26895788,\n",
       "        -0.34182492,  0.00938005],\n",
       "       ...,\n",
       "       [-0.6940529 ,  0.28018403,  0.27974668, ..., -0.26895788,\n",
       "        -0.34182492,  0.00938005],\n",
       "       [-0.6940529 ,  0.28018403,  0.27974668, ..., -0.26895788,\n",
       "        -0.34182492,  0.00938005],\n",
       "       [-0.6274111 ,  0.30988976,  0.669431  , ..., -0.7942135 ,\n",
       "         0.5636187 , -0.05673214]], dtype=float32)"
      ]
     },
     "execution_count": 25,
     "metadata": {},
     "output_type": "execute_result"
    }
   ],
   "source": [
    "embeddings"
   ]
  },
  {
   "cell_type": "code",
   "execution_count": 26,
   "id": "ba7e3b72-4d9a-4f8f-b14b-ecf212c5f96d",
   "metadata": {},
   "outputs": [],
   "source": [
    "umap_embeddings = umap.UMAP(n_neighbors=15, \n",
    "                            n_components=5, \n",
    "                            metric='cosine').fit_transform(embeddings)"
   ]
  },
  {
   "cell_type": "code",
   "execution_count": 27,
   "id": "37dc4eeb-6d10-4090-b1d2-714170c45d36",
   "metadata": {},
   "outputs": [
    {
     "data": {
      "text/plain": [
       "array([[16.196234  ,  8.651774  ,  7.470948  ,  0.40131304,  0.5727857 ],\n",
       "       [16.447163  ,  8.852206  ,  6.500172  ,  1.8495114 ,  1.5170298 ],\n",
       "       [16.129686  ,  7.6156077 ,  5.8947177 ,  1.3133422 , -0.14631887],\n",
       "       ...,\n",
       "       [16.208475  ,  8.894546  ,  6.7553782 ,  0.49448356,  0.38313153],\n",
       "       [15.894567  ,  8.499065  ,  5.5301743 ,  1.9644712 ,  1.0229781 ],\n",
       "       [-2.8229477 ,  8.117989  , 10.687864  ,  2.1290686 ,  1.6479046 ]],\n",
       "      dtype=float32)"
      ]
     },
     "execution_count": 27,
     "metadata": {},
     "output_type": "execute_result"
    }
   ],
   "source": [
    "umap_embeddings"
   ]
  },
  {
   "cell_type": "code",
   "execution_count": 28,
   "id": "a197f11f-7201-43d9-b93e-25152e2b4f7e",
   "metadata": {},
   "outputs": [],
   "source": [
    "cluster = hdbscan.HDBSCAN(min_cluster_size=15,\n",
    "                          metric='euclidean',                      \n",
    "                          cluster_selection_method='eom').fit(umap_embeddings)"
   ]
  },
  {
   "cell_type": "code",
   "execution_count": 29,
   "id": "8ce53454-9932-47c7-be6a-ebcfc07a6e24",
   "metadata": {},
   "outputs": [
    {
     "data": {
      "text/plain": [
       "HDBSCAN(min_cluster_size=15)"
      ]
     },
     "execution_count": 29,
     "metadata": {},
     "output_type": "execute_result"
    }
   ],
   "source": [
    "cluster"
   ]
  },
  {
   "cell_type": "code",
   "execution_count": 30,
   "id": "d2313546-0ab2-4bb4-9e1e-e0d0682c45a7",
   "metadata": {},
   "outputs": [
    {
     "data": {
      "text/plain": [
       "<matplotlib.colorbar.Colorbar at 0x157c505e0>"
      ]
     },
     "execution_count": 30,
     "metadata": {},
     "output_type": "execute_result"
    },
    {
     "data": {
      "image/png": "[encoded data removed]",
      "text/plain": [
       "<Figure size 720x360 with 2 Axes>"
      ]
     },
     "metadata": {
      "needs_background": "light"
     },
     "output_type": "display_data"
    }
   ],
   "source": [
    "# Prepare data\n",
    "umap_data = umap.UMAP(n_neighbors=15, n_components=2, min_dist=0.0, metric='cosine').fit_transform(embeddings)\n",
    "result = pd.DataFrame(umap_data, columns=['x', 'y'])\n",
    "result['labels'] = cluster.labels_\n",
    "\n",
    "# Visualize clusters\n",
    "fig, ax = plt.subplots(figsize=(10, 5))\n",
    "outliers = result.loc[result.labels == -1, :]\n",
    "clustered = result.loc[result.labels != -1, :]\n",
    "plt.scatter(outliers.x, outliers.y, color='#BDBDBD', s=0.05)\n",
    "plt.scatter(clustered.x, clustered.y, c=clustered.labels, s=0.05, cmap='hsv_r')\n",
    "plt.colorbar()"
   ]
  },
  {
   "cell_type": "code",
   "execution_count": null,
   "id": "82f7012b-ffea-47c7-a87e-79388c5b3dfe",
   "metadata": {},
   "outputs": [],
   "source": []
  }
 ],
 "metadata": {
  "kernelspec": {
   "display_name": "Python [conda env:573]",
   "language": "python",
   "name": "conda-env-573-py"
  },
  "language_info": {
   "codemirror_mode": {
    "name": "ipython",
    "version": 3
   },
   "file_extension": ".py",
   "mimetype": "text/x-python",
   "name": "python",
   "nbconvert_exporter": "python",
   "pygments_lexer": "ipython3",
   "version": "3.9.7"
  }
 },
 "nbformat": 4,
 "nbformat_minor": 5
}
