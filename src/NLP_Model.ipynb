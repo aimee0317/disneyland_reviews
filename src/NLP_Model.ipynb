{
 "cells": [
  {
   "cell_type": "markdown",
   "id": "9da1edd5-daec-4448-9986-e98eaf1c1671",
   "metadata": {},
   "source": [
    "# Disney Review Topic Modeling \n",
    "#### In natural language processing (NLP), topic modeling clusters documents by topics. I explored three methods:\n",
    "- Hierarchical Density-Based Spatial Clustering of Applications with Noise (HDBSCAN) \n",
    "- Latent Dirichlet Allocation (LDA) \n",
    "- ChatGPT Prompt Engineering - Inferring (See notebook here: https://github.com/aimee0317/topic_modeling_Disney_reviews/blob/main/src/ChatGPT_Inferring_Topics.ipynb)"
   ]
  },
  {
   "cell_type": "markdown",
   "id": "8ea1aed4-fc89-42b3-be82-43ae23b69b8d",
   "metadata": {},
   "source": [
    "## Load relevant packages "
   ]
  },
  {
   "cell_type": "code",
   "execution_count": 1,
   "id": "f8eba06c-016f-4138-904f-968b4d41124b",
   "metadata": {},
   "outputs": [
    {
     "name": "stderr",
     "output_type": "stream",
     "text": [
      "/Users/amelia/opt/miniconda3/envs/top_modeling_disney/lib/python3.8/site-packages/umap/distances.py:1063: NumbaDeprecationWarning: \u001b[1mThe 'nopython' keyword argument was not supplied to the 'numba.jit' decorator. The implicit default value for this argument is currently False, but it will be changed to True in Numba 0.59.0. See https://numba.readthedocs.io/en/stable/reference/deprecation.html#deprecation-of-object-mode-fall-back-behaviour-when-using-jit for details.\u001b[0m\n",
      "  @numba.jit()\n",
      "/Users/amelia/opt/miniconda3/envs/top_modeling_disney/lib/python3.8/site-packages/umap/distances.py:1071: NumbaDeprecationWarning: \u001b[1mThe 'nopython' keyword argument was not supplied to the 'numba.jit' decorator. The implicit default value for this argument is currently False, but it will be changed to True in Numba 0.59.0. See https://numba.readthedocs.io/en/stable/reference/deprecation.html#deprecation-of-object-mode-fall-back-behaviour-when-using-jit for details.\u001b[0m\n",
      "  @numba.jit()\n",
      "/Users/amelia/opt/miniconda3/envs/top_modeling_disney/lib/python3.8/site-packages/umap/distances.py:1086: NumbaDeprecationWarning: \u001b[1mThe 'nopython' keyword argument was not supplied to the 'numba.jit' decorator. The implicit default value for this argument is currently False, but it will be changed to True in Numba 0.59.0. See https://numba.readthedocs.io/en/stable/reference/deprecation.html#deprecation-of-object-mode-fall-back-behaviour-when-using-jit for details.\u001b[0m\n",
      "  @numba.jit()\n",
      "/Users/amelia/opt/miniconda3/envs/top_modeling_disney/lib/python3.8/site-packages/umap/umap_.py:660: NumbaDeprecationWarning: \u001b[1mThe 'nopython' keyword argument was not supplied to the 'numba.jit' decorator. The implicit default value for this argument is currently False, but it will be changed to True in Numba 0.59.0. See https://numba.readthedocs.io/en/stable/reference/deprecation.html#deprecation-of-object-mode-fall-back-behaviour-when-using-jit for details.\u001b[0m\n",
      "  @numba.jit()\n",
      "[nltk_data] Downloading package averaged_perceptron_tagger to\n",
      "[nltk_data]     /Users/amelia/nltk_data...\n",
      "[nltk_data]   Package averaged_perceptron_tagger is already up-to-\n",
      "[nltk_data]       date!\n"
     ]
    }
   ],
   "source": [
    "import numpy as np\n",
    "import pandas as pd\n",
    "import altair as alt\n",
    "import string\n",
    "import nltk\n",
    "from nltk.stem import LancasterStemmer, WordNetLemmatizer\n",
    "from nltk.corpus import wordnet\n",
    "from nltk.tokenize import RegexpTokenizer\n",
    "from nltk.corpus import stopwords\n",
    "from wordcloud import WordCloud, STOPWORDS\n",
    "import tkinter\n",
    "import matplotlib\n",
    "import matplotlib.pyplot as plt\n",
    "from PIL import Image\n",
    "from textblob import TextBlob\n",
    "from sentence_transformers import SentenceTransformer\n",
    "import umap\n",
    "import hdbscan\n",
    "from sklearn.feature_extraction.text import CountVectorizer\n",
    "from sklearn.decomposition import LatentDirichletAllocation\n",
    "import warnings\n",
    "\n",
    "\n",
    "alt.renderers.enable('mimetype')\n",
    "alt.data_transformers.disable_max_rows()\n",
    "%matplotlib inline\n",
    "nltk.download('averaged_perceptron_tagger')\n",
    "warnings.filterwarnings('ignore')"
   ]
  },
  {
   "cell_type": "markdown",
   "id": "e33ac5ab-addb-4ff7-a55f-618ce1e6287b",
   "metadata": {
    "tags": []
   },
   "source": [
    "## Read and Preprocess the data \n",
    "- Ensured consistent spellings \n",
    "- Removed digits and punctuation\n",
    "- Tokenized the text using Regex tokenizer \n",
    "    - Tokenization refers to the straightforward process of converting natural text into smaller units called \"tokens\"\n",
    "- Removed stopwords \n",
    "- Performed stemming and lemmatization \n",
    "    - Lemmatization involves substituting a word with its base or root form, known as a lemma. The goal is to reduce different inflected forms to a shared base form. \n",
    "    - A lemmatizer utilizes a database of word synonyms and word endings to ensure that only words with similar meanings are combined into a unified token. \n",
    "    - Stemming involves reducing a word to its base form by removing affixes, including prefixes and suffixes, or by reducing it to the root form, also referred to as \"lemmas\".\n",
    "    - In this project, I used WordNetLemmatizer() and LancasterStemmer() from NLTK. \n",
    "    \n",
    "References:\n",
    "- https://medium.com/@yashj302/lemmatization-f134b3089429\n",
    "- https://www.techtarget.com/searchenterpriseai/definition/stemming \n",
    "- https://wandb.ai/sauravm/Tokenizers/reports/NLP-Basics-What-is-Tokenization-and-How-Do-You-Do-It---VmlldzoxOTAxNDU2"
   ]
  },
  {
   "cell_type": "markdown",
   "id": "258df560-e4ff-47c6-bab9-bec889c5c42e",
   "metadata": {},
   "source": [
    "### Read the data "
   ]
  },
  {
   "cell_type": "code",
   "execution_count": 2,
   "id": "d79e50ba-7855-4246-a355-f27e8234642a",
   "metadata": {},
   "outputs": [],
   "source": [
    "disney_df = pd.read_csv(\"../data/raw/DisneylandReviews.csv\")\n",
    "reviews = disney_df['Review_Text']"
   ]
  },
  {
   "cell_type": "code",
   "execution_count": 3,
   "id": "d15a467c-a23f-401c-9c9e-819fa1985104",
   "metadata": {},
   "outputs": [
    {
     "data": {
      "text/plain": [
       "0        If you've ever been to Disneyland anywhere you...\n",
       "1        Its been a while since d last time we visit HK...\n",
       "2        Thanks God it wasn   t too hot or too humid wh...\n",
       "3        HK Disneyland is a great compact park. Unfortu...\n",
       "4        the location is not in the city, took around 1...\n",
       "                               ...                        \n",
       "42651    i went to disneyland paris in july 03 and thou...\n",
       "42652    2 adults and 1 child of 11 visited Disneyland ...\n",
       "42653    My eleven year old daughter and myself went to...\n",
       "42654    This hotel, part of the Disneyland Paris compl...\n",
       "42655    I went to the Disneyparis resort, in 1996, wit...\n",
       "Name: Review_Text, Length: 42656, dtype: object"
      ]
     },
     "execution_count": 3,
     "metadata": {},
     "output_type": "execute_result"
    }
   ],
   "source": [
    "reviews  "
   ]
  },
  {
   "cell_type": "markdown",
   "id": "ecc45e3b-6195-4a77-a376-c58616ae9c85",
   "metadata": {},
   "source": [
    "### Ensure spelling consistency "
   ]
  },
  {
   "cell_type": "code",
   "execution_count": 4,
   "id": "2f9d3ccb-5369-400c-8a28-b07ee42aceb3",
   "metadata": {},
   "outputs": [],
   "source": [
    "def preprocess(text):\n",
    "    text = text.lower()\n",
    "    text = text.replace('hk', 'hongkong')\n",
    "    text = text.replace('hong kong', 'hongkong')\n",
    "    text = text.replace(\"n't\", \" not\")\n",
    "    text = text.replace('n   t', \" not\")\n",
    "    text = text.replace('disneyparis', 'disney paris')\n",
    "    text = text.replace('kowlon', 'kowloon')\n",
    "    text = text.replace('  ', ' ')\n",
    "    return text"
   ]
  },
  {
   "cell_type": "code",
   "execution_count": 5,
   "id": "f4db1ada-274a-4cf1-971d-2a91a129099d",
   "metadata": {},
   "outputs": [
    {
     "data": {
      "text/plain": [
       "0        if you've ever been to disneyland anywhere you...\n",
       "1        its been a while since d last time we visit ho...\n",
       "2        thanks god it was not too hot or too humid whe...\n",
       "3        hongkong disneyland is a great compact park. u...\n",
       "4        the location is not in the city, took around 1...\n",
       "                               ...                        \n",
       "42651    i went to disneyland paris in july 03 and thou...\n",
       "42652    2 adults and 1 child of 11 visited disneyland ...\n",
       "42653    my eleven year old daughter and myself went to...\n",
       "42654    this hotel, part of the disneyland paris compl...\n",
       "42655    i went to the disney paris resort, in 1996, wi...\n",
       "Name: Review_Text, Length: 42656, dtype: object"
      ]
     },
     "execution_count": 5,
     "metadata": {},
     "output_type": "execute_result"
    }
   ],
   "source": [
    "reviews = reviews.apply(lambda x: preprocess(x))\n",
    "reviews"
   ]
  },
  {
   "cell_type": "markdown",
   "id": "8ec4797f-2617-46e2-ba94-c210788d1fa8",
   "metadata": {},
   "source": [
    "### Remove punctuation and digits"
   ]
  },
  {
   "cell_type": "code",
   "execution_count": 6,
   "id": "845d8c85-00cb-48ab-a131-a22347b57331",
   "metadata": {},
   "outputs": [],
   "source": [
    "def remove_punc(text):\n",
    "    clean = ''.join([char for char in text if char not in string.punctuation])\n",
    "    return clean"
   ]
  },
  {
   "cell_type": "code",
   "execution_count": 7,
   "id": "cfa510be-b326-465a-9045-4af92a2461b8",
   "metadata": {},
   "outputs": [
    {
     "data": {
      "text/plain": [
       "0        if youve ever been to disneyland anywhere youl...\n",
       "1        its been a while since d last time we visit ho...\n",
       "2        thanks god it was not too hot or too humid whe...\n",
       "3        hongkong disneyland is a great compact park un...\n",
       "4        the location is not in the city took around 1 ...\n",
       "                               ...                        \n",
       "42651    i went to disneyland paris in july 03 and thou...\n",
       "42652    2 adults and 1 child of 11 visited disneyland ...\n",
       "42653    my eleven year old daughter and myself went to...\n",
       "42654    this hotel part of the disneyland paris comple...\n",
       "42655    i went to the disney paris resort in 1996 with...\n",
       "Name: Review_Text, Length: 42656, dtype: object"
      ]
     },
     "execution_count": 7,
     "metadata": {},
     "output_type": "execute_result"
    }
   ],
   "source": [
    "reviews = reviews.apply(lambda x: remove_punc(x))\n",
    "reviews"
   ]
  },
  {
   "cell_type": "code",
   "execution_count": 8,
   "id": "a6d51100-477d-4d36-8c20-fb5495e0f518",
   "metadata": {},
   "outputs": [],
   "source": [
    "def remove_digit(text):\n",
    "    clean = ''.join([i for i in text if not i.isdigit()])\n",
    "    clean = clean.replace('  ', ' ')\n",
    "    return clean"
   ]
  },
  {
   "cell_type": "code",
   "execution_count": 9,
   "id": "acb4d91b-ef03-4b9a-91fc-b8665ed8877f",
   "metadata": {},
   "outputs": [
    {
     "data": {
      "text/plain": [
       "0        if youve ever been to disneyland anywhere youl...\n",
       "1        its been a while since d last time we visit ho...\n",
       "2        thanks god it was not too hot or too humid whe...\n",
       "3        hongkong disneyland is a great compact park un...\n",
       "4        the location is not in the city took around ho...\n",
       "                               ...                        \n",
       "42651    i went to disneyland paris in july and thought...\n",
       "42652     adults and child of visited disneyland paris ...\n",
       "42653    my eleven year old daughter and myself went to...\n",
       "42654    this hotel part of the disneyland paris comple...\n",
       "42655    i went to the disney paris resort in with a sm...\n",
       "Name: Review_Text, Length: 42656, dtype: object"
      ]
     },
     "execution_count": 9,
     "metadata": {},
     "output_type": "execute_result"
    }
   ],
   "source": [
    "reviews = reviews.apply(lambda x: remove_digit(x))\n",
    "reviews"
   ]
  },
  {
   "cell_type": "markdown",
   "id": "870c1880-b5dc-497a-ac40-3316bde16385",
   "metadata": {},
   "source": [
    "### Tokenize the text"
   ]
  },
  {
   "cell_type": "code",
   "execution_count": 10,
   "id": "b0089b3c-1ce8-4af2-8dbc-bb525c5d43fa",
   "metadata": {},
   "outputs": [],
   "source": [
    "tokenizer = RegexpTokenizer(r'\\w+')"
   ]
  },
  {
   "cell_type": "code",
   "execution_count": 11,
   "id": "9b04a3d0-2daf-4e3b-a025-9cca8aed3c34",
   "metadata": {},
   "outputs": [
    {
     "data": {
      "text/plain": [
       "0        [if, youve, ever, been, to, disneyland, anywhe...\n",
       "1        [its, been, a, while, since, d, last, time, we...\n",
       "2        [thanks, god, it, was, not, too, hot, or, too,...\n",
       "3        [hongkong, disneyland, is, a, great, compact, ...\n",
       "4        [the, location, is, not, in, the, city, took, ...\n",
       "                               ...                        \n",
       "42651    [i, went, to, disneyland, paris, in, july, and...\n",
       "42652    [adults, and, child, of, visited, disneyland, ...\n",
       "42653    [my, eleven, year, old, daughter, and, myself,...\n",
       "42654    [this, hotel, part, of, the, disneyland, paris...\n",
       "42655    [i, went, to, the, disney, paris, resort, in, ...\n",
       "Name: Review_Text, Length: 42656, dtype: object"
      ]
     },
     "execution_count": 11,
     "metadata": {},
     "output_type": "execute_result"
    }
   ],
   "source": [
    "reviews_tokenized = reviews.apply(lambda x: tokenizer.tokenize(x.lower()))\n",
    "reviews_tokenized "
   ]
  },
  {
   "cell_type": "markdown",
   "id": "5b04e0a2-9bc2-4ad7-ab99-b8352a113edd",
   "metadata": {},
   "source": [
    "### Remove stopwords"
   ]
  },
  {
   "cell_type": "code",
   "execution_count": 12,
   "id": "8c9bb2a3-adb2-4223-a0bc-7595cf906fde",
   "metadata": {},
   "outputs": [],
   "source": [
    "nltk_stopwords = pd.Series(stopwords.words(\"english\"))\n",
    "nltk_stopwords = nltk_stopwords.apply(lambda x: remove_punc(x))\n",
    "nltk_stopwords = set(nltk_stopwords)"
   ]
  },
  {
   "cell_type": "code",
   "execution_count": 13,
   "id": "f41f4223-aa72-4622-b30c-2e1352d744b1",
   "metadata": {},
   "outputs": [],
   "source": [
    "stopwords_700 = pd.read_csv('../EDA/stopwords.txt', header= None, delimiter = \"\\t\")\n",
    "stopwords_700 = set(stopwords_700[0])"
   ]
  },
  {
   "cell_type": "code",
   "execution_count": 14,
   "id": "a4cbb27a-fca7-46d9-aad2-89a0ab339e25",
   "metadata": {},
   "outputs": [],
   "source": [
    "def remove_stopwords(text): \n",
    "    stop_words = set(stopwords.words(\"english\"))\n",
    "    stop_words_customize = {'disney', 'disneyland', 'land', 'park', 'parks', 'world', 'disneyworld', 'disney world', 'one'}\n",
    "    stop_words_all = nltk_stopwords.union(stopwords_700, stop_words_customize)\n",
    "    clean = [word for word in text if not word in stop_words_all]\n",
    "    return clean"
   ]
  },
  {
   "cell_type": "code",
   "execution_count": 15,
   "id": "b2862e68-c1ca-4549-9d85-ccdca1193cea",
   "metadata": {},
   "outputs": [],
   "source": [
    "reviews_nostop = reviews_tokenized.apply(lambda x: remove_stopwords(x))"
   ]
  },
  {
   "cell_type": "code",
   "execution_count": 16,
   "id": "47a65608-8b2b-49be-a25f-47194682a315",
   "metadata": {},
   "outputs": [
    {
     "data": {
      "text/plain": [
       "0        [find, hongkong, similar, layout, walk, street...\n",
       "1        [last, time, visit, hongkong, time, stay, tomo...\n",
       "2        [thanks, god, hot, humid, visiting, big, issue...\n",
       "3        [hongkong, great, compact, unfortunately, bit,...\n",
       "4        [location, city, took, hour, kowloon, kids, li...\n",
       "                               ...                        \n",
       "42651    [went, july, thought, brilliant, visited, hote...\n",
       "42652    [adults, child, visited, beginning, feb, absol...\n",
       "42653    [eleven, year, old, daughter, went, visit, son...\n",
       "42654    [hotel, part, complex, wonderful, place, famil...\n",
       "42655    [went, resort, small, child, minute, enter, tr...\n",
       "Name: Review_Text, Length: 42656, dtype: object"
      ]
     },
     "execution_count": 16,
     "metadata": {},
     "output_type": "execute_result"
    }
   ],
   "source": [
    "reviews_nostop"
   ]
  },
  {
   "cell_type": "markdown",
   "id": "934a59ca-09b0-4d0d-9c58-dbb335388d76",
   "metadata": {},
   "source": [
    "### Lemmatization and stemming\n",
    "- Instead of using WordNetLemmatizer alone, I added part of speech tagging to yield better results. "
   ]
  },
  {
   "cell_type": "code",
   "execution_count": 17,
   "id": "9acfbe86-c18c-4802-b3b5-99deff7a56ca",
   "metadata": {},
   "outputs": [],
   "source": [
    "def pos_lemmatize(text):\n",
    "    lem = WordNetLemmatizer()\n",
    "    for word, tag in nltk.pos_tag(text):\n",
    "        if tag.startswith(\"NN\"):\n",
    "            yield lem.lemmatize(word, pos='n')\n",
    "        elif tag.startswith('VB'):\n",
    "            yield lem.lemmatize(word, pos='v')\n",
    "        elif tag.startswith('JJ'):\n",
    "            yield lem.lemmatize(word, pos='a')\n",
    "        else:\n",
    "            yield word"
   ]
  },
  {
   "cell_type": "code",
   "execution_count": 18,
   "id": "fd86203e-241b-4629-ad31-d33b27f6b610",
   "metadata": {},
   "outputs": [],
   "source": [
    "def final_lemmatizer(text):\n",
    "    lem_text = ' '.join(pos_lemmatize(text))\n",
    "    return lem_text"
   ]
  },
  {
   "cell_type": "code",
   "execution_count": 19,
   "id": "e670cadd-98d6-402c-8389-953bcb6343dd",
   "metadata": {},
   "outputs": [
    {
     "data": {
      "text/plain": [
       "0        find hongkong similar layout walk street famil...\n",
       "1        last time visit hongkong time stay tomorrowlan...\n",
       "2        thanks god hot humid visit big issue shadei ar...\n",
       "3        hongkong great compact unfortunately bit maint...\n",
       "4        location city take hour kowloon kid like fine ...\n",
       "                               ...                        \n",
       "42651    go july think brilliant visited hotel stay new...\n",
       "42652    adult child visited begin feb absolute fantast...\n",
       "42653    eleven year old daughter go visit son london d...\n",
       "42654    hotel part complex wonderful place family kid ...\n",
       "42655    go resort small child minute enter transport t...\n",
       "Name: Review_Text, Length: 42656, dtype: object"
      ]
     },
     "execution_count": 19,
     "metadata": {},
     "output_type": "execute_result"
    }
   ],
   "source": [
    "reviews_lemmatized = reviews_nostop.apply(lambda x: final_lemmatizer(x))\n",
    "reviews_lemmatized"
   ]
  },
  {
   "cell_type": "code",
   "execution_count": 20,
   "id": "fab7351f-aa14-44f9-8c54-a820f399544d",
   "metadata": {},
   "outputs": [],
   "source": [
    "stemmer = LancasterStemmer()\n",
    "\n",
    "def text_stemmer(text):\n",
    "    stem_text = ''.join([stemmer.stem(i) for i in text])\n",
    "    return stem_text"
   ]
  },
  {
   "cell_type": "code",
   "execution_count": 21,
   "id": "d222a346-2794-4398-adff-a641c1819da0",
   "metadata": {},
   "outputs": [
    {
     "data": {
      "text/plain": [
       "0        find hongkong similar layout walk street famil...\n",
       "1        last time visit hongkong time stay tomorrowlan...\n",
       "2        thanks god hot humid visit big issue shadei ar...\n",
       "3        hongkong great compact unfortunately bit maint...\n",
       "4        location city take hour kowloon kid like fine ...\n",
       "                               ...                        \n",
       "42651    go july think brilliant visited hotel stay new...\n",
       "42652    adult child visited begin feb absolute fantast...\n",
       "42653    eleven year old daughter go visit son london d...\n",
       "42654    hotel part complex wonderful place family kid ...\n",
       "42655    go resort small child minute enter transport t...\n",
       "Name: Review_Text, Length: 42656, dtype: object"
      ]
     },
     "execution_count": 21,
     "metadata": {},
     "output_type": "execute_result"
    }
   ],
   "source": [
    "reviews_clean = reviews_lemmatized.apply(lambda x: text_stemmer(x))\n",
    "reviews_clean"
   ]
  },
  {
   "cell_type": "code",
   "execution_count": 22,
   "id": "477697d9-caa6-44c2-8da9-61b3e0e8e7eb",
   "metadata": {},
   "outputs": [
    {
     "data": {
      "text/plain": [
       "0    find hongkong similar layout walk street famil...\n",
       "1    last time visit hongkong time stay tomorrowlan...\n",
       "2    thanks god hot humid visit big issue shadei ar...\n",
       "3    hongkong great compact unfortunately bit maint...\n",
       "4    location city take hour kowloon kid like fine ...\n",
       "5    anaheim tokyo feel hongkong small call way rid...\n",
       "6    great place day wo know obviously go daughter ...\n",
       "7    think intro magic little one attraction comple...\n",
       "8    feel let placethe train fantastic past station...\n",
       "9    talk say childhood dream come true start entra...\n",
       "Name: Review_Text, dtype: object"
      ]
     },
     "execution_count": 22,
     "metadata": {},
     "output_type": "execute_result"
    }
   ],
   "source": [
    "reviews_clean[0:10]"
   ]
  },
  {
   "cell_type": "markdown",
   "id": "58e9ff37-82f0-4989-8f8c-c9b89a0dc3bd",
   "metadata": {},
   "source": [
    "## Hierarchical Density-Based Spatial Clustering of Applications with Noise (HDBSCAN) \n",
    "**Algorithm Steps**\n",
    "- Transform the space based on density / sparsity \n",
    "- Create a minimum spanning tree using a distance-weighted graph\n",
    "- Form a cluster hierarchy by connecting components\n",
    "- Condense the cluster hierarchy based on minimum cluster size.\n",
    "- Extract the stable clusters from the condensed tree.\n",
    "\n",
    "**NOTE:** Due to limited computational power on my local machine, I used first 10,000 lines of data for HDBSCAN. Cloud services can be utilized to increase computational power in the future. "
   ]
  },
  {
   "cell_type": "markdown",
   "id": "f4e3deb5-0575-4d8a-9e79-1ee9d899cc39",
   "metadata": {},
   "source": [
    "### Word Embeddings\n",
    "The sentence transfer model, all-distilroberta-v1, maps sentences and paragraphs into a dense vector space of 768 dimensions, making it suitable for tasks such as clustering or semantic search. "
   ]
  },
  {
   "cell_type": "code",
   "execution_count": 23,
   "id": "d64c650f-290c-43ce-9f1e-25a60fbd58b0",
   "metadata": {},
   "outputs": [],
   "source": [
    "model = SentenceTransformer('sentence-transformers/all-distilroberta-v1')\n",
    "embeddings = model.encode(reviews_clean[0:10000])"
   ]
  },
  {
   "cell_type": "code",
   "execution_count": 24,
   "id": "33e91247-9982-4404-8c24-22ba287a2981",
   "metadata": {},
   "outputs": [
    {
     "data": {
      "text/plain": [
       "array([[-0.01177758, -0.00601741, -0.03364545, ..., -0.05637879,\n",
       "        -0.02640001, -0.01771655],\n",
       "       [ 0.00057895, -0.05718949, -0.00451084, ..., -0.00899257,\n",
       "        -0.0079791 ,  0.03817742],\n",
       "       [ 0.03586723, -0.02685464, -0.02512768, ..., -0.03737215,\n",
       "         0.02771717, -0.00329971],\n",
       "       ...,\n",
       "       [ 0.01897289,  0.00949204, -0.01469616, ..., -0.01598231,\n",
       "         0.04834994,  0.02745166],\n",
       "       [ 0.02736183,  0.02605095,  0.01172643, ..., -0.02204102,\n",
       "         0.03782763,  0.03224099],\n",
       "       [ 0.01359811,  0.036863  , -0.05302053, ...,  0.05390039,\n",
       "        -0.02048063,  0.02469895]], dtype=float32)"
      ]
     },
     "execution_count": 24,
     "metadata": {},
     "output_type": "execute_result"
    }
   ],
   "source": [
    "embeddings"
   ]
  },
  {
   "cell_type": "markdown",
   "id": "6da31c28-6872-4ef0-8cb0-a0306a46a84c",
   "metadata": {},
   "source": [
    "### Dimension reduction using UMAP\n",
    "UMAP is a general purpose manifold learning and dimension reduction algorithm."
   ]
  },
  {
   "cell_type": "code",
   "execution_count": 25,
   "id": "ba7e3b72-4d9a-4f8f-b14b-ecf212c5f96d",
   "metadata": {},
   "outputs": [],
   "source": [
    "umap_embeddings = umap.UMAP(n_neighbors=5, \n",
    "                            n_components=5,\n",
    "                            metric='euclidean').fit_transform(embeddings)"
   ]
  },
  {
   "cell_type": "markdown",
   "id": "73cc8521-cda0-41e4-b7ea-f375231f63c0",
   "metadata": {},
   "source": [
    "Use UMAP to reduce the 768 dimensions of the embedded review text using the \"all-distilroberta-v1\" model to 5 dimensions. "
   ]
  },
  {
   "cell_type": "code",
   "execution_count": 26,
   "id": "a6b5c202-1142-4a4a-b0a8-ddaa6a14b4ae",
   "metadata": {},
   "outputs": [
    {
     "data": {
      "text/html": [
       "<div>\n",
       "<style scoped>\n",
       "    .dataframe tbody tr th:only-of-type {\n",
       "        vertical-align: middle;\n",
       "    }\n",
       "\n",
       "    .dataframe tbody tr th {\n",
       "        vertical-align: top;\n",
       "    }\n",
       "\n",
       "    .dataframe thead th {\n",
       "        text-align: right;\n",
       "    }\n",
       "</style>\n",
       "<table border=\"1\" class=\"dataframe\">\n",
       "  <thead>\n",
       "    <tr style=\"text-align: right;\">\n",
       "      <th></th>\n",
       "      <th>1st dimension</th>\n",
       "      <th>2nd dimension</th>\n",
       "      <th>3rd dimension</th>\n",
       "      <th>4th dimension</th>\n",
       "      <th>5th dimension</th>\n",
       "    </tr>\n",
       "  </thead>\n",
       "  <tbody>\n",
       "    <tr>\n",
       "      <th>0</th>\n",
       "      <td>1.309711</td>\n",
       "      <td>0.349908</td>\n",
       "      <td>1.273069</td>\n",
       "      <td>2.262674</td>\n",
       "      <td>6.493268</td>\n",
       "    </tr>\n",
       "    <tr>\n",
       "      <th>1</th>\n",
       "      <td>3.015415</td>\n",
       "      <td>1.842505</td>\n",
       "      <td>0.522373</td>\n",
       "      <td>1.650187</td>\n",
       "      <td>7.182323</td>\n",
       "    </tr>\n",
       "    <tr>\n",
       "      <th>2</th>\n",
       "      <td>8.221949</td>\n",
       "      <td>1.156715</td>\n",
       "      <td>0.739283</td>\n",
       "      <td>3.181079</td>\n",
       "      <td>5.727958</td>\n",
       "    </tr>\n",
       "    <tr>\n",
       "      <th>3</th>\n",
       "      <td>1.102312</td>\n",
       "      <td>0.993864</td>\n",
       "      <td>1.234652</td>\n",
       "      <td>1.470296</td>\n",
       "      <td>6.773607</td>\n",
       "    </tr>\n",
       "    <tr>\n",
       "      <th>4</th>\n",
       "      <td>1.459376</td>\n",
       "      <td>0.460917</td>\n",
       "      <td>1.298073</td>\n",
       "      <td>2.454244</td>\n",
       "      <td>8.299394</td>\n",
       "    </tr>\n",
       "    <tr>\n",
       "      <th>5</th>\n",
       "      <td>2.027029</td>\n",
       "      <td>1.708335</td>\n",
       "      <td>1.337616</td>\n",
       "      <td>1.727674</td>\n",
       "      <td>6.047011</td>\n",
       "    </tr>\n",
       "    <tr>\n",
       "      <th>6</th>\n",
       "      <td>8.315440</td>\n",
       "      <td>1.079930</td>\n",
       "      <td>1.823015</td>\n",
       "      <td>3.099753</td>\n",
       "      <td>7.419685</td>\n",
       "    </tr>\n",
       "    <tr>\n",
       "      <th>7</th>\n",
       "      <td>1.507141</td>\n",
       "      <td>0.996714</td>\n",
       "      <td>1.329077</td>\n",
       "      <td>1.687159</td>\n",
       "      <td>6.390192</td>\n",
       "    </tr>\n",
       "    <tr>\n",
       "      <th>8</th>\n",
       "      <td>6.981137</td>\n",
       "      <td>2.080045</td>\n",
       "      <td>1.412081</td>\n",
       "      <td>2.506202</td>\n",
       "      <td>6.034598</td>\n",
       "    </tr>\n",
       "    <tr>\n",
       "      <th>9</th>\n",
       "      <td>2.747465</td>\n",
       "      <td>1.065035</td>\n",
       "      <td>1.196853</td>\n",
       "      <td>1.574077</td>\n",
       "      <td>6.512585</td>\n",
       "    </tr>\n",
       "  </tbody>\n",
       "</table>\n",
       "</div>"
      ],
      "text/plain": [
       "   1st dimension  2nd dimension  3rd dimension  4th dimension  5th dimension\n",
       "0       1.309711       0.349908       1.273069       2.262674       6.493268\n",
       "1       3.015415       1.842505       0.522373       1.650187       7.182323\n",
       "2       8.221949       1.156715       0.739283       3.181079       5.727958\n",
       "3       1.102312       0.993864       1.234652       1.470296       6.773607\n",
       "4       1.459376       0.460917       1.298073       2.454244       8.299394\n",
       "5       2.027029       1.708335       1.337616       1.727674       6.047011\n",
       "6       8.315440       1.079930       1.823015       3.099753       7.419685\n",
       "7       1.507141       0.996714       1.329077       1.687159       6.390192\n",
       "8       6.981137       2.080045       1.412081       2.506202       6.034598\n",
       "9       2.747465       1.065035       1.196853       1.574077       6.512585"
      ]
     },
     "execution_count": 26,
     "metadata": {},
     "output_type": "execute_result"
    }
   ],
   "source": [
    "umap_embeddings_df = pd.DataFrame(umap_embeddings, columns=['1st dimension', '2nd dimension', '3rd dimension', '4th dimension', '5th dimension'])\n",
    "umap_embeddings_df.head(10)"
   ]
  },
  {
   "cell_type": "markdown",
   "id": "64ee269d-18f0-4be7-a066-a3d1fb4c1891",
   "metadata": {},
   "source": [
    "### Apply HDBSCAN for clustering and choose the parameters\n",
    "**Parameters**: \n",
    "- **`cluster_selection_method`** has two options, `leaf` and Excess of Mass (`eom`) with `eom` being the default. Excess of Mass tends to pick one or two large clusters and then a number of small extra clusters but this is not the result I'd like to see so I use `leaf` instead. The `leaf` method will select leaf nodes from the tree and tends many small homogeneous clusters.    \n",
    "- **`min_cluster_size`** is the smallest size grouping that I wish to consider a cluster. I set it to be 50.  \n",
    "- **`min_samples`**: The larger the value of `min_samples`, the more conservative the clustering and more points will be identified as noise, and clusters will be restricted to more dense areas. I set a small `min_samples` so that I can get enough clusters. \n",
    "- **`alpha`**: By default, `alpha` is set to be 1 and I use the default because a larger `alpha` will make clustering more conservative. \n",
    "- **`cluster_selection_epsilon`**: Epsilon is the radius of the circle to be created around each data point to check the density and has a default value of 0 in Scikit Learn. I use the default because a cluster with not many data points is still meaningful to the analysis.\n",
    "- **`metric`**: The metric to use when calculating distance between points and 'euclidean' is the default. \n",
    "\n",
    "<br>References: https://hdbscan.readthedocs.io/en/latest/parameter_selection.html"
   ]
  },
  {
   "cell_type": "code",
   "execution_count": 27,
   "id": "a197f11f-7201-43d9-b93e-25152e2b4f7e",
   "metadata": {},
   "outputs": [],
   "source": [
    "cluster = hdbscan.HDBSCAN(min_cluster_size=50,\n",
    "                          metric='euclidean', \n",
    "                          min_samples=1,\n",
    "                          cluster_selection_method='leaf').fit(umap_embeddings)"
   ]
  },
  {
   "cell_type": "markdown",
   "id": "2e097ae1-2a49-4696-acc4-0235ea502e81",
   "metadata": {},
   "source": [
    "### Visualize the clusters on a 2D graph \n",
    "- I further reduced the embedded reviews/documents to 2 dimensions in order to form a 2D graph. \n",
    "- From the graph, we can see many points are in gray which means the reviews/documents are considered noise by the model. "
   ]
  },
  {
   "cell_type": "code",
   "execution_count": 28,
   "id": "d2313546-0ab2-4bb4-9e1e-e0d0682c45a7",
   "metadata": {},
   "outputs": [
    {
     "data": {
      "text/plain": [
       "<matplotlib.colorbar.Colorbar at 0x7fd25ded6fa0>"
      ]
     },
     "execution_count": 28,
     "metadata": {},
     "output_type": "execute_result"
    },
    {
     "data": {
      "image/png": "[encoded data removed]",
      "text/plain": [
       "<Figure size 1000x500 with 2 Axes>"
      ]
     },
     "metadata": {},
     "output_type": "display_data"
    }
   ],
   "source": [
    "# Prepare data\n",
    "umap_data = umap.UMAP(n_neighbors=5, n_components=2, min_dist=0.0, metric='euclidean').fit_transform(embeddings)\n",
    "result = pd.DataFrame(umap_data, columns=['x', 'y'])\n",
    "result['labels'] = cluster.labels_\n",
    "\n",
    "# Visualize clusters\n",
    "fig, ax = plt.subplots(figsize=(10, 5))\n",
    "outliers = result.loc[result.labels == -1, :]\n",
    "clustered = result.loc[result.labels != -1, :]\n",
    "plt.scatter(outliers.x, outliers.y, color='#BDBDBD', s=0.05)\n",
    "plt.scatter(clustered.x, clustered.y, c=clustered.labels, s=0.05, cmap='hsv_r')\n",
    "plt.colorbar()"
   ]
  },
  {
   "cell_type": "code",
   "execution_count": 29,
   "id": "82f7012b-ffea-47c7-a87e-79388c5b3dfe",
   "metadata": {},
   "outputs": [],
   "source": [
    "doc = pd.DataFrame(reviews_clean[0:10000])\n",
    "doc['Topic'] = cluster.labels_\n",
    "doc['Doc_ID'] = range(len(doc))"
   ]
  },
  {
   "cell_type": "code",
   "execution_count": 30,
   "id": "081f38fd-da67-483e-8601-391c6dde38aa",
   "metadata": {},
   "outputs": [
    {
     "data": {
      "text/html": [
       "<div>\n",
       "<style scoped>\n",
       "    .dataframe tbody tr th:only-of-type {\n",
       "        vertical-align: middle;\n",
       "    }\n",
       "\n",
       "    .dataframe tbody tr th {\n",
       "        vertical-align: top;\n",
       "    }\n",
       "\n",
       "    .dataframe thead th {\n",
       "        text-align: right;\n",
       "    }\n",
       "</style>\n",
       "<table border=\"1\" class=\"dataframe\">\n",
       "  <thead>\n",
       "    <tr style=\"text-align: right;\">\n",
       "      <th></th>\n",
       "      <th>Review_Text</th>\n",
       "      <th>Topic</th>\n",
       "      <th>Doc_ID</th>\n",
       "    </tr>\n",
       "  </thead>\n",
       "  <tbody>\n",
       "    <tr>\n",
       "      <th>0</th>\n",
       "      <td>find hongkong similar layout walk street famil...</td>\n",
       "      <td>-1</td>\n",
       "      <td>0</td>\n",
       "    </tr>\n",
       "    <tr>\n",
       "      <th>1</th>\n",
       "      <td>last time visit hongkong time stay tomorrowlan...</td>\n",
       "      <td>-1</td>\n",
       "      <td>1</td>\n",
       "    </tr>\n",
       "    <tr>\n",
       "      <th>2</th>\n",
       "      <td>thanks god hot humid visit big issue shadei ar...</td>\n",
       "      <td>20</td>\n",
       "      <td>2</td>\n",
       "    </tr>\n",
       "    <tr>\n",
       "      <th>3</th>\n",
       "      <td>hongkong great compact unfortunately bit maint...</td>\n",
       "      <td>43</td>\n",
       "      <td>3</td>\n",
       "    </tr>\n",
       "    <tr>\n",
       "      <th>4</th>\n",
       "      <td>location city take hour kowloon kid like fine ...</td>\n",
       "      <td>47</td>\n",
       "      <td>4</td>\n",
       "    </tr>\n",
       "    <tr>\n",
       "      <th>...</th>\n",
       "      <td>...</td>\n",
       "      <td>...</td>\n",
       "      <td>...</td>\n",
       "    </tr>\n",
       "    <tr>\n",
       "      <th>9995</th>\n",
       "      <td>truly magical place christmas enhances experie...</td>\n",
       "      <td>0</td>\n",
       "      <td>9995</td>\n",
       "    </tr>\n",
       "    <tr>\n",
       "      <th>9996</th>\n",
       "      <td>delight join folk experience extraordinary tim...</td>\n",
       "      <td>-1</td>\n",
       "      <td>9996</td>\n",
       "    </tr>\n",
       "    <tr>\n",
       "      <th>9997</th>\n",
       "      <td>visitied day fine weather go decemberhowever v...</td>\n",
       "      <td>-1</td>\n",
       "      <td>9997</td>\n",
       "    </tr>\n",
       "    <tr>\n",
       "      <th>9998</th>\n",
       "      <td>far happy place earth sure long line high pric...</td>\n",
       "      <td>-1</td>\n",
       "      <td>9998</td>\n",
       "    </tr>\n",
       "    <tr>\n",
       "      <th>9999</th>\n",
       "      <td>visit day treat eye special christmas vacation...</td>\n",
       "      <td>0</td>\n",
       "      <td>9999</td>\n",
       "    </tr>\n",
       "  </tbody>\n",
       "</table>\n",
       "<p>10000 rows × 3 columns</p>\n",
       "</div>"
      ],
      "text/plain": [
       "                                            Review_Text  Topic  Doc_ID\n",
       "0     find hongkong similar layout walk street famil...     -1       0\n",
       "1     last time visit hongkong time stay tomorrowlan...     -1       1\n",
       "2     thanks god hot humid visit big issue shadei ar...     20       2\n",
       "3     hongkong great compact unfortunately bit maint...     43       3\n",
       "4     location city take hour kowloon kid like fine ...     47       4\n",
       "...                                                 ...    ...     ...\n",
       "9995  truly magical place christmas enhances experie...      0    9995\n",
       "9996  delight join folk experience extraordinary tim...     -1    9996\n",
       "9997  visitied day fine weather go decemberhowever v...     -1    9997\n",
       "9998  far happy place earth sure long line high pric...     -1    9998\n",
       "9999  visit day treat eye special christmas vacation...      0    9999\n",
       "\n",
       "[10000 rows x 3 columns]"
      ]
     },
     "execution_count": 30,
     "metadata": {},
     "output_type": "execute_result"
    }
   ],
   "source": [
    "doc"
   ]
  },
  {
   "cell_type": "code",
   "execution_count": 31,
   "id": "f938b712-b5ab-431d-b904-862ae841fb68",
   "metadata": {},
   "outputs": [],
   "source": [
    "docs_per_topic = doc.groupby(['Topic'], as_index = False).agg({'Review_Text': ' '.join})"
   ]
  },
  {
   "cell_type": "code",
   "execution_count": 32,
   "id": "c14dcbe8-96be-4cca-b0a1-56919c38a3a9",
   "metadata": {},
   "outputs": [],
   "source": [
    "def c_tf_idf(documents, m, ngram_range=(1, 1)):\n",
    "    count = CountVectorizer(ngram_range=ngram_range, stop_words=\"english\").fit(documents)\n",
    "    t = count.transform(documents).toarray()\n",
    "    w = t.sum(axis=1)\n",
    "    tf = np.divide(t.T, w)\n",
    "    sum_t = t.sum(axis=0)\n",
    "    idf = np.log(np.divide(m, sum_t)).reshape(-1, 1)\n",
    "    tf_idf = np.multiply(tf, idf)\n",
    "\n",
    "    return tf_idf, count"
   ]
  },
  {
   "cell_type": "code",
   "execution_count": 33,
   "id": "bfe42471-6c27-4f96-9e1e-36fb3d993a16",
   "metadata": {},
   "outputs": [],
   "source": [
    "tf_idf, count = c_tf_idf(docs_per_topic.Review_Text.values, m=len(reviews_clean[0:10000]))"
   ]
  },
  {
   "cell_type": "code",
   "execution_count": 34,
   "id": "d7fa5b5e-2b05-4c62-b25b-ac64de947607",
   "metadata": {},
   "outputs": [],
   "source": [
    "def extract_top_n_words_per_topic(tf_idf, count, docs_per_topic, n=20):\n",
    "    words = count.get_feature_names()\n",
    "    labels = list(docs_per_topic.Topic)\n",
    "    tf_idf_transposed = tf_idf.T\n",
    "    indices = tf_idf_transposed.argsort()[:, -n:]\n",
    "    top_n_words = {label: [(words[j], tf_idf_transposed[i][j]) for j in indices[i]][::-1] for i, label in enumerate(labels)}\n",
    "    return top_n_words\n",
    "\n",
    "def extract_topic_sizes(df):\n",
    "    topic_sizes = (df.groupby(['Topic'])\n",
    "                     .Review_Text\n",
    "                     .count()\n",
    "                     .reset_index()\n",
    "                     .rename({\"Topic\": \"Topic\", \"Review_Text\": \"Size\"}, axis='columns')\n",
    "                     .sort_values(\"Size\", ascending=False))\n",
    "    return topic_sizes"
   ]
  },
  {
   "cell_type": "code",
   "execution_count": 35,
   "id": "151ca2ed-be94-4d0f-b0d4-eaed59d50c70",
   "metadata": {},
   "outputs": [
    {
     "data": {
      "text/html": [
       "<div>\n",
       "<style scoped>\n",
       "    .dataframe tbody tr th:only-of-type {\n",
       "        vertical-align: middle;\n",
       "    }\n",
       "\n",
       "    .dataframe tbody tr th {\n",
       "        vertical-align: top;\n",
       "    }\n",
       "\n",
       "    .dataframe thead th {\n",
       "        text-align: right;\n",
       "    }\n",
       "</style>\n",
       "<table border=\"1\" class=\"dataframe\">\n",
       "  <thead>\n",
       "    <tr style=\"text-align: right;\">\n",
       "      <th></th>\n",
       "      <th>Topic</th>\n",
       "      <th>Size</th>\n",
       "    </tr>\n",
       "  </thead>\n",
       "  <tbody>\n",
       "    <tr>\n",
       "      <th>0</th>\n",
       "      <td>-1</td>\n",
       "      <td>4673</td>\n",
       "    </tr>\n",
       "    <tr>\n",
       "      <th>30</th>\n",
       "      <td>29</td>\n",
       "      <td>297</td>\n",
       "    </tr>\n",
       "    <tr>\n",
       "      <th>46</th>\n",
       "      <td>45</td>\n",
       "      <td>284</td>\n",
       "    </tr>\n",
       "    <tr>\n",
       "      <th>27</th>\n",
       "      <td>26</td>\n",
       "      <td>205</td>\n",
       "    </tr>\n",
       "    <tr>\n",
       "      <th>17</th>\n",
       "      <td>16</td>\n",
       "      <td>184</td>\n",
       "    </tr>\n",
       "    <tr>\n",
       "      <th>6</th>\n",
       "      <td>5</td>\n",
       "      <td>178</td>\n",
       "    </tr>\n",
       "    <tr>\n",
       "      <th>21</th>\n",
       "      <td>20</td>\n",
       "      <td>165</td>\n",
       "    </tr>\n",
       "    <tr>\n",
       "      <th>12</th>\n",
       "      <td>11</td>\n",
       "      <td>154</td>\n",
       "    </tr>\n",
       "    <tr>\n",
       "      <th>36</th>\n",
       "      <td>35</td>\n",
       "      <td>153</td>\n",
       "    </tr>\n",
       "    <tr>\n",
       "      <th>48</th>\n",
       "      <td>47</td>\n",
       "      <td>145</td>\n",
       "    </tr>\n",
       "    <tr>\n",
       "      <th>24</th>\n",
       "      <td>23</td>\n",
       "      <td>143</td>\n",
       "    </tr>\n",
       "  </tbody>\n",
       "</table>\n",
       "</div>"
      ],
      "text/plain": [
       "    Topic  Size\n",
       "0      -1  4673\n",
       "30     29   297\n",
       "46     45   284\n",
       "27     26   205\n",
       "17     16   184\n",
       "6       5   178\n",
       "21     20   165\n",
       "12     11   154\n",
       "36     35   153\n",
       "48     47   145\n",
       "24     23   143"
      ]
     },
     "execution_count": 35,
     "metadata": {},
     "output_type": "execute_result"
    }
   ],
   "source": [
    "top_n_words = extract_top_n_words_per_topic(tf_idf, count, docs_per_topic, n=20)\n",
    "topic_sizes = extract_topic_sizes(doc); topic_sizes.head(11)"
   ]
  },
  {
   "cell_type": "markdown",
   "id": "cc00633a-33c9-4933-b995-f83f9882d001",
   "metadata": {},
   "source": [
    "### Inferring topics clustered by HDBSCAN\n",
    "- Topic -1 is noise. HDBSCAN considered 4,980 points as noises. \n",
    "- Topic 29, 45, 26, 16, 5, 20, 11, 35, 47 and 23 are the largest clusters the algorithm has identified. \n",
    "**Inferring semantic topics**\n",
    "- `Topic 29`: fire work \n",
    "- `Topic 45`: family members \n",
    "- `Topic 26`: disappointments \n",
    "- `Topic 16`: Disney Characters \n",
    "- `Topic 5`:  small, size \n",
    "- `Topic 20`: line, queue \n",
    "- `Topic 11`: happy, worth visiting \n",
    "- `Topic 35`: China, countries \n",
    "- `Topic 47`: adults and children, enjoy \n",
    "- `Topic 23`: Children, age "
   ]
  },
  {
   "cell_type": "code",
   "execution_count": 36,
   "id": "19b73615-5c46-4ed8-bea5-85d0b8be0709",
   "metadata": {},
   "outputs": [
    {
     "name": "stdout",
     "output_type": "stream",
     "text": [
      "Five random reviews for the top topics #29\n",
      "[['amaze firework nightdont miss itkids enjoy therefood ok miss parade goback fallowing day wish back']\n",
      " ['place traveler contain game child adult join everynight firework presentation excellent place traveler']\n",
      " ['great ive visit type game fun age watch felt real visit place']\n",
      " ['awesome parade castle light ride family friend felt delighted long time']\n",
      " ['nice spread activity thrill ride attraction amaze fully enjoy definitely need alteast day enjoy attraction ready walk facility attraction parade nice child enjoy']\n",
      " ['last may early map decide ride like try show like watch able maximize stay sure premise castle firework start best view afford pay fast pas ticket wo waste time wait linestroller rental pricey bring stroller kid toddler']\n",
      " ['ride great cater young kid like maybe great attraction view plus train ride hear feel fun show theater play sure give full day miss especially fireworks night wear comfortable extra clothes case wet definitely recommend place family kid']\n",
      " ['adult nostalgic kid wonderland meet favorite character click photo see pm parade fire work pm advice pm stay fire work go early may result fatigue']\n",
      " ['amazing show amaze fan visit ur miss']\n",
      " ['go celebrate daughter birthday boy love well manage staff cast member call help suggest philhar magic lion king show amazing kid kid ride try iron man adventure grizzley bear train ride parades nice big tell fun venue spend day picnic']]\n",
      "\n",
      "\n",
      "Five random reviews for the top topics #45\n",
      "[['lucked day decide visit weather gorgeous pick day pas online line deal parkgetting hotel staff recommend take taxi price control hassle take advice involve zero stress guesswork kowloon hongkongdwe drop close gate making way ticket counter chance photo people idea suppose open amfirst checkpoint security check bag obvious look search selfie stick monopods ban subject sure bring phone charger extra battery take load photo video bring picture take advice murphy law dictate single unit bring issuesonce past security make line transfer online ticket real ticket line watch number folk argument security personnel bring intickets hand make inside first see train station train depart entrance non top disembark enter train top way ride back top entrance force disembark know train help plan excursionthere major event enjoy parade pm parade pm firework pm see event enjoy parade route street area seat curb least half hour early want front row action firework hold castle try position front center castle enjoy oneanother tip cast character set photo opportunity random time place alice teacup ride great opportunity folk picture favorite toon keep mind toon need break frequently find line toon staff poor job instance let queue know actually last prepare disappointment supposedly toon take break minute time right catch set upif pleasant genuinely friendly outward demeanor may able convince random cast member walk take photo people play toon famous still enjoy opportunity take photo guest ask nicely great opportunity unknown bonus free sticker toon cast member staff pass people work store sticker hand nice likely reward stickerone oddity discover girl visit frequently dress constantly pose selfies use smuggle selfie stick sure hop find future mr right lady friendly pose issueswe pick month november perfect weather regular day week avoid school crowd wait line rarely minute break sweat due nice weather keep mind still typhoon season asia face rain give self day lucky plan little wet think still funok ride fantastic go rundown section ride say roller coaster back mine operation awesome alice tea cup favorite small boat ride winner believe raft ferry across river visit tree house ala tarzan back day swiss family robinson tarzan area interactive activity great photo opportunitiesthere food shopping shopping overprice food hongkong pricey recommend avoid fast food garbage like hamburger hot dog stick water real food stick healthy option likely help improve chance pleasant day fireworks staff gently guide quick nimble skirt way past visitor tend lollygag way beeline avoid subway train tour bus first line cab wait wonderful time staff awesome dealing remarkably high number ill mannered guest guest pose challenge patience well take long figure avoid patience culture unusual view public politeness manner courtesy obstacle wonderful wish thank leadership make smooth running operation']\n",
      " ['experience people time research plan time properly research plan carefully best time true especially important christmas eve christmas dayi go christmas eve christmas day certainly open busy go christmas eve day able sure great time forward plan follow strategy preface say husband child year old prior experience america possibly afford stay kingdom club level hotel worthwhile give front line pass show ride person day first time walk past wait people theatre first realise worth penny buy ticket online hotel save time check map ride show description website leave home list see need full day see especially kid pay least min official opening time buy ticket street open shop bakery good offer purchase buy official opening time stay hotel cashier arrange purchase deliver hotel free charge min official opening time rope drop hub front castle carefully choose direction want visit first strongly recommend toy story follow grizzly gulch fantasyland important proper sit meal reservation soon enter enjoy meal hotel christmas eve christmas day book month least asap pay full kid worth research proper fastpass miserable time say strongly important stay kingdom club level stay kingdom club still time specific fastpasses use entry ticket miss show parade firework spectacular california blow away parade show mins reasonable view child arrive min want view potential participate dance parade ride offer single rider line make wait quicker wo able ride friend family check website see ride offer thisthose tip christmas eve christmas day especially busier daysfollow tip help great timefor fan california twice orlando month research use website blog forum post review go prepared small maybe clean pleasantly surprisedthis clean certainly magic cast member friendly give sticker kid fan like saw collect themthe castle small thats okay toy story blow away grizzly gulch amaze ride like big thunder mountain railroad halfway ride wo spoil youthe golden mickey fantastic watch right hand side screen english translationmake sure see stitch encounter fun showflights fantasy best float catchiest music ive see star firework bring tear stand close see projection castle far firework frame castleall land street close straight firework show let enter rope recommend day pace everythingmain street corner cafe nice escape crowdsstay hotel complete magicfeel free contact questionsevery fan best winter summer hot mystic point open next year look amazing']\n",
      " ['party family comprise adult kid yr old visit early dec felt aim child yrs old perfect kid big feel overwhelm kid st out top slightly overcast day threat rain rain crowd queue min rid top son go space mountain time walk time popular ride like dumbo elephant winnie pooh require min wait god daughter queue min take picture princess show spectacular especially lion king well parade see well fireworks spectacular fantasyland tomorrowland time adventureland reason kid interested treehouse boatride go back follow day pass special promo stay hotel hour flight later day sun time round crowd big queue min rid safe autocar ride least interesting ride kid food hand appal mean difficult hotdog right variety quality badly need work merchandising commendable cute battery operate toys character attachment round colored light pricey kid nut uh honest kid fabulous time definitely come back kid old enjoy']\n",
      " ['review go cover point mentionedit able day crowd long forget remember little legs hot tire humidity especially hot humid summer matter plan cover fair distance end day add paint night parade pm firework kick pm open fight way last train attraction day pass apparentthe philharmickeys festival lion king theatre show golden mickey worth see nice see chinese influence flavour permeating show make experience uniqueresearch frozenland element work elsa anna important miss outmake sure catch drummer bucket dustbin tomorrowland advertised sure formal time slot schedule excellent highly skilled great funfood extortionate price hongkongd popcorn ice cream scoop hongkongd small popsicle actually want meal well ticket state food drink allow take technically throw away pay price entrance go allow take sandwich roll plastic bottle can glass bottle drinkthe mtr great jordan street take tsuen wen line red direction tsuen wan lai king change tung chung yellow direction tung chung line sunny bay wait train take take minutesoh pretend kid']\n",
      " ['family plan visit hongkong month actually go visited destination actually philippines wife want take boy hongkong tantalisingly close philippine spend day travel manila go read review site bad december impression fantastici love parade well long short boy ask participate lovelyspace mountain frankly scar wife admit boy age mind young love guess horse course like grizzly gulch roller coaster like wait queue area go room part experience add interest tedious wait queue happen queue min ride like toy soldier parachute drop short ride like short orbitron first ride try short leave think hope ride short introductionautopia fun child enjoyment watch passenger seat fun drive make enjoyable ride earn bonus mark book car rh drive hongkong rh drivebuzz lightyear astro blaster fun boys year old cream itwe enjoyed small especially wifegrizzly gulch look nicely spooky night like thisthere attention detail great place scrabble letter toilet sign toy story sort go long way make bit magicaland highlight firework look forward see disappointone disappointing lack character wander greet actually lack wrong word twice find character pose picture guest people queue time back queue tell queue close sorry make cross unnecessary take decent number character wander situation occur leave nasty taste mouthfood little pricey side unreasonably find feed reasonable propositionat time whole christmas happen like artificial snow fell night st usa hair eye annoyance snow christmas live christmas summer thanks representation live northern hemisphere mid latitudesoverall impression magical magical little effort hongkongd part make difference glad go wo go way come back']\n",
      " ['sad make wait line hour plead case disabled child disability pass unfair cruel way wo look doctor note explainor beg child allow pass kinda time find discriminatory think like way look listen understand big word medical term mean doctor rude outright mean picked vacation cater family disable child least thought celebrate daughter last chemo great unfortunately month intense chemo high dose steroid treat blood cancer severe osteonecrosis ca treat require total joint replacement ankle knee hip possible treatment wait anc come back normal number healthy undergo intense surgery month live intense pain ongoing year osteonecrosis dead bone daughter extremely severe extremely painful condition qualify pas lady stand next son like loud noise pass mind blown seek cast member employee tell das pas see struggle stand wince pain meeting tinkerbell man assess daughter disable pas look dead eye ask brought sick pain kind question think happy place earth least major upcoming surgery treatment cancer year bring go wish trip wish later express desire go take wish actually crappy disabled people still see smile light see parade joy face contagious meeting tinkerbell glad complete dream go hour day day pas come saw rode ride day dream go back thankful']\n",
      " ['dear disneylandafter pay usd ticket family think unreasonable ask follow castle believe notification advise renovate castle currently cover miss chance iconic photo front castle work ride waste time broken ride stick inside splash mountain min escort canoe attraction backlot apology indiana jones break time husband daughter stuck min turn twice due ride malfunction haunt mansion close approach fast pass go roger rabbit toontown tell ride close line part angry mob people turn away rejoin back queue reopen update app advise ride closedfix wifi wifi reminds australia nbn work couple spot place minimum offer wifi especially large percentage international traveller crowd control last thursday felt like sardine limit number people access place unpleasant squash crowd young child aggressive pram pusher fast pass golden hour leave option option california adventure shame take year enjoy day ted magical experience hop']\n",
      " ['wife huge fan excite visit hongkong first time arrange spend day day ticket slightly expensive day ticket expensive small wow castle small new mystic manor attraction absolutely fabulous imagineering team pull new masterpiece attraction exterior pre show storyline danny elfman track ride completely amazing jaw drop first ride ride nearly dozen time course day wednesday thursday busy day way manage crowd simple early stay close low capacity ride first morning fastpass attraction people clueless fastpass saw visitor hand ticket fps wrong ride cast member fp entrance nightmare cast member work ride load area people confuse enter ride vehicle little push shove elbow im still try decide hongkong dl ruder guest anyway fill entire day magic kingdom small small best version space mountain great big grizzly mountain runaway minecars fun rollercoaster attraction keep busy sure see lion king show golden mickey top notch show need show early access theatre especially golden mickey least minute try time golden mickey minute showtime wife lucky last people accept standby line third attempt complain small still attraction wdws animal kingdom hollywood studio sure stay close pm nearly prepare firework show line empty runaway mine car walk pm pm mystic manor range minute wait walk period well theme prepared expensive low quality food drink']\n",
      " ['come back apr first time hongkong perfect family out child year old stay hotel fantasia room jacuzzi king size bed sofa bed let summarized finding airport hotelsif travel people cab cheap take mrt save time cost hongkongg way minute reach hoteldisneyland hotel hotel hotel high rate hollywood hotel first think pay stay hotel experience excitement son kinda dissappointed reason picture wallpaper character especially mickey see mickey logo lift room restaurant hotel compare hollywood hotel book breakfast enchant garden great time especially kid breakfast time divide section section character show mickey daisy goofy pluto tell goofy pluto charaters may depend luck stay hotel book breakfast reception cheap price breakfast eat time take photo character table least time go hollywood hotel dinner chef mickey restaurant place dine whole day trip theme hongkongg flavour food japanese indian cuisine lucky sit walkway goofy manage photo summary hotel clean staff friendly check princess bell beauty beast manage take photo facility indoor outdoor swim pool gym tennis court theme parkas stay hotel promotion buy ticket play day flight reach pm check go themed pm first day shuttle bus pick hollywood hotel theme frequency minute note bring food water enter staff check bag infant water allow check fast pass avoid long queue pm parade admission people leave back hotel take rest firework showi reach theme pm see people queing take photo mickey minnie center street take minute time chip dale pluto goofy nearby minute mainstreet shop first reach fantasy spend time attraction movie dumbo ride cinderella carousel rest attraction stich space mountain light buzzyear shoot charactersthere spot charaters depend time check guidemap visit mickey minnie queue chip dale goofy pluto street fantasy small booth individual mickey minnie pooh eeyore goofy notice donald movie pm waitied next day donald appeard time tommorow light buzzyear small area pinnochio pm castle area princess bell snow white suggest first check staff tip charaters appearancethere food court theme asian western cussineoverall wonderful place family back next year sure']\n",
      " ['let take california florida picture comparison hongkong small size ride husband take year old daughter day arrive perfect time open daily parade old new character last half hour attraction husband adult find little boring comparison disney rid teenager adult year old id say make day little ride merry round dumbo elephant last minute queue half hour go ride long queue maybe ratio ride visitor equal souvenir shop minute walk sell overprice item snack caramel popcorn corn cob ice cream soda typically overprice fast food restaurant serve burger fry inside hongkong decide give chinese food horrible sighagain overprice absolutely pack sandwich course allow security check bag hand ticket entrance ate food hungry choice tell even sort parade show entrance character fire work hurry back catch disappointment year old know parade mickey donald duck goofy sit car wave crowd firework joke ive see neighborhood create big one th july huge christmas tree christmas light stole show want picture tree pm husband ask want next back hotel year old hesitate agree choice take train taxis shuttle hotel stay airport hotel compare price transport time wise decide taxi car expensive staff stand guard tell way discuss price taxi drivers meter availableall day love id say people hongkong rude know stand line properly shove push bit careless know maybe excite come back likely nottip bring small child year old walk run tire midway rent stroller free entrance gate let sit stroller rest carry theyre tire walk discreetly bring water bottle rude shove stand line tell straight line first need wait properly people rude take straightforwardness']]\n",
      "\n",
      "\n",
      "Five random reviews for the top topics #26\n",
      "[['orlando october able compare staff interaction kid heave qs horrendous watch blatant jump push barge local like rugby scrum rid easy wo back sadly']\n",
      " ['experience movie fan like worth penny ticketprosmany point visit include musical ride exhibitionstheres thats suitable people age long enjoy cartoonsthere day parade pm night parade pm fireworks show pm whole day hereconsfood expensive theme parksbe prepare crowd esp paradei spend half time walk queue plan journey wise esp gang agree everythingtips check weather friend buy expensive raincoat avoid public holiday weekend']\n",
      " ['expect firework whole experience long queues premium pass bypass bummer literally live character kid chance seethey soo disappoint parade save grace visual treat glad stay back plus hidden gem vegetarian indian thali chance told there veg option super happy decent indian foodit need attraction ides felt repetitive zone']\n",
      " ['suppose type may enjoy accompany brother family time queue rid horrendous screen oppressive heat queue sure see place busy make hard appreciate offer food drink ridiculously price disappointing staff helpful friendly suppose highlight even parade']\n",
      " ['disappointed service souvenir shop buy mug pay ask cashier pack box bubble wrap respond need bag explain cantonese travel plane argument reluctantly take bubble wrap wrap mug disappointing service water cooler entrance rusty filthy queue hour take picture mickey minnie may time efficient station photo take hr wait include round mickey minnie go change waste time visitor']\n",
      " ['week ago daughter ok time hot exhaust performance brilliant say character area rush leave post picture difficult suddenly say picture min suppose finish consideration ask politely staff incharge waste management chang kind attitude staff sad']\n",
      " ['excite go kid allits easy cheap taxi early opening burst inhave say leave hour ca blame heat humidity hard go see expect oblivion shut leave dissapointed euro far']\n",
      " ['unorganised chaotic rain rain heavily reach purchased ticket online ticket machine malfunction queue tourist purchase ticket manually defeat purpose purchase ticket online rain cat dog child drench informed selfie stick allow ridiculous tourist use ppl understand word queue stupid one queue want name country disgrace race like suggest give number fair queue foolishly like food option limit toilet clean']\n",
      " ['go fill day compare usa course compare wait time rides minute popular ride hate parent try explain child food reasonably price transportation easy go look enjoy saw want ride sure organise fast pass']\n",
      " ['recently visit heartbreaking see horse cart people day think mean transport people choose horse extremely sad carriage petrol drive consider electric way busy hard wait period average hour end waste money time money make scheme personally return disappointment']]\n",
      "\n",
      "\n",
      "Five random reviews for the top topics #16\n",
      "[['part plan itinerary friend buy ticket agent inclusive meal price cheap original website impressed animation sound system performances theme attraction suitable kid year old like fantasyland suitable teenages like grizzly gulch expect roller coaster run backwards high speed think firework normal firework show night alot audience start fill place front sleep beauty castle hour performance whole place full night parade notice theme full kid parent old people old couple enjoy bit disappointed souvenir shop look famous cartoon cd sound track storybook niece nephew find']\n",
      " ['take day pas reach gate line meet donald duck mickey mouse line longer read earlier review waste time character inside mickey minnie town hall recommend run first line photo opthen fast track ticket plan rest ride son bday crew wish happy birthday truly elated gesture miss jedi train lion king show wondrous book show best ride accord mystic manor iron man ride parade great night parade day paradethe finale firework classtruly happy place earth']\n",
      " ['fabulous time granddaughter family celebrate th birthday rid great pinocchio scar absolutely enjoy splash mountain insist sit first seat think funny soaked meet character include capt hook mad hatter minnie mouse eeyore winnie pooh meet gaston totally character sign book insist love pretty funny love small small buzz lightyear astro blaster tea cup dumbo makeover bibbidi bob boutique follow person meeting princess ariel cinderella snow white enjoy afternoon parade nighttime light show churros corn dog expensive amazing experience']\n",
      " ['know expect experience experience young child oppose teenager ride attraction walk look possibly entertain child imagination love theme land obviously expense spared lion king show unbelievable impressed disappointed mickey mouse show run fill see parade great found choice food bit lack']\n",
      " ['guranteed great time magical experience small orlando counterpart keep foot whole day think teenager want choose ocean think equally grizzly gulch rc racer space mountain great thrill rid theme base enjoyable child love jungle river cruise def kind lion king show miss sure try golden mickies stitch encounter well parade firework make great day go weekend line non existent enjoy ride twice run time run firework back hotel return wish big equip ride suitable teenager still lovely experience love return someday kid']\n",
      " ['super jam pack season december carton character wear red costume festive mood advise parent hold kid hand loss sight love one theme big crowd food expensive drink super expensive hongkong ml coke jedi performance watch try space roller coaster regret ha ha heart thrown face turn pale hair stand try high blood']\n",
      " ['firstly say ive original twice amaze theme tiny child suggest old child boredit crowd umbrellas shoved face rude adult side note look buy grumpy memorabilia wish id buy grumpy mug london shop well']\n",
      " ['family go love small defiantly worth go fan popular ride restaurant character special charm pandora']\n",
      " ['name make want think magical wonderland design well prefer universal studio singapore regret go ocean look like fun food beverage limit long queue take photo character keep change notice limited ride mainly kid say age correct hop florida experience end fireworks sleep beauty castleotherwise place overrate']\n",
      " ['place magic begin saying wonderful experience theme fun enjoy mosts ironman experience like real ride iron man battle intense feel mystic manor magical whimsical experience colorful musical fun feel like bring back childhood shop pack stuff buy line take picture character longthe restaurant food ok usual burger fry close pm wish theyre open close drink buy side walk long walk theme bring buy spot umbrella sun visor water sweat summertime experience worthy']]\n",
      "\n",
      "\n",
      "Five random reviews for the top topics #5\n",
      "[['love visit orlando hongkong event think go like florida tiny castle like castle ette still magic matter country great first time experience go disappointed major recommendation eat street usa western restaurant gear chinese palette space mountain great ride small great jungle experience river river boat exactly florida buzz lightyear welli miss come hongkong prepared big grand']\n",
      " ['reason visit hongkong glad compare flordia california tokyo dl small fun unlimited property well maintain direction usual pretty weird show chinese find funny pun intend alien language line come mickey company halloween parade awesome halloween theme firework go october great time loose opportunity visit best part connectivity mtr great planning']\n",
      " ['visited day day visit hongkong meet grand daughter year old rest family experience terrific intentthis first time experience resort worth visit see enjoy attraction grand parent visit orlando anaheim feel bit lacking whole family visitfor experience great resort reaction interaction grand daughter']\n",
      " ['fun experience hongkong floridian florida timeshongkong ride orlando jungle ride cast member deliver joke love dimsum chinese food herei enjoy parade love green toy soldier march perfectly beat big leg piece green paint fun trip']\n",
      " ['compare orlando euro hongkong small experience still par especially great young kid year olds sit ride tiresome walk shorter upset ride shut build speciality restaurant shut bland finally photo pas complete waste ride show nice worth visit asia want give kid first experience']\n",
      " ['personally california know expect cultural tie chinese culture implement simply amaze mickey speak cantonese clean small typical show watch ride similar find california believe iron man attraction unique hongkong busy point wait hour ride average minute ride look experience place go day able want keep mind small recommend come chinese new year golden week']\n",
      " ['go hongkong family day visit first time definitely enjoy visited orlando enjoy place small compare disneyland visit orlando place close city take min taxi travel take train recommend purchase ticket online avoid long queues miss lion king show spectacular souvenir store want buy store hongkong airport']\n",
      " ['ok year old son junkies anaheim time proximity legoland sea san diego great plan day time hongkong unfortunately think rain bad morning black storm warn like open later open go crowd mrt thanks rain staff warn attraction close due weather money back close take chance fly next morning die well rain intermittent day open line need fast pass bring poncho umbrella spirit rainy day blast ride course ride new ride call mystic manor like version haunt mansion great show great pay attention language show show chinese english speak mandarin cantonese english show language understand']\n",
      " ['visit walt orlando time expect hongkong line unfortunately find small compare usa want enjoy fun day kid recommend day pas time explore']\n",
      " ['huge fan mom excite florida expect small extravagant still amaze see culture city easy subway wait see theme subway car amaze ride fun food gift shop full unique souvenir great time think need full day stay hotel day definitely visit hongkong']]\n",
      "\n",
      "\n",
      "Five random reviews for the top topics #20\n",
      "[['excellent experience kid forget need ride queue long number rid fairly limit still value worth visit']\n",
      " ['small compare year old grandparent line seldom long tuesday ride open know']\n",
      " ['open crowd gate openedask staff inside join queue queue hour second photo take']\n",
      " ['wonderful time purchase day pas cheaper turn need still see day wentget early queue long']\n",
      " ['son th birthday morning queue wo long time crowd start lunch place clean well maintain ride nice setback time itmore']\n",
      " ['find new attraction inside bus service new territory easy access wait time game long']\n",
      " ['say price ticket food souvenir crowd people wait line hour go single rider line great minute ride kind fun go child year ago go im old fun see change stayed sameyes ill back ill wait save money maybe year']\n",
      " ['huge place explore interesting spot great memory place purchase ticket earlier want line long queue ticket counter']\n",
      " ['crowded time long queue ride food limited choice pricey kid collect sticker give staff place need approach staff free sticker']\n",
      " ['simply bad live typical shut seriously crowd day ride require queue min formore']]\n",
      "\n",
      "\n",
      "Five random reviews for the top topics #11\n",
      "[['plan whole day lovely place number activity rio day item say souvenir little expensive inside shoe include entry ticket amaze experience child visit remember see parade fire work']\n",
      " ['visit sunday unfortunately hot bright day rd june meant cover waste time exhausted start wait customary mickey minnie photo skip line long esp stay hotel anyway meet breakfast plan itinerary well fun go confusion hot food overprice accept cash small purchase like icecream say food drink allow objected check bag ride like dumbo small worth wait line winnie pooh boat ride long ride repetitive guess prioritize base interest ca cover time make lion king show near collapse afraid son catch heat stroke beat hasty retreat happy place earth way weather careful visit may june small kid']\n",
      " ['truly happy place earth pay money fast pas sure sure understand work little confuse say least expensive expect canadian check canadian price pas']\n",
      " ['love need fun yummy food amaze ride recommend place tourist']\n",
      " ['people small correct easily spend whole day amazing day fun child day arrive stayed end day food reasonable tasty entry fee cheap new toystory welcome addition defiantly advise go east meeting west well']\n",
      " ['say place charm facility fantastic mtr right next resort direct bus take resort people support resort ridesmore']\n",
      " ['high hope go attraction find extremely high quality ride fun show brilliant fun everyoneeverything clean order shabby staff professional expensive definitely return next time spend day']\n",
      " ['iconic theme offer worthwhile homework commit visit check favourable time term potential overcrowd research deal take advantage dynamic pricing install master fast pas app far possible check maintenance schedule landmark attraction ride']\n",
      " ['enjoy day month old grandson mum rid small folk show galore stay firework display hour music lifetime definitely worth visit easy access mtr baby change facility merchandise galore wish quiet area']\n",
      " ['fun cute definitely bring memory trip small film attractive worth tryhowever place tourist stand rain staff unhelpful']]\n",
      "\n",
      "\n",
      "Five random reviews for the top topics #35\n",
      "[['loath experience due small size rude mainland chinese cut queue send rep queue entire group cut join single representative real ugly']\n",
      " ['crowd hongkong general rude impolite think twice push shove way trait visit heighten ride minimum waiting time hour people know stand line worth experience ca miss least pm ride open open disappoint worth']\n",
      " ['small japan still sooo awesome nice staff place']\n",
      " ['go hot day exact forget hat idea rid staff service excellent highly efficient chinese tend reason give star food serve place expect mediocre young child holiday hongkong unmissable']\n",
      " ['average third visit incredibly convenient live region great small overrun rude tourist manner push shove cut line infuriate awhile food abominable day last day face eat slop year old still love doubt back japan incomparably']\n",
      " ['accord people work built segment market mind mainlanders rid exciting one find disneyland build people merely take photo walk market research result save money real place crowd uncivilized sanitation suffers']\n",
      " ['magical journeybut japan usa look smallerkids year age little boringthey limited vegetarian option carry home commercial market place expensive']\n",
      " ['smallest problem still land fully immersive environment rid restaurant give full day experience kid love easy mtr day feel clean organize entertaining long line snake building hot hongkong theyve think expect fence guarantee wo regret go']\n",
      " ['look la orlandono charm asian fusion mix warned local idea queue line prepare push shoved wait line simply cut front like exist']\n",
      " ['look forward trip amaze inside disappointment small full tourist mainland china rude like push racist chinese occasion fume guy try push front meapart small accommodate huge amount tourist queue time min hour yrs old daughter feed food way price bench people sit enjoy drink snack grow disappointed kid yrs old still love see character parade queue time disappoint child']]\n",
      "\n",
      "\n",
      "Five random reviews for the top topics #47\n",
      "[['spent holiday hongkong love fun try dessert like mickey wafflemickey jelly mickey cheese cake cute']\n",
      " ['previous reviwers small usa still son wife son daugher wife visit day middle chinese goldenmore']\n",
      " ['place visit hongkong easily accessible metro wonderful entertainment kid well adult enjoy']\n",
      " ['popular tourist spot hongkong kid enjoy tire walk place see']\n",
      " ['disneylandone important reason hongkong visit plan well ample activity kid storytelling excellent lack high adrenaline ride roller coaster give goosebump experience theme parksthe halloween parade well organised firework awesome see live ordinate show sort']\n",
      " ['hongkong best complex pack walk distance amusement game attract child day trip parade best firework best recommend stay hotel night enjoy game need rush home facility inside hotel star']\n",
      " ['hongkong truly best place earth see need child time husband']\n",
      " ['nice place people walk suitable small boy girl adult visit hongkong visit place']\n",
      " ['fantastic experience family child group friends try visit hongkong winter']\n",
      " ['deep love brand locate united state numerous time huge disappointment wrong half complete palace child control parent busy play mobile phone pay attention child recommend hongkong company']]\n",
      "\n",
      "\n",
      "Five random reviews for the top topics #23\n",
      "[['interesting place spend full day young child primary junior secondary high sch child']\n",
      " ['year old year old honestly say fun fun place bring child early parkmore']\n",
      " ['great place kid fun charecters reach early cover whole place']\n",
      " ['lovely place recommend yr old daughter love thought suit young age group usa think']\n",
      " ['family trip nearly year old great small fun fill day']\n",
      " ['fun place stay well kept activity fun place kid age']\n",
      " ['go family child age mtr nice take min reach destinationwe go weather sunny rain allwe stayed novotel city gate hotel station convenience']\n",
      " ['take year old daughter find manageable extensive florida perfect young child stamina large theme']\n",
      " ['great back childhood attraction great half day kid worth visit']\n",
      " ['visit march year daughter enjoy kid age attraction age group enjoy']]\n",
      "\n",
      "\n"
     ]
    }
   ],
   "source": [
    "for i in topic_sizes.Topic.values[1:11]: \n",
    "    print(f'Five random reviews for the top topics #{i}')\n",
    "    print(doc.loc[doc.Topic == i, ['Review_Text']].sample(10).values)\n",
    "    print('\\n')"
   ]
  },
  {
   "cell_type": "markdown",
   "id": "9792ac30-07fc-4b33-852a-ccb773309c3b",
   "metadata": {},
   "source": [
    "## Latent Dirichlet Allocation (LDA) "
   ]
  },
  {
   "cell_type": "markdown",
   "id": "11082c12-bdc8-48d1-8c44-01db5a645bd8",
   "metadata": {},
   "source": [
    "The LDA model is based on the Dirichlet probability distribution. It assumes that documents sharing similar topics will utilize a common set of words, and latent topics can be discovered by identifying groups of words that consistently co-occur across the corpus. The model also assumes that each document belongs to a fixed number (K) of topics and initially assigns each word to one of the K topics randomly. Through iterative processes, the model improves the assignments until it reaches a steady state where the topic assignment becomes satisfactory. It is important to note that the model only assigns words to topics, and the interpretation of the topics is subjective.\n",
    "\n",
    "<br>`CountVectorizer` converts a collection of text documents to a matrix of token counts. \n",
    "- `max_df` is default to be 1. I set it at 0.95 to ignore words appear in 95% of the documents because they appear to frequently and may be corpus-specific stop words. \n",
    "- `min_df` is default to be 1. I set it at 2 to ignore words that appear in less than 2 documents because they might be to specific to that particular document/review. \n",
    "-  `stop_words='english'` is to remove English stop words, such as \"the\" and \"a.\"\n",
    "\n",
    "<br> Reference: https://scikit-learn.org/stable/modules/generated/sklearn.feature_extraction.text.CountVectorizer.html"
   ]
  },
  {
   "cell_type": "code",
   "execution_count": 37,
   "id": "72256317-7e8c-41ea-a697-5aa811cc3d96",
   "metadata": {},
   "outputs": [],
   "source": [
    "data = doc.Review_Text.values.tolist()"
   ]
  },
  {
   "cell_type": "code",
   "execution_count": 38,
   "id": "f9da7b2b-c7de-4228-8d36-5e011d00dfd2",
   "metadata": {},
   "outputs": [],
   "source": [
    "cv = CountVectorizer(max_df=0.95, min_df=2, stop_words='english')"
   ]
  },
  {
   "cell_type": "code",
   "execution_count": 39,
   "id": "001bfc99-1e1f-4265-8bf2-b429b340f0a9",
   "metadata": {},
   "outputs": [],
   "source": [
    "dtm = cv.fit_transform(data)"
   ]
  },
  {
   "cell_type": "markdown",
   "id": "7226f86f-1ecf-4c85-ac15-e8888aa097be",
   "metadata": {},
   "source": [
    "### Fit the LDA model \n",
    "`n_components=10` to set the number of topics at 10. It's the default setting and I believe 10 is a reasonable amount of topics."
   ]
  },
  {
   "cell_type": "code",
   "execution_count": 40,
   "id": "f29a7b0c-f89b-4f8c-9afa-e73c6573879a",
   "metadata": {},
   "outputs": [],
   "source": [
    "LDA = LatentDirichletAllocation(n_components=10, random_state=123)"
   ]
  },
  {
   "cell_type": "code",
   "execution_count": 41,
   "id": "487c474e-f93a-4e6e-92e9-9e60bfc5d7b6",
   "metadata": {},
   "outputs": [
    {
     "data": {
      "text/plain": [
       "LatentDirichletAllocation(random_state=123)"
      ]
     },
     "execution_count": 41,
     "metadata": {},
     "output_type": "execute_result"
    }
   ],
   "source": [
    "LDA.fit(dtm)"
   ]
  },
  {
   "cell_type": "code",
   "execution_count": 42,
   "id": "85ca8be9-cff7-400c-b477-45471d32416a",
   "metadata": {},
   "outputs": [
    {
     "data": {
      "text/plain": [
       "array([[0.10000665, 0.10004065, 0.10002101, ..., 0.1       , 0.1       ,\n",
       "        0.10002772],\n",
       "       [0.1       , 0.10002826, 0.1000154 , ..., 0.1       , 0.10001068,\n",
       "        0.1       ],\n",
       "       [0.1       , 0.10002399, 2.49721213, ..., 0.10001403, 0.10000414,\n",
       "        0.1       ],\n",
       "       ...,\n",
       "       [0.10001859, 0.10001246, 4.25452725, ..., 0.10000457, 0.10000575,\n",
       "        0.91279802],\n",
       "       [0.10001072, 0.10000373, 0.10003355, ..., 0.10001327, 0.10000074,\n",
       "        0.10000714],\n",
       "       [0.10000834, 0.10000651, 2.60822494, ..., 2.91063021, 0.14619041,\n",
       "        0.10004074]])"
      ]
     },
     "execution_count": 42,
     "metadata": {},
     "output_type": "execute_result"
    }
   ],
   "source": [
    "LDA.components_"
   ]
  },
  {
   "cell_type": "markdown",
   "id": "b3a83f43-85f8-4cbb-9c90-c8cff0c70f6c",
   "metadata": {},
   "source": [
    "### Print out top words for each topic\n",
    "I print out top 15 words for each topic to see if I can get some information about the semantic topics but it's not easy to infer. "
   ]
  },
  {
   "cell_type": "code",
   "execution_count": 43,
   "id": "8a48f53c-2c42-4201-a921-2239ee37f4e5",
   "metadata": {},
   "outputs": [
    {
     "name": "stdout",
     "output_type": "stream",
     "text": [
      "The top 15 words for #0\n",
      "['trip', 'parade', 'close', 'train', 'stay', 'make', 'visit', 'old', 'experience', 'ride', 'year', 'hotel', 'time', 'day', 'hongkong']\n",
      "\n",
      "\n",
      "The top 15 words for #1\n",
      "['picture', 'universal', 'fun', 'bay', 'sunny', 'station', 'character', 'christmas', 'visit', 'love', 'mouse', 'mtr', 'hongkong', 'mickey', 'train']\n",
      "\n",
      "\n",
      "The top 15 words for #2\n",
      "['crowd', 'kid', 'long', 'line', 'place', 'time', 'visit', 'small', 'child', 'people', 'ride', 'hongkong', 'staff', 'food', 'queue']\n",
      "\n",
      "\n",
      "The top 15 words for #3\n",
      "['fun', 'open', 'line', 'close', 'time', 'big', 'great', 'day', 'attraction', 'like', 'mountain', 'visit', 'hongkong', 'small', 'ride']\n",
      "\n",
      "\n",
      "The top 15 words for #4\n",
      "['hongkong', 'great', 'visit', 'queue', 'hour', 'small', 'fun', 'minute', 'food', 'long', 'line', 'day', 'wait', 'ride', 'time']\n",
      "\n",
      "\n",
      "The top 15 words for #5\n",
      "['small', 'gulch', 'mickey', 'day', 'queue', 'kid', 'mystic', 'grizzly', 'like', 'story', 'time', 'toy', 'space', 'mountain', 'ride']\n",
      "\n",
      "\n",
      "The top 15 words for #6\n",
      "['character', 'lion', 'king', 'great', 'kid', 'experience', 'small', 'enjoy', 'visit', 'firework', 'hongkong', 'day', 'ride', 'parade', 'food']\n",
      "\n",
      "\n",
      "The top 15 words for #7\n",
      "['recommend', 'worth', 'early', 'wait', 'kid', 'queue', 'crowd', 'parade', 'visit', 'small', 'time', 'great', 'hongkong', 'ride', 'day']\n",
      "\n",
      "\n",
      "The top 15 words for #8\n",
      "['family', 'child', 'fun', 'hongkong', 'love', 'time', 'great', 'year', 'old', 'day', 'ride', 'enjoy', 'visit', 'kid', 'place']\n",
      "\n",
      "\n",
      "The top 15 words for #9\n",
      "['visit', 'character', 'queue', 'hongkong', 'firework', 'place', 'bring', 'parade', 'pm', 'food', 'buy', 'ride', 'day', 'time', 'ticket']\n",
      "\n",
      "\n"
     ]
    }
   ],
   "source": [
    "for index,topic in enumerate(LDA.components_):\n",
    "    print(f'The top 15 words for #{index}')\n",
    "    print([cv.get_feature_names()[i] for i in topic.argsort()[-15:]])\n",
    "    print('\\n')"
   ]
  },
  {
   "cell_type": "code",
   "execution_count": 44,
   "id": "7a093ad8-e884-4865-b6e5-75baea209b2d",
   "metadata": {},
   "outputs": [],
   "source": [
    "topic_results = LDA.transform(dtm)"
   ]
  },
  {
   "cell_type": "code",
   "execution_count": 45,
   "id": "d528213e-52cf-4470-a362-ce9876456ace",
   "metadata": {},
   "outputs": [],
   "source": [
    "doc['LDA_Topic'] = topic_results.argmax(axis=1)"
   ]
  },
  {
   "cell_type": "code",
   "execution_count": 46,
   "id": "e9531039-4a74-424e-ad99-2bb401004a32",
   "metadata": {},
   "outputs": [
    {
     "data": {
      "text/html": [
       "<div>\n",
       "<style scoped>\n",
       "    .dataframe tbody tr th:only-of-type {\n",
       "        vertical-align: middle;\n",
       "    }\n",
       "\n",
       "    .dataframe tbody tr th {\n",
       "        vertical-align: top;\n",
       "    }\n",
       "\n",
       "    .dataframe thead th {\n",
       "        text-align: right;\n",
       "    }\n",
       "</style>\n",
       "<table border=\"1\" class=\"dataframe\">\n",
       "  <thead>\n",
       "    <tr style=\"text-align: right;\">\n",
       "      <th></th>\n",
       "      <th>Review_Text</th>\n",
       "      <th>Topic</th>\n",
       "      <th>Doc_ID</th>\n",
       "      <th>LDA_Topic</th>\n",
       "    </tr>\n",
       "  </thead>\n",
       "  <tbody>\n",
       "    <tr>\n",
       "      <th>0</th>\n",
       "      <td>find hongkong similar layout walk street famil...</td>\n",
       "      <td>-1</td>\n",
       "      <td>0</td>\n",
       "      <td>3</td>\n",
       "    </tr>\n",
       "    <tr>\n",
       "      <th>1</th>\n",
       "      <td>last time visit hongkong time stay tomorrowlan...</td>\n",
       "      <td>-1</td>\n",
       "      <td>1</td>\n",
       "      <td>5</td>\n",
       "    </tr>\n",
       "    <tr>\n",
       "      <th>2</th>\n",
       "      <td>thanks god hot humid visit big issue shadei ar...</td>\n",
       "      <td>20</td>\n",
       "      <td>2</td>\n",
       "      <td>6</td>\n",
       "    </tr>\n",
       "    <tr>\n",
       "      <th>3</th>\n",
       "      <td>hongkong great compact unfortunately bit maint...</td>\n",
       "      <td>43</td>\n",
       "      <td>3</td>\n",
       "      <td>3</td>\n",
       "    </tr>\n",
       "    <tr>\n",
       "      <th>4</th>\n",
       "      <td>location city take hour kowloon kid like fine ...</td>\n",
       "      <td>47</td>\n",
       "      <td>4</td>\n",
       "      <td>7</td>\n",
       "    </tr>\n",
       "    <tr>\n",
       "      <th>5</th>\n",
       "      <td>anaheim tokyo feel hongkong small call way rid...</td>\n",
       "      <td>-1</td>\n",
       "      <td>5</td>\n",
       "      <td>2</td>\n",
       "    </tr>\n",
       "    <tr>\n",
       "      <th>6</th>\n",
       "      <td>great place day wo know obviously go daughter ...</td>\n",
       "      <td>-1</td>\n",
       "      <td>6</td>\n",
       "      <td>7</td>\n",
       "    </tr>\n",
       "    <tr>\n",
       "      <th>7</th>\n",
       "      <td>think intro magic little one attraction comple...</td>\n",
       "      <td>-1</td>\n",
       "      <td>7</td>\n",
       "      <td>9</td>\n",
       "    </tr>\n",
       "    <tr>\n",
       "      <th>8</th>\n",
       "      <td>feel let placethe train fantastic past station...</td>\n",
       "      <td>26</td>\n",
       "      <td>8</td>\n",
       "      <td>4</td>\n",
       "    </tr>\n",
       "    <tr>\n",
       "      <th>9</th>\n",
       "      <td>talk say childhood dream come true start entra...</td>\n",
       "      <td>24</td>\n",
       "      <td>9</td>\n",
       "      <td>9</td>\n",
       "    </tr>\n",
       "  </tbody>\n",
       "</table>\n",
       "</div>"
      ],
      "text/plain": [
       "                                         Review_Text  Topic  Doc_ID  LDA_Topic\n",
       "0  find hongkong similar layout walk street famil...     -1       0          3\n",
       "1  last time visit hongkong time stay tomorrowlan...     -1       1          5\n",
       "2  thanks god hot humid visit big issue shadei ar...     20       2          6\n",
       "3  hongkong great compact unfortunately bit maint...     43       3          3\n",
       "4  location city take hour kowloon kid like fine ...     47       4          7\n",
       "5  anaheim tokyo feel hongkong small call way rid...     -1       5          2\n",
       "6  great place day wo know obviously go daughter ...     -1       6          7\n",
       "7  think intro magic little one attraction comple...     -1       7          9\n",
       "8  feel let placethe train fantastic past station...     26       8          4\n",
       "9  talk say childhood dream come true start entra...     24       9          9"
      ]
     },
     "execution_count": 46,
     "metadata": {},
     "output_type": "execute_result"
    }
   ],
   "source": [
    "doc.head(10)"
   ]
  },
  {
   "cell_type": "code",
   "execution_count": 47,
   "id": "1cd54fad-6a4e-4461-9bac-73814e8afbe2",
   "metadata": {},
   "outputs": [],
   "source": [
    "doc.to_csv('../data/topics.csv') #Save the clustering results by HDBSCAN and LDA for ChatGPT prompt engineering"
   ]
  },
  {
   "cell_type": "markdown",
   "id": "f45398d1-abe4-4c20-b763-62b118d9022b",
   "metadata": {},
   "source": [
    "### Inferring topics clustered by LDA\n",
    "After look at the top 15 words per topic, I cannot identify semantic topics so I print out 10 random samples from each topic to infer. \n",
    "<br>**Inferring semantic topics**\n",
    "- `Topic 0`: Countries and cities \n",
    "- `Topic 1`: Train, travel\n",
    "- `Topic 2`: Food, rides \n",
    "- `Topic 3`: Small, fun experience \n",
    "- `Topic 4`: Rides, long line, queue \n",
    "- `Topic 5`: time, timing \n",
    "- `Topic 6`: Character, tour, travel, attraction \n",
    "- `Topic 7`: Recommend, worth visiting \n",
    "- `Topic 8`: family, best, fantastic \n",
    "- `Topic 9`: Travel, ticket, rides, directions"
   ]
  },
  {
   "cell_type": "code",
   "execution_count": 48,
   "id": "4ef6ce53-fca7-4ef3-8777-96fe28719f7b",
   "metadata": {},
   "outputs": [
    {
     "name": "stdout",
     "output_type": "stream",
     "text": [
      "Five random reviews for topic #0\n",
      "[['europe well thank hongkong match perfectly leave usa florida california florida beat match look original california florida fun junlge epcot studio fantasy al reachable roadl back hongkong say fight ocean well someting nice ocean ocean see competition bentley roll royce matter taste education kid endlessly fun experience entrance expert year silver card far cheap family comeptitors family cost money thrill nice street still street usa fill chinese hongkong miss']\n",
      " ['see state hongkong make difference especially child welcome spring entrance enthralls mass child clean bowl entry toy train internal stationmore']\n",
      " ['year old son single day perfect saw go ride eat laugh photo buzz light year age day maybe old kid day mess art ultra keen magic happen']\n",
      " ['small easily complete ride day crowd week weekend tolerable customer service par expand sooner exciting']\n",
      " ['first visit beautiful clean see sightsee hongkong wait untill dark see lightshow']\n",
      " ['way decide back mongkok shopping saw people line night parade say bye shop sit front row day parade great night parade incredible fantastic beautiful music make body dance hahaha joyful moment love character especially buzz woody']\n",
      " ['old son florida california hongkong love hongkong facility beautiful line short weve see go week chinese new year feb nd rd sun weather cool staff lovely fluent chinese english cantonese food reasonably price son travel budget able afford lunch dinner sandwich small dish tahitian terrace dinner banquet hall day easy hongkongs metro system sunny bay travel tst minute metro sunny bay mickey theme well son nearly exploded excitement day perfect length time rode favorites multiple time interacted talk trash can hour tomorrowland meander street take fabulous show glorious time incidentally small ice cream fantastic']\n",
      " ['short hongkong offer halloween ocean parkdisney go trouble year halloweenthe last time visit halloween program excellent scary haunt hotel fantastic walk attraction actor dress halloween costume mingle crowds wonderful parade ghostly spectres dance streetsadly repeat offer lame entertainment ghost rise dozen actor dress white walk pose photo crowd apparently act story last minute tell stay end bore haunt grizzly gulch old guy walking stage swing lantern guy dress black wear cowboy hat follow stage next see cowboys puppet horsei see enoughthe final halloween attraction curse emerald trinity jungle river cruise night bit green fog scary cantoneseim sure change hongkong waste time return lame halloween want halloween reason thats fine advertise halloween program kid exit dressed leave bitterly disappointed waste time turn pumpkin light street sad']\n",
      " ['attraction visit hongkong amazing experience minute step magical background music navigation inside easy use hongkong apps apps give real time update show helpful find apps fun day']\n",
      " ['live florida wdw ton time family care find pretty tolerable free day hongkong recently sister convinced accompany ehr hongkong reluctanlty agree becasue arrnaged roeuntrip transfer peninusla hotel roll royces weather eprfect pelasantly surprise see crowds go ride want wait thna minute fo aprk small wnated couple hour charge go wdw florida reocmmend who dieny time kill hongkong']]\n",
      "\n",
      "\n",
      "Five random reviews for topic #1\n",
      "[['walk path alone serene christmas song backgroundi awestruck like child come early morninggreeted surfboard mickey top big whale moby theres pluto mind self shot lovely mid november sky solo']\n",
      " ['easy use mtr change sunny bay station shuttle service resort expect theme stuff go train mickey shape window hang hand grip mickey shape statue character carafes go february damp day overly busy queue time minute kind priority board ticket walt florida still hugely impressed smile whole visit real mixture east west theme go similar way still feel new building work go castle result train work detract day log wi fi hongkong voucher enjoy toy story classic area tomorrow rebranded star war marvel hong king part short break celebrate birthday recommend take time visit old']\n",
      " ['fairytale place visit hongkong easy cheap way take mrt']\n",
      " ['wife friends fall love itour next honeymoon trip lounge againsoon well']\n",
      " ['disappoints wonderfully magical place visit hongkong couple friend state yearly hongkong small comparison magical show happen day long character walk street suprise attend show american english speaker greet bilingual show find entertain go november decorate christmas theme christmas parade wonderful fake snowfall friend miss snowy winter weather home fantastic surprise load snow shot crowd flash christmas light festive musicwould definitely recommend visit hongkong people age truly happy place earth believe begin expand soon double size']\n",
      " ['small original still fun fair way travel reach train hongkong central']\n",
      " ['hongkong first experience magical visit winter season week christmas festive decoration amaze giant christmas tree favorite ride space mountain golden mickey show see']\n",
      " ['ive disneyland wow love magic begin soon direct train window shape mickey head little figurines size take friend complete hour go friday ques long shame character well worth visit']\n",
      " ['catch mtr tsim sha tsui simple take train lantau island follow correct color cod train station fun enjoyable entrance fee bit pricey great day attraction especially child']\n",
      " ['iam love hongkong disneylandwe go day beautiful awesomeits huge spread wide areathe ride superbwe enjoyed character walt disneythe best theme see']]\n",
      "\n",
      "\n",
      "Five random reviews for topic #2\n",
      "[['euro hear visitor push shove shout scream kid allow child wee bottle spit queue cut true small child parade adult barge stood right front hot humid weather aggravate whole experience unpleasant give big kudos cast member help professionally manage situation smile heat tokyo place plan visit soon']\n",
      " ['first time enjoy full eventhough childhood totally dislike people tend cut queue saw child defecation plastic bag musical show totally gross']\n",
      " ['back pluses minus plus side kid love decent ride small village cute beauty aroundon negative side small expect ride think queue long']\n",
      " ['newly open shanghai time big hongkong toilet hongkong luckin shanghai price food inside theme high people allow bring food']\n",
      " ['experience bore visit time rid well manage staff kindly assist visitor toilet maintain clean cozy find easily night area bite tio dark still okay senior people walk slowly electrical parade fantastic finish staff need improve control people area right direction']\n",
      " ['understand crowd hot humid hongkong summer understand rude visitor clearly hongkong local cut line attraction food bathroom common trick parent let kid burrow way front line parent push away people wait line kid mean push people smoke enforcement rule definitely return bought day ticket return second day stick disneyland hongkong positive note staff baby nursing station nice helpful']\n",
      " ['fun family problem push cut line mainland chinese']\n",
      " ['third visit hongkong go first week open young child back twice kid love crowd control quees match ride short staff typical level engage training run adventure allow customer enter raft time add insult injury give lengthy delay saw set character frozen meeting guest photo shoots piano tricycle hour staff interested patron interested joke themselvesno character walk like ive see anaheim hongkong pastvery expensive way access merchandise store hongkong manage ride hour ate average hotdog stand seat food hallsthere need limit number patron permit time substantial reduction current limit hongkong poor value money proud ofsave money']\n",
      " ['ive twice bit comparison attraction wise change first visit year hongkong progress quick entertainment go previously entertainer go princess take photos kid band use garbage guy stilts second time chip right entrance take photo later stitch area entertainer meet whole day massive decrease entertainer compare year ago thats let kid hop meet character worldbut real problem lie queue average need minute queue time ride express lane system gain fast pas ticket popular ride state time back fast entry ride problem fast pass hold earlier expire major problem example take fast pas pm fast pas state need back ride pm definitely long hour need back ride pm ride wait expire pm take fast pas ride imagine take fast pas pm require back pm long meantime regular queue still stand line minute spend effort try effective time need effective im small child time queue minute child cranky take long ride attraction incident group people try cut queue patiently wait line try best control child wait patiently line family speak english well tried cut front last straw scene direct fault staff attention board notify queue line may cut front need influx non english speaking tourist tend decent manner modern societyoverall hongkong tag line happy place anymore definitely happy']\n",
      " ['daughter visit hongkong last week birthday treat unpleasant day due heat crowds evidence magic crowd people sweat queue min wait ride inadequate ride facility air condition space mountain mystic manor worthwhile rest worth effort stand temp wait line know rethink queue area air condition possible arrive opening time degree summer earlier opening time heat badi read trip advisor ride suit young year thats true take year old son summarise theme child rid happen theme aim local may opportunity travel abroad witness real magic']]\n",
      "\n",
      "\n",
      "Five random reviews for topic #3\n",
      "[['compare usa asian version small modest parkconsidering population increase wealth area awaken chinese people entertainment think great brand great everhope plan explore amaze market outstanding attraction']\n",
      " ['review mention small comparison florida thats true take term great fun spend nearly hour see think thats big day trip compact size positive ride zone take time ride attraction genuinely top class adult kidsall best time live parade go past new iron man ride awesome especially hongkong specific lion king show impressive hyperspace mountain wonderful example update ride relevant year year race car ride toy story zone runaway mine cart fun short queue top western coca cola cafe street serf food yes expensive wagyu beef burger second best ive move second butcher club anyway wonderful place day trip']\n",
      " ['live enjoy brand interpret site abroad love unique experience thought show class experience recommend open ride like avoid line crowd quickly']\n",
      " ['hongkong small compare city spot game similar lack finish walk play short time usa japan surprise worth visit may like try']\n",
      " ['first trip visit love place especially christmas haunt mansion nightmare awe transformation small beautiful ca wait back']\n",
      " ['time anxious see like love slower pace wdw crowd definitely come back']\n",
      " ['great time kid year work major improvement castle closed remodel paint improvement underway implement little surprise classic ride fan notice change']\n",
      " ['whole hard say hongkong best im say fun little bit fracture compare land exist harmonious find difference quality attraction mystic manor best ride build grizzly gulch mine train best roller coaster property best attraction surround well theme landthe new iron man attraction ok worth trip alone food hit miss depend eat day visit day visit']\n",
      " ['first visit fantastic orlando wdw time may small size still excitement ride age sure wait last night watch firework wind blow interstate firework cancel']\n",
      " ['first time im big fan look ride walk area area take photo tiny group start try ride wemore']]\n",
      "\n",
      "\n",
      "Five random reviews for topic #4\n",
      "[['california florida web review hongkong may small disappointingwhilst still work progress new addition come grizzly gulch mystic point keen come back see changedthere issue queue experience straight walk attraction young childrens rideskids happy day spend day maximum time requiredthe site clean ride attend specific english session stitch adventure easy access character reasonably pricedwas easy mtr']\n",
      " ['spent half day love first experience family want want spend day queue son age star war stage daughter age princess bits big ride queue hour time give time actually see surroundings queue timefor brilliant introduction amazing time']\n",
      " ['visited day easter holiday break knew busy year old kid line ride minute line well organise behavedmore']\n",
      " ['price order way people wait minute line peter pan second ride wait minute line picture character photopass worth mobile make quality picture plus photographer']\n",
      " ['hongkong family business trip day kill take plane home hongkong choice easy metro train kid wonderful time attraction cater young oneswe time ride see shows people ride times favorite game buzz lightyear pre halloween special scary attraction set ghoulish pirate prowl fun food surprising westerner nice healthy asian food usual greasy hamburger friends nice change sadly time see famous firework tell amaze']\n",
      " ['awesome day see pram central line ride long wait ferris wheel want ride monies worth waste time line disappoint ride close castle cover parade awesome day']\n",
      " ['think kid enjoey excite adult need take photo doll line long time']\n",
      " ['magic hour rain great busy busy recommend fast pas sure']\n",
      " ['first experience advise take day pas food work cheap visit attraction ride day']\n",
      " ['go april thursday day start overcast ok soon step special subway car sky open start pour turn decided anyway end rain sodden expectation let believe prior reviewer right small expensive entry ticket see prc tourist pushy crowd entry let water bottle snack maybe lenient rain food expensive hongkongd coffee oz size ok maybe im slightly exaggerate still expensive oz starbucks mocha weak watery version hot chocolate price size turkey leg small ca still tasty think hongkongd corn hongkongd range kid like cuttlefish ball double street price hongkongd still deal coffee rainy cold wouldve coffee french fry best pip hot fryer crispy tender soft inside fantastic wet cold day way adult rain poncho hongkongd hongkongd drugstore ill say marginally make thicker plastic snap side cute logo back definitely reuse rain unexpected benefit slow empty wet boat general air camaraderie line wait jungle cruise min autopia min min see winnie pooh ride long line fast pass return even line anyway time pass like go state time range cm wave buzz lightyear time row wait husband space mountain time jungle cruise twice mandarin english see state big fire actually warm little rain allow ride want time wanted wait figure philharmonic best see back second time sit back last one crowd enter leave move right middle long row seat go back looped way right move backwards leave great seat middle first one rain huge benefit people interested ridesthis definitely new jungle cruise animal brighter clean generally look new autopia car electric like horrible fume cool series noise step gas thunder mountain roller coaster equivalent fantastic merge yeti animal kingdom come excellent fun surround water play area well toy story nicely detailed ride little kid people pose pix rain stitch show worth go reviewer cantonese show english entertain parade due rain luckily fireworks still maybe overcast fog impressive like wish time favorite still entertain leave end completely hassle free easily seat mtr car people leave park mtr crowd hit red line stand room onlyhongkong god job handle rain mat soak water mopping need plastic umbrella bag cms smiley smiley tend think thats chinese general wonder tokyo want sunny weekend choice rainy thursday open hour definitely pack money worth especially discount tix ct hongkong excellent rainy day']]\n",
      "\n",
      "\n",
      "Five random reviews for topic #5\n",
      "[['watch diney fireworks personal favorite space mountain lion king philharmonic river cruise']\n",
      " ['go st december new year eve easily accessible train bus taxi travel agent cost inside hongkong entrance give dimensional spec dark street place tremendous beautiful full shop sell goody restaurant route parade picture mickey cartoon character tommorrowland spacelike place space mountain buzzyear space diner unable enter stitch performance due high queue fantasyland suitable young age adventureland favourite part jungle cruise saw fake animal trust look real fun tour guide cruise funny friendly watched lion king festival kind well peformed thumb recommend lose spectacleshaha firework pm excellent short longer go back pm tiring amaze']\n",
      " ['travel hongkong business go solo traveler first experience ive universal ferrari dream comparison think suitable kid selective ride adult check map see elaborate little like walk snow white castle wish well fairy garden actually theres experience go ticket entry easy machine ticket pm finish section finish ride adult hyperspace ride tomorrow big grizzly mountain ride give adrenaline rush magical musical show mickey like toy story parachute fall there ferry ride visit tarzan tree house boring take adventure boat ride recommend kid there train ride idea attraction crowd lion king concert flight catch pm parade start short carriage min leave heard light show night wait flight thought need full day kid come leave come stay back night show extremely crowd queue bearable go weekday weekend think theme small plan day recommend kid adult']\n",
      " ['line go labor day holiday able try attraction thumb mystic manor big grizzly mountain runaway mine car theater feature donald duck buy ref magnet souvenir caramel popcorn']\n",
      " ['come expectation enjoy great time minute train way leave hot shelter find respite ride shop rid day leisurely pace especially busy ride longer minute wait go weekdaythere unique feature mystic manor character meet like cookie friend duffy lilo herethe food expensive variety dedicate ice cream store churro cart etcwith little crowds experience castle small theyre upgrading transport city easy surprisingly quick leave paint night parade']\n",
      " ['go monday great timing crowdedlate lunch japanese food banquet hall snack mickey mouse waffle corn cob turkey leg korean grill squid surprisingly food theme parkrides kid enjoy space mountain big grizzly mountain autopia slinky firework display cap day end pm budget permit stay hotel night idea highly recommend fan young young heart']\n",
      " ['try dare ride rc ride space shuttle']\n",
      " ['go hongkong nov thu elderly kid age disneyland truly enjoy onewe reach pm leave pm ride end pm complete ride show felt shd make full day eventthe crowd ride wait time minswe ate bbq turkey set comet cafe tomorrowland food cold taste averagemy kid favourite parade firework river cruise adventureland']\n",
      " ['average wait time popular ride min back future replace ironman guess buzz lightyear remove hyperspace mountain bright windy open eye crazy non high speed roller coaster ride prefer grizzly gulch roller coaster speed varies include backward ride theres cycle high speed ride bearable hyperspace mountainfood expensive expect average hongkongd meal']\n",
      " ['place magical say least loved way small definitely cover aspect theme find right theme mtr train mickey mouse windows character shape plant inside amazingthe best way reach mtr take tung chung line interchange resort line sunny bay mtr stationthe divide theme land namely fantasyland tomorrowland adventureland toy story grizzly gulch street usa ride popular one buzz lightyear astro blaster space mountain adventure winnie pooh crowd day fast pas facility ensure beat queue fast pas ticketwhen enter first try take ride time rest adventure winnie pooh fantasyland buzz lightyear astro blaster space mountain tomorrowland recommend golden mickey show fantasticthe flight fantasy parade pm check daily schedule exact timing fun parade character wave music great celebration view parade street usa try reach early crowdedthere din option recommend festival food royal banquet hall fantasyland food bit expensive thats expect herefinally miss star fireworks show absolutely spectacular display fireworks best viewed street usahongkong kid age bring child take home memory relish']]\n",
      "\n",
      "\n",
      "Five random reviews for topic #6\n",
      "[['far memorable trip daughterworth pennywe jan last day fireworks close yearthe ride character meeting top classa compact well maintain']\n",
      " ['start trip pm still attraction big tokyo soend time food drink expensive ususal']\n",
      " ['go felt like take back princesses day kid heart place relive ride kid friendly still try like space mountain ride best toy story ride adult stroll marvel work greatly surround course highlight firework display sleep beauty castle highly accessible food inside pricey enjoy shop goody photo ops schedule love enjoy parade show sure schedule roam ride line schedule showsvisited november']\n",
      " ['expect firework whole experience long queues premium pass bypass bummer literally live character kid chance seethey soo disappoint parade save grace visual treat glad stay back plus hidden gem vegetarian indian thali chance told there veg option super happy decent indian foodit need attraction ides felt repetitive zone']\n",
      " ['activity sure visit hongkong activity kid lion king show watch']\n",
      " ['great day hongkong spacious crowd ride stage street california sleep beauty castle busy california hong king busy parade whichis california parade still nice see ride long queue anuway worth wait ride greatkids enjoy stage live show festival lion king mickey wonderous story book amaze airconditined stage teally great hot weather electric parade fire work nice shop stuff california meet greet character everyday find princessesmickey minnie time great visit hongkong donr put comparison wdw']\n",
      " ['time last visit mainly try new like mystic house day reasonable cost grandchild enjoy ithey need change parade year']\n",
      " ['friend take nice size roam rid fun price ok spent day']\n",
      " ['friend visit december last year first time experience abroad enjoy theme attraction landscape food insideits worth ifmore']\n",
      " ['huge one la orlando half size miss parade hot visit aug ensure adequate water take food issue vegetarian amplemore']]\n",
      "\n",
      "\n",
      "Five random reviews for topic #7\n",
      "[['hongkong small compare one crowd long queue attraction']\n",
      " ['visit last day holiday hongkong love small one easily cover hour recommend visit early weekday avoid line long wait min food expensive usual place expect place like ride especially space mountain grizzly gulch']\n",
      " ['july group spend day day hot rain people crowd wait least minute ride waste time waitingreally enjoy firework']\n",
      " ['place truly awesome helpful staff easy find help guidemaps give food may challenge christmas day place swarm people best awesome part float fireworks definitely visit']\n",
      " ['day fun hongkong nd time visit recommend day pas attraction weather perfect go dec walk hot cold new attraction toy story magic mansion long rid food expensive ok able see enjoy place offer happy place earth']\n",
      " ['start day early long queue worth wait forsay ridesthe mickey showthe shop caf totally awesomeoutside eatable allow insidewe day pass small kid think day nice placedo wait pm firework amaze']\n",
      " ['crowd huge still great day enjoy faster rides sure take advantage fast track ride avoid ques plan day miss character picture session parade night fantastic early']\n",
      " ['visit euro hongkong deja vu similar layout easy find routes attraction nice day visit week day wednesday attraction walk max minute wait time visit early local like early start come lunch still remain empty day afternoon still queue queue minute character meetgreet']\n",
      " ['leave today enter yesterday tomorrow fantasy apt place weather nice teenage child fun ride little one excite clicked legendary mickey minnie mouse night parade nice firework end day amazing visit hongkong']\n",
      " ['arrive wednesday afternoon full day leave saturday morning read review crowd long wait im sure happen wait minute ride grizzly gulch best ride times half hour absolutely wait last ride stay resort hotel glad desert least half room balcony there hollywood hotel room balconywalked minute magnificent desert boulevarde people take shuttle bus miss take side entrance minute walk drop offback disneylanddid arrive midday wait inits small disney still funread report queue jumper experience bit give short wait real issue mo little kid way front queue stop theyre little kid push hot pursuit second later mum dad rest family frantically look time realise whats happen theyre gonei reckon food reasonably price reasonable quality give theyve captive market charge serve crap wantread report compare ocean opinion there real comparison theme style synergy there eithertips id give train ride miss run perimeter ca see tree cross bridge somethingif sure pack umbrellas buy collapsibles hongkong market hongkong best investment hongkongif mind rid avoid queue go ride single rider entrance notice people instant ride thismake sure miss flight fantasy parade pm happens daymake sure miss firework night pmhave fun disney']]\n",
      "\n",
      "\n",
      "Five random reviews for topic #8\n",
      "[['like family purpose hongkong trip first visit compare specially year old girl like go weekday ques think day']\n",
      " ['first time visit love river cruise small roller coaster fun train nice ride fun line queue long visit castle close restaurant open noon wish open lil bit earlier recommend visit place nice spend time friends family']\n",
      " ['take year old daughter grandparent year daughter love easy navigate day paratrooper ride excellent year old pity scream hard daughter head back first avoid extremely long line worth visit hongkong online show time worth watch help plan route']\n",
      " ['magical fun place perfect young kid aswell ride cater year old huge easy special fun day parade great fun lovely see character son favourite ride buzz lightyear ride go time adore small take back go year special place age well drive crazy blatant queue barge chinese keep elbow sharpen let push past seriously audacity unbelievable']\n",
      " ['great time come back year indiana jones ride still amazing kid love corny jungle tour weary buying extend magic hour stay resort day week kid still blast']\n",
      " ['enjoy cartoon small area need spend energy']\n",
      " ['second time come back iron man usual place bring kid hongkong tour complete enjoy night glow parade ftom firework']\n",
      " ['magical day whole family catch magic well worth go whole attraction spotless fun whole family make brilliant memory']\n",
      " ['family visit day transit say smile round great time take long ride great time']\n",
      " ['little bit small compare attraction perfect little kid go family niece totally love place']]\n",
      "\n",
      "\n",
      "Five random reviews for topic #9\n",
      "[['know amaze atmosphere attention detail unfortunately high price crowd level detract experience definitely life right early day project crowd max pas fast pass wisely popular ride charge extra max pas worth example greedy shell ton buck simply bring snack buy expensive food mealfollow advice great time still spend worth']\n",
      " ['arrived time leave see entire fun first experience like walkable food super expensive least sure bring lunch snack']\n",
      " ['beautiful experience hongkong visit visit miss idea take train ride first give perspective parkcomfy shoe carry water bottle one sell expensive take minute plan visit help map visit website check ride area thrill mostit may small compare florida positive finish completely day']\n",
      " ['place entrance ticket ride inside free especially liked firework night spectacular']\n",
      " ['kid plant see place place kid dream come true see food picture free recommend bring food locker hire food expensive onsite cater diet cosines enjoy']\n",
      " ['buy ticket online promotion go day fun activity kid adult willing join average height cm mistake play enjoy check hongkong website height requirement wanna spoil kid mood']\n",
      " ['find entertaining space huge convenient luggage hold area leave luggage hongkongd piece walk involve glad wore comfortable shoe clothes buy discount ticket klook problem inside go look ride thrill ride fun nonetheless impressed amount detail go create ride upkeep perfectly maintain chip paint see anywheredelicious food find eat survive tastebud take consideration manage take ride want still take show close even line longer hongkong resident come even annual pass rain anytime hongkong pack raincoat rain come handy mine train ride parade end day cool halloween season villain come play']\n",
      " ['family visit early march use day ticket discount give time visit attraction care still chance revisit couple kid favorites help queue bite short first visit year ago surprisingly noticeable difference crowd queue sunday monday visit new zone open challenge cover day buy ticket hotel stay need queue buy entry speedy security checking bag water bottle milk junior cause comment entry gate staff scan fingerprint adult enter second day plan rent stroller pay hongkongd deposit cash day forecast rain pay hongkongd deposit waterproof cover deposit back return stroller receipt maximum permit weight kg child heavy need bring stroller atm near stroller rental fortunately shops restaurant accept credit card try ice cream cart pay cash ride attraction suitable year old nice look big adrenaline rush go pretty bored access ride restrict base height standard limit allow ride alone cm taller kid shorter cm allow ride tall guardian ride height restriction parade start pm take minute pass point route adult orient piece entertainment golden mickey legend lion king show attraction close firework display start pm still shop dine big rush mrt station firework food restaurant reasonably price portion large choice limit chinese dish desire royal banquet hall restaurant western japanese dish menu shop sell branded souvenir toy merchandise find price reasonable end buy item family friend well organized staff competent toilet tidy easily foundi find visit first weather hot humid rain bit temperature pleasant celsius minimal rain forecast slight drizzle minute morning maybe cold winter weather explain queue short first visit family enjoy visit september visit universal studio singapore']\n",
      " ['first experience year old daughter go weekday surposed quieter arrive long meet large cue third ticket office open minute wait pay tell look girl go wear kind frozen clothing go interest frozen village reason take daughter bearing read site map fight head frozen village small amount ticket show allocate first come basis arrive told ticket give want see show enter village stand waityou pm tell expect stand hour blaze sun year old leave see rest come back pm try later showswe still stand nearly hour least cooler show meeting olaf sleigh ridebut close indoor snow village chance play way organise thisthe rest stay close pm manage ride grab quick burger time hoursyou need day ticket want chance ridesexpensive ride short show']\n",
      " ['grow dream princess time plan day prioritize ride show want experience food price sandwich whole day know cheapskate well kidsread buy merch give kid visit theyll know']]\n",
      "\n",
      "\n"
     ]
    }
   ],
   "source": [
    "i = 0\n",
    "while i < len(doc.LDA_Topic.unique()):\n",
    "    print(f'Five random reviews for topic #{i}')\n",
    "    print(doc.loc[doc.LDA_Topic == i, ['Review_Text']].sample(10).values)\n",
    "    print('\\n')\n",
    "    i += 1"
   ]
  }
 ],
 "metadata": {
  "kernelspec": {
   "display_name": "Python [conda env:top_modeling_disney]",
   "language": "python",
   "name": "conda-env-top_modeling_disney-py"
  },
  "language_info": {
   "codemirror_mode": {
    "name": "ipython",
    "version": 3
   },
   "file_extension": ".py",
   "mimetype": "text/x-python",
   "name": "python",
   "nbconvert_exporter": "python",
   "pygments_lexer": "ipython3",
   "version": "3.8.16"
  }
 },
 "nbformat": 4,
 "nbformat_minor": 5
}
