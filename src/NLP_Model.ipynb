{
 "cells": [
  {
   "cell_type": "code",
   "execution_count": 1,
   "id": "f8eba06c-016f-4138-904f-968b4d41124b",
   "metadata": {},
   "outputs": [],
   "source": [
    "import numpy as np\n",
    "import pandas as pd\n",
    "import altair as alt\n",
    "import string\n",
    "import nltk\n",
    "from nltk.stem import PorterStemmer, WordNetLemmatizer\n",
    "from nltk.corpus import wordnet\n",
    "from nltk.tokenize import RegexpTokenizer\n",
    "from nltk.corpus import stopwords\n",
    "from wordcloud import WordCloud, STOPWORDS\n",
    "import tkinter\n",
    "import matplotlib\n",
    "import matplotlib.pyplot as plt\n",
    "from PIL import Image\n",
    "from textblob import TextBlob\n",
    "\n",
    "alt.renderers.enable('mimetype')\n",
    "alt.data_transformers.disable_max_rows()\n",
    "matplotlib.use('TkAgg')"
   ]
  },
  {
   "cell_type": "code",
   "execution_count": 2,
   "id": "d79e50ba-7855-4246-a355-f27e8234642a",
   "metadata": {},
   "outputs": [],
   "source": [
    "disney_df = pd.read_csv(\"../data/raw/DisneylandReviews.csv\")\n",
    "reviews = disney_df['Review_Text']"
   ]
  },
  {
   "cell_type": "code",
   "execution_count": 3,
   "id": "d15a467c-a23f-401c-9c9e-819fa1985104",
   "metadata": {},
   "outputs": [
    {
     "data": {
      "text/plain": [
       "0        If you've ever been to Disneyland anywhere you...\n",
       "1        Its been a while since d last time we visit HK...\n",
       "2        Thanks God it wasn   t too hot or too humid wh...\n",
       "3        HK Disneyland is a great compact park. Unfortu...\n",
       "4        the location is not in the city, took around 1...\n",
       "                               ...                        \n",
       "42651    i went to disneyland paris in july 03 and thou...\n",
       "42652    2 adults and 1 child of 11 visited Disneyland ...\n",
       "42653    My eleven year old daughter and myself went to...\n",
       "42654    This hotel, part of the Disneyland Paris compl...\n",
       "42655    I went to the Disneyparis resort, in 1996, wit...\n",
       "Name: Review_Text, Length: 42656, dtype: object"
      ]
     },
     "execution_count": 3,
     "metadata": {},
     "output_type": "execute_result"
    }
   ],
   "source": [
    "reviews  "
   ]
  },
  {
   "cell_type": "code",
   "execution_count": 4,
   "id": "2f9d3ccb-5369-400c-8a28-b07ee42aceb3",
   "metadata": {},
   "outputs": [],
   "source": [
    "def preprocess(text):\n",
    "    text = text.lower()\n",
    "    text = text.replace('hk', 'hongkong')\n",
    "    text = text.replace('hong kong', 'hongkong')\n",
    "    text = text.replace(\"n't\", \" not\")\n",
    "    return text"
   ]
  },
  {
   "cell_type": "code",
   "execution_count": 5,
   "id": "f4db1ada-274a-4cf1-971d-2a91a129099d",
   "metadata": {},
   "outputs": [
    {
     "data": {
      "text/plain": [
       "0        if you've ever been to disneyland anywhere you...\n",
       "1        its been a while since d last time we visit ho...\n",
       "2        thanks god it wasn   t too hot or too humid wh...\n",
       "3        hongkong disneyland is a great compact park. u...\n",
       "4        the location is not in the city, took around 1...\n",
       "                               ...                        \n",
       "42651    i went to disneyland paris in july 03 and thou...\n",
       "42652    2 adults and 1 child of 11 visited disneyland ...\n",
       "42653    my eleven year old daughter and myself went to...\n",
       "42654    this hotel, part of the disneyland paris compl...\n",
       "42655    i went to the disneyparis resort, in 1996, wit...\n",
       "Name: Review_Text, Length: 42656, dtype: object"
      ]
     },
     "execution_count": 5,
     "metadata": {},
     "output_type": "execute_result"
    }
   ],
   "source": [
    "reviews = reviews.apply(lambda x: preprocess(x))\n",
    "reviews"
   ]
  },
  {
   "cell_type": "code",
   "execution_count": 6,
   "id": "845d8c85-00cb-48ab-a131-a22347b57331",
   "metadata": {},
   "outputs": [],
   "source": [
    "def remove_punc(text):\n",
    "    clean = ''.join([char for char in text if char not in string.punctuation])\n",
    "    return clean"
   ]
  },
  {
   "cell_type": "code",
   "execution_count": 7,
   "id": "cfa510be-b326-465a-9045-4af92a2461b8",
   "metadata": {},
   "outputs": [
    {
     "data": {
      "text/plain": [
       "0        if youve ever been to disneyland anywhere youl...\n",
       "1        its been a while since d last time we visit ho...\n",
       "2        thanks god it wasn   t too hot or too humid wh...\n",
       "3        hongkong disneyland is a great compact park un...\n",
       "4        the location is not in the city took around 1 ...\n",
       "                               ...                        \n",
       "42651    i went to disneyland paris in july 03 and thou...\n",
       "42652    2 adults and 1 child of 11 visited disneyland ...\n",
       "42653    my eleven year old daughter and myself went to...\n",
       "42654    this hotel part of the disneyland paris comple...\n",
       "42655    i went to the disneyparis resort in 1996 with ...\n",
       "Name: Review_Text, Length: 42656, dtype: object"
      ]
     },
     "execution_count": 7,
     "metadata": {},
     "output_type": "execute_result"
    }
   ],
   "source": [
    "reviews = reviews.apply(lambda x: remove_punc(x))\n",
    "reviews"
   ]
  },
  {
   "cell_type": "code",
   "execution_count": 8,
   "id": "a6d51100-477d-4d36-8c20-fb5495e0f518",
   "metadata": {},
   "outputs": [],
   "source": [
    "def remove_digit(text):\n",
    "    clean = ''.join([i for i in text if not i.isdigit()])\n",
    "    return clean"
   ]
  },
  {
   "cell_type": "code",
   "execution_count": 9,
   "id": "acb4d91b-ef03-4b9a-91fc-b8665ed8877f",
   "metadata": {},
   "outputs": [
    {
     "data": {
      "text/plain": [
       "0        if youve ever been to disneyland anywhere youl...\n",
       "1        its been a while since d last time we visit ho...\n",
       "2        thanks god it wasn   t too hot or too humid wh...\n",
       "3        hongkong disneyland is a great compact park un...\n",
       "4        the location is not in the city took around  h...\n",
       "                               ...                        \n",
       "42651    i went to disneyland paris in july  and though...\n",
       "42652     adults and  child of  visited disneyland pari...\n",
       "42653    my eleven year old daughter and myself went to...\n",
       "42654    this hotel part of the disneyland paris comple...\n",
       "42655    i went to the disneyparis resort in  with a sm...\n",
       "Name: Review_Text, Length: 42656, dtype: object"
      ]
     },
     "execution_count": 9,
     "metadata": {},
     "output_type": "execute_result"
    }
   ],
   "source": [
    "reviews = reviews.apply(lambda x: remove_digit(x))\n",
    "reviews"
   ]
  },
  {
   "cell_type": "code",
   "execution_count": 10,
   "id": "b0089b3c-1ce8-4af2-8dbc-bb525c5d43fa",
   "metadata": {},
   "outputs": [],
   "source": [
    "tokenizer = RegexpTokenizer(r'\\w+')"
   ]
  },
  {
   "cell_type": "code",
   "execution_count": 11,
   "id": "9b04a3d0-2daf-4e3b-a025-9cca8aed3c34",
   "metadata": {},
   "outputs": [
    {
     "data": {
      "text/plain": [
       "0        [if, youve, ever, been, to, disneyland, anywhe...\n",
       "1        [its, been, a, while, since, d, last, time, we...\n",
       "2        [thanks, god, it, wasn, t, too, hot, or, too, ...\n",
       "3        [hongkong, disneyland, is, a, great, compact, ...\n",
       "4        [the, location, is, not, in, the, city, took, ...\n",
       "                               ...                        \n",
       "42651    [i, went, to, disneyland, paris, in, july, and...\n",
       "42652    [adults, and, child, of, visited, disneyland, ...\n",
       "42653    [my, eleven, year, old, daughter, and, myself,...\n",
       "42654    [this, hotel, part, of, the, disneyland, paris...\n",
       "42655    [i, went, to, the, disneyparis, resort, in, wi...\n",
       "Name: Review_Text, Length: 42656, dtype: object"
      ]
     },
     "execution_count": 11,
     "metadata": {},
     "output_type": "execute_result"
    }
   ],
   "source": [
    "reviews_tokenized = reviews.apply(lambda x: tokenizer.tokenize(x.lower()))\n",
    "reviews_tokenized "
   ]
  },
  {
   "cell_type": "code",
   "execution_count": 12,
   "id": "8c9bb2a3-adb2-4223-a0bc-7595cf906fde",
   "metadata": {},
   "outputs": [],
   "source": [
    "nltk_stopwords = pd.Series(stopwords.words(\"english\"))\n",
    "nltk_stopwords = nltk_stopwords.apply(lambda x: remove_punc(x))\n",
    "nltk_stopwords = set(nltk_stopwords)"
   ]
  },
  {
   "cell_type": "code",
   "execution_count": 13,
   "id": "f41f4223-aa72-4622-b30c-2e1352d744b1",
   "metadata": {},
   "outputs": [],
   "source": [
    "stopwords_700 = pd.read_csv('../EDA/stopwords.txt', header= None, delimiter = \"\\t\")\n",
    "stopwords_700 = set(stopwords_700[0])"
   ]
  },
  {
   "cell_type": "code",
   "execution_count": 14,
   "id": "a4cbb27a-fca7-46d9-aad2-89a0ab339e25",
   "metadata": {},
   "outputs": [],
   "source": [
    "def remove_stopwords(text): \n",
    "    stop_words = set(stopwords.words(\"english\"))\n",
    "    stop_words_customize = {'disney', 'disneyland', 'land', 'park', 'parks', 'world', 'disneyworld', 'disney world', 'one'}\n",
    "    stop_words_all = nltk_stopwords.union(stopwords_700, stop_words_customize)\n",
    "    clean = [word for word in text if not word in stop_words_all]\n",
    "    return clean"
   ]
  },
  {
   "cell_type": "code",
   "execution_count": 15,
   "id": "b2862e68-c1ca-4549-9d85-ccdca1193cea",
   "metadata": {},
   "outputs": [],
   "source": [
    "reviews_nostop = reviews_tokenized.apply(lambda x: remove_stopwords(x))"
   ]
  },
  {
   "cell_type": "code",
   "execution_count": 16,
   "id": "47a65608-8b2b-49be-a25f-47194682a315",
   "metadata": {},
   "outputs": [
    {
     "data": {
      "text/plain": [
       "0        [find, hongkong, similar, layout, walk, street...\n",
       "1        [last, time, visit, hongkong, time, stay, tomo...\n",
       "2        [thanks, god, hot, humid, visiting, big, issue...\n",
       "3        [hongkong, great, compact, unfortunately, bit,...\n",
       "4        [location, city, took, hour, kowlon, kids, lik...\n",
       "                               ...                        \n",
       "42651    [went, paris, july, thought, brilliant, visite...\n",
       "42652    [adults, child, visited, paris, beginning, feb...\n",
       "42653    [eleven, year, old, daughter, went, visit, son...\n",
       "42654    [hotel, part, paris, complex, wonderful, place...\n",
       "42655    [went, disneyparis, resort, small, child, minu...\n",
       "Name: Review_Text, Length: 42656, dtype: object"
      ]
     },
     "execution_count": 16,
     "metadata": {},
     "output_type": "execute_result"
    }
   ],
   "source": [
    "reviews_nostop"
   ]
  },
  {
   "cell_type": "code",
   "execution_count": 18,
   "id": "0d13e78c-1c47-47b6-b2f4-39f49054d316",
   "metadata": {},
   "outputs": [],
   "source": [
    "lemmatizer = WordNetLemmatizer()\n",
    "\n",
    "def text_lemmatizer(text):\n",
    "    lemmatized_text = [lemmatizer.lemmatize(i) for i in text]\n",
    "    return lemmatized_text"
   ]
  },
  {
   "cell_type": "code",
   "execution_count": 19,
   "id": "e670cadd-98d6-402c-8389-953bcb6343dd",
   "metadata": {},
   "outputs": [
    {
     "data": {
      "text/plain": [
       "0        [find, hongkong, similar, layout, walk, street...\n",
       "1        [last, time, visit, hongkong, time, stay, tomo...\n",
       "2        [thanks, god, hot, humid, visiting, big, issue...\n",
       "3        [hongkong, great, compact, unfortunately, bit,...\n",
       "4        [location, city, took, hour, kowlon, kid, like...\n",
       "                               ...                        \n",
       "42651    [went, paris, july, thought, brilliant, visite...\n",
       "42652    [adult, child, visited, paris, beginning, feb,...\n",
       "42653    [eleven, year, old, daughter, went, visit, son...\n",
       "42654    [hotel, part, paris, complex, wonderful, place...\n",
       "42655    [went, disneyparis, resort, small, child, minu...\n",
       "Name: Review_Text, Length: 42656, dtype: object"
      ]
     },
     "execution_count": 19,
     "metadata": {},
     "output_type": "execute_result"
    }
   ],
   "source": [
    "reviews_lemmatized = reviews_nostop.apply(lambda x: text_lemmatizer(x))\n",
    "reviews_lemmatized"
   ]
  },
  {
   "cell_type": "code",
   "execution_count": 22,
   "id": "fab7351f-aa14-44f9-8c54-a820f399544d",
   "metadata": {},
   "outputs": [],
   "source": [
    "stemmer = PorterStemmer()\n",
    "\n",
    "def text_stemmer(text):\n",
    "    stem_text = ' '.join([stemmer.stem(i) for i in text])\n",
    "    return stem_text"
   ]
  },
  {
   "cell_type": "code",
   "execution_count": 23,
   "id": "d222a346-2794-4398-adff-a641c1819da0",
   "metadata": {},
   "outputs": [
    {
     "data": {
      "text/plain": [
       "0        find hongkong similar layout walk street famil...\n",
       "1        last time visit hongkong time stay tomorrowlan...\n",
       "2        thank god hot humid visit big issu shadei arri...\n",
       "3        hongkong great compact unfortun bit mainten wo...\n",
       "4        locat citi took hour kowlon kid like fine crow...\n",
       "                               ...                        \n",
       "42651    went pari juli thought brilliant visit hotel s...\n",
       "42652    adult child visit pari begin feb absolut fanta...\n",
       "42653    eleven year old daughter went visit son london...\n",
       "42654    hotel part pari complex wonder place famili ki...\n",
       "42655    went disneypari resort small child minut enter...\n",
       "Name: Review_Text, Length: 42656, dtype: object"
      ]
     },
     "execution_count": 23,
     "metadata": {},
     "output_type": "execute_result"
    }
   ],
   "source": [
    "reviews_clean = reviews_lemmatized.apply(lambda x: text_stemmer(x))\n",
    "reviews_clean"
   ]
  },
  {
   "cell_type": "code",
   "execution_count": null,
   "id": "d64c650f-290c-43ce-9f1e-25a60fbd58b0",
   "metadata": {},
   "outputs": [],
   "source": []
  }
 ],
 "metadata": {
  "kernelspec": {
   "display_name": "Python [conda env:573]",
   "language": "python",
   "name": "conda-env-573-py"
  },
  "language_info": {
   "codemirror_mode": {
    "name": "ipython",
    "version": 3
   },
   "file_extension": ".py",
   "mimetype": "text/x-python",
   "name": "python",
   "nbconvert_exporter": "python",
   "pygments_lexer": "ipython3",
   "version": "3.9.7"
  }
 },
 "nbformat": 4,
 "nbformat_minor": 5
}
