{
 "cells": [
  {
   "cell_type": "code",
   "execution_count": 61,
   "id": "f8eba06c-016f-4138-904f-968b4d41124b",
   "metadata": {},
   "outputs": [],
   "source": [
    "import numpy as np\n",
    "import pandas as pd\n",
    "import altair as alt\n",
    "import string\n",
    "import nltk\n",
    "from nltk.stem import SnowballStemmer, LancasterStemmer, WordNetLemmatizer\n",
    "from nltk.corpus import wordnet\n",
    "from nltk.tokenize import RegexpTokenizer\n",
    "from nltk.corpus import stopwords\n",
    "from wordcloud import WordCloud, STOPWORDS\n",
    "import tkinter\n",
    "import matplotlib\n",
    "import matplotlib.pyplot as plt\n",
    "from PIL import Image\n",
    "from textblob import TextBlob\n",
    "from sentence_transformers import SentenceTransformer\n",
    "import umap\n",
    "import hdbscan\n",
    "from sklearn.feature_extraction.text import CountVectorizer\n",
    "\n",
    "\n",
    "\n",
    "alt.renderers.enable('mimetype')\n",
    "alt.data_transformers.disable_max_rows()\n",
    "%matplotlib inline"
   ]
  },
  {
   "cell_type": "code",
   "execution_count": 2,
   "id": "d79e50ba-7855-4246-a355-f27e8234642a",
   "metadata": {},
   "outputs": [],
   "source": [
    "disney_df = pd.read_csv(\"../data/raw/DisneylandReviews.csv\")\n",
    "reviews = disney_df['Review_Text']"
   ]
  },
  {
   "cell_type": "code",
   "execution_count": 3,
   "id": "d15a467c-a23f-401c-9c9e-819fa1985104",
   "metadata": {},
   "outputs": [
    {
     "data": {
      "text/plain": [
       "0        If you've ever been to Disneyland anywhere you...\n",
       "1        Its been a while since d last time we visit HK...\n",
       "2        Thanks God it wasn   t too hot or too humid wh...\n",
       "3        HK Disneyland is a great compact park. Unfortu...\n",
       "4        the location is not in the city, took around 1...\n",
       "                               ...                        \n",
       "42651    i went to disneyland paris in july 03 and thou...\n",
       "42652    2 adults and 1 child of 11 visited Disneyland ...\n",
       "42653    My eleven year old daughter and myself went to...\n",
       "42654    This hotel, part of the Disneyland Paris compl...\n",
       "42655    I went to the Disneyparis resort, in 1996, wit...\n",
       "Name: Review_Text, Length: 42656, dtype: object"
      ]
     },
     "execution_count": 3,
     "metadata": {},
     "output_type": "execute_result"
    }
   ],
   "source": [
    "reviews  "
   ]
  },
  {
   "cell_type": "code",
   "execution_count": 4,
   "id": "2f9d3ccb-5369-400c-8a28-b07ee42aceb3",
   "metadata": {},
   "outputs": [],
   "source": [
    "def preprocess(text):\n",
    "    text = text.lower()\n",
    "    text = text.replace('hk', 'hongkong')\n",
    "    text = text.replace('hong kong', 'hongkong')\n",
    "    text = text.replace(\"n't\", \" not\")\n",
    "    text = text.replace('n   t', \" not\")\n",
    "    text = text.replace('disneyparis', 'disney paris')\n",
    "    text = text.replace('kowlon', 'kowloon')\n",
    "    text = text.replace('  ', ' ')\n",
    "    return text"
   ]
  },
  {
   "cell_type": "code",
   "execution_count": 5,
   "id": "f4db1ada-274a-4cf1-971d-2a91a129099d",
   "metadata": {},
   "outputs": [
    {
     "data": {
      "text/plain": [
       "0        if you've ever been to disneyland anywhere you...\n",
       "1        its been a while since d last time we visit ho...\n",
       "2        thanks god it was not too hot or too humid whe...\n",
       "3        hongkong disneyland is a great compact park. u...\n",
       "4        the location is not in the city, took around 1...\n",
       "                               ...                        \n",
       "42651    i went to disneyland paris in july 03 and thou...\n",
       "42652    2 adults and 1 child of 11 visited disneyland ...\n",
       "42653    my eleven year old daughter and myself went to...\n",
       "42654    this hotel, part of the disneyland paris compl...\n",
       "42655    i went to the disney paris resort, in 1996, wi...\n",
       "Name: Review_Text, Length: 42656, dtype: object"
      ]
     },
     "execution_count": 5,
     "metadata": {},
     "output_type": "execute_result"
    }
   ],
   "source": [
    "reviews = reviews.apply(lambda x: preprocess(x))\n",
    "reviews"
   ]
  },
  {
   "cell_type": "code",
   "execution_count": 6,
   "id": "845d8c85-00cb-48ab-a131-a22347b57331",
   "metadata": {},
   "outputs": [],
   "source": [
    "def remove_punc(text):\n",
    "    clean = ''.join([char for char in text if char not in string.punctuation])\n",
    "    return clean"
   ]
  },
  {
   "cell_type": "code",
   "execution_count": 7,
   "id": "cfa510be-b326-465a-9045-4af92a2461b8",
   "metadata": {},
   "outputs": [
    {
     "data": {
      "text/plain": [
       "0        if youve ever been to disneyland anywhere youl...\n",
       "1        its been a while since d last time we visit ho...\n",
       "2        thanks god it was not too hot or too humid whe...\n",
       "3        hongkong disneyland is a great compact park un...\n",
       "4        the location is not in the city took around 1 ...\n",
       "                               ...                        \n",
       "42651    i went to disneyland paris in july 03 and thou...\n",
       "42652    2 adults and 1 child of 11 visited disneyland ...\n",
       "42653    my eleven year old daughter and myself went to...\n",
       "42654    this hotel part of the disneyland paris comple...\n",
       "42655    i went to the disney paris resort in 1996 with...\n",
       "Name: Review_Text, Length: 42656, dtype: object"
      ]
     },
     "execution_count": 7,
     "metadata": {},
     "output_type": "execute_result"
    }
   ],
   "source": [
    "reviews = reviews.apply(lambda x: remove_punc(x))\n",
    "reviews"
   ]
  },
  {
   "cell_type": "code",
   "execution_count": 8,
   "id": "a6d51100-477d-4d36-8c20-fb5495e0f518",
   "metadata": {},
   "outputs": [],
   "source": [
    "def remove_digit(text):\n",
    "    clean = ''.join([i for i in text if not i.isdigit()])\n",
    "    clean = clean.replace('  ', ' ')\n",
    "    return clean"
   ]
  },
  {
   "cell_type": "code",
   "execution_count": 9,
   "id": "acb4d91b-ef03-4b9a-91fc-b8665ed8877f",
   "metadata": {},
   "outputs": [
    {
     "data": {
      "text/plain": [
       "0        if youve ever been to disneyland anywhere youl...\n",
       "1        its been a while since d last time we visit ho...\n",
       "2        thanks god it was not too hot or too humid whe...\n",
       "3        hongkong disneyland is a great compact park un...\n",
       "4        the location is not in the city took around ho...\n",
       "                               ...                        \n",
       "42651    i went to disneyland paris in july and thought...\n",
       "42652     adults and child of visited disneyland paris ...\n",
       "42653    my eleven year old daughter and myself went to...\n",
       "42654    this hotel part of the disneyland paris comple...\n",
       "42655    i went to the disney paris resort in with a sm...\n",
       "Name: Review_Text, Length: 42656, dtype: object"
      ]
     },
     "execution_count": 9,
     "metadata": {},
     "output_type": "execute_result"
    }
   ],
   "source": [
    "reviews = reviews.apply(lambda x: remove_digit(x))\n",
    "reviews"
   ]
  },
  {
   "cell_type": "code",
   "execution_count": 10,
   "id": "a6fc5047-6c2f-4e9d-8344-6abe71bba4bf",
   "metadata": {},
   "outputs": [],
   "source": [
    "# def spell_checker(text):\n",
    "#     t = TextBlob(text)\n",
    "#     spell_checked = ' '.join([w.correct() for w in t.words])\n",
    "#     return spell_checked "
   ]
  },
  {
   "cell_type": "code",
   "execution_count": 11,
   "id": "f23e6ab5-5165-4b10-8e7d-c18087e5986b",
   "metadata": {},
   "outputs": [],
   "source": [
    "# spell_checked = reviews.apply(lambda x: spell_checker(x))\n",
    "# spell_checked "
   ]
  },
  {
   "cell_type": "code",
   "execution_count": 12,
   "id": "b0089b3c-1ce8-4af2-8dbc-bb525c5d43fa",
   "metadata": {},
   "outputs": [],
   "source": [
    "tokenizer = RegexpTokenizer(r'\\w+')"
   ]
  },
  {
   "cell_type": "code",
   "execution_count": 13,
   "id": "9b04a3d0-2daf-4e3b-a025-9cca8aed3c34",
   "metadata": {},
   "outputs": [
    {
     "data": {
      "text/plain": [
       "0        [if, youve, ever, been, to, disneyland, anywhe...\n",
       "1        [its, been, a, while, since, d, last, time, we...\n",
       "2        [thanks, god, it, was, not, too, hot, or, too,...\n",
       "3        [hongkong, disneyland, is, a, great, compact, ...\n",
       "4        [the, location, is, not, in, the, city, took, ...\n",
       "                               ...                        \n",
       "42651    [i, went, to, disneyland, paris, in, july, and...\n",
       "42652    [adults, and, child, of, visited, disneyland, ...\n",
       "42653    [my, eleven, year, old, daughter, and, myself,...\n",
       "42654    [this, hotel, part, of, the, disneyland, paris...\n",
       "42655    [i, went, to, the, disney, paris, resort, in, ...\n",
       "Name: Review_Text, Length: 42656, dtype: object"
      ]
     },
     "execution_count": 13,
     "metadata": {},
     "output_type": "execute_result"
    }
   ],
   "source": [
    "reviews_tokenized = reviews.apply(lambda x: tokenizer.tokenize(x.lower()))\n",
    "reviews_tokenized "
   ]
  },
  {
   "cell_type": "code",
   "execution_count": 14,
   "id": "8c9bb2a3-adb2-4223-a0bc-7595cf906fde",
   "metadata": {},
   "outputs": [],
   "source": [
    "nltk_stopwords = pd.Series(stopwords.words(\"english\"))\n",
    "nltk_stopwords = nltk_stopwords.apply(lambda x: remove_punc(x))\n",
    "nltk_stopwords = set(nltk_stopwords)"
   ]
  },
  {
   "cell_type": "code",
   "execution_count": 15,
   "id": "f41f4223-aa72-4622-b30c-2e1352d744b1",
   "metadata": {},
   "outputs": [],
   "source": [
    "stopwords_700 = pd.read_csv('../EDA/stopwords.txt', header= None, delimiter = \"\\t\")\n",
    "stopwords_700 = set(stopwords_700[0])"
   ]
  },
  {
   "cell_type": "code",
   "execution_count": 16,
   "id": "a4cbb27a-fca7-46d9-aad2-89a0ab339e25",
   "metadata": {},
   "outputs": [],
   "source": [
    "def remove_stopwords(text): \n",
    "    stop_words = set(stopwords.words(\"english\"))\n",
    "    stop_words_customize = {'disney', 'disneyland', 'land', 'park', 'parks', 'world', 'disneyworld', 'disney world', 'one'}\n",
    "    stop_words_all = nltk_stopwords.union(stopwords_700, stop_words_customize)\n",
    "    clean = [word for word in text if not word in stop_words_all]\n",
    "    return clean"
   ]
  },
  {
   "cell_type": "code",
   "execution_count": 17,
   "id": "b2862e68-c1ca-4549-9d85-ccdca1193cea",
   "metadata": {},
   "outputs": [],
   "source": [
    "reviews_nostop = reviews_tokenized.apply(lambda x: remove_stopwords(x))"
   ]
  },
  {
   "cell_type": "code",
   "execution_count": 18,
   "id": "47a65608-8b2b-49be-a25f-47194682a315",
   "metadata": {},
   "outputs": [
    {
     "data": {
      "text/plain": [
       "0        [find, hongkong, similar, layout, walk, street...\n",
       "1        [last, time, visit, hongkong, time, stay, tomo...\n",
       "2        [thanks, god, hot, humid, visiting, big, issue...\n",
       "3        [hongkong, great, compact, unfortunately, bit,...\n",
       "4        [location, city, took, hour, kowloon, kids, li...\n",
       "                               ...                        \n",
       "42651    [went, paris, july, thought, brilliant, visite...\n",
       "42652    [adults, child, visited, paris, beginning, feb...\n",
       "42653    [eleven, year, old, daughter, went, visit, son...\n",
       "42654    [hotel, part, paris, complex, wonderful, place...\n",
       "42655    [went, paris, resort, small, child, minute, en...\n",
       "Name: Review_Text, Length: 42656, dtype: object"
      ]
     },
     "execution_count": 18,
     "metadata": {},
     "output_type": "execute_result"
    }
   ],
   "source": [
    "reviews_nostop"
   ]
  },
  {
   "cell_type": "code",
   "execution_count": 19,
   "id": "9acfbe86-c18c-4802-b3b5-99deff7a56ca",
   "metadata": {},
   "outputs": [],
   "source": [
    "def pos_lemmatize(text):\n",
    "    lem = WordNetLemmatizer()\n",
    "    for word, tag in nltk.pos_tag(text):\n",
    "        if tag.startswith(\"NN\"):\n",
    "            yield lem.lemmatize(word, pos='n')\n",
    "        elif tag.startswith('VB'):\n",
    "            yield lem.lemmatize(word, pos='v')\n",
    "        elif tag.startswith('JJ'):\n",
    "            yield lem.lemmatize(word, pos='a')\n",
    "        else:\n",
    "            yield word"
   ]
  },
  {
   "cell_type": "code",
   "execution_count": 20,
   "id": "fd86203e-241b-4629-ad31-d33b27f6b610",
   "metadata": {},
   "outputs": [],
   "source": [
    "def final_lemmatizer(text):\n",
    "    lem_text = ' '.join(pos_lemmatize(text))\n",
    "    return lem_text"
   ]
  },
  {
   "cell_type": "code",
   "execution_count": 21,
   "id": "e670cadd-98d6-402c-8389-953bcb6343dd",
   "metadata": {},
   "outputs": [
    {
     "data": {
      "text/plain": [
       "0        find hongkong similar layout walk street famil...\n",
       "1        last time visit hongkong time stay tomorrowlan...\n",
       "2        thanks god hot humid visit big issue shadei ar...\n",
       "3        hongkong great compact unfortunately bit maint...\n",
       "4        location city take hour kowloon kid like fine ...\n",
       "                               ...                        \n",
       "42651    go paris july think brilliant visited hotel st...\n",
       "42652    adult child visited paris begin feb absolute f...\n",
       "42653    eleven year old daughter go visit son london d...\n",
       "42654    hotel part paris complex wonderful place famil...\n",
       "42655    go paris resort small child minute enter trans...\n",
       "Name: Review_Text, Length: 42656, dtype: object"
      ]
     },
     "execution_count": 21,
     "metadata": {},
     "output_type": "execute_result"
    }
   ],
   "source": [
    "reviews_lemmatized = reviews_nostop.apply(lambda x: final_lemmatizer(x))\n",
    "reviews_lemmatized"
   ]
  },
  {
   "cell_type": "code",
   "execution_count": 22,
   "id": "fab7351f-aa14-44f9-8c54-a820f399544d",
   "metadata": {},
   "outputs": [],
   "source": [
    "stemmer = LancasterStemmer()\n",
    "\n",
    "def text_stemmer(text):\n",
    "    stem_text = ''.join([stemmer.stem(i) for i in text])\n",
    "    return stem_text"
   ]
  },
  {
   "cell_type": "code",
   "execution_count": 23,
   "id": "d222a346-2794-4398-adff-a641c1819da0",
   "metadata": {},
   "outputs": [
    {
     "data": {
      "text/plain": [
       "0        find hongkong similar layout walk street famil...\n",
       "1        last time visit hongkong time stay tomorrowlan...\n",
       "2        thanks god hot humid visit big issue shadei ar...\n",
       "3        hongkong great compact unfortunately bit maint...\n",
       "4        location city take hour kowloon kid like fine ...\n",
       "                               ...                        \n",
       "42651    go paris july think brilliant visited hotel st...\n",
       "42652    adult child visited paris begin feb absolute f...\n",
       "42653    eleven year old daughter go visit son london d...\n",
       "42654    hotel part paris complex wonderful place famil...\n",
       "42655    go paris resort small child minute enter trans...\n",
       "Name: Review_Text, Length: 42656, dtype: object"
      ]
     },
     "execution_count": 23,
     "metadata": {},
     "output_type": "execute_result"
    }
   ],
   "source": [
    "reviews_clean = reviews_lemmatized.apply(lambda x: text_stemmer(x))\n",
    "reviews_clean"
   ]
  },
  {
   "cell_type": "code",
   "execution_count": 24,
   "id": "477697d9-caa6-44c2-8da9-61b3e0e8e7eb",
   "metadata": {},
   "outputs": [
    {
     "data": {
      "text/plain": [
       "0    find hongkong similar layout walk street famil...\n",
       "1    last time visit hongkong time stay tomorrowlan...\n",
       "2    thanks god hot humid visit big issue shadei ar...\n",
       "3    hongkong great compact unfortunately bit maint...\n",
       "4    location city take hour kowloon kid like fine ...\n",
       "5    anaheim tokyo feel hongkong small call way rid...\n",
       "6    great place day wo know obviously go daughter ...\n",
       "7    think intro magic little one attraction comple...\n",
       "8    feel let placethe train fantastic past station...\n",
       "9    talk say childhood dream come true start entra...\n",
       "Name: Review_Text, dtype: object"
      ]
     },
     "execution_count": 24,
     "metadata": {},
     "output_type": "execute_result"
    }
   ],
   "source": [
    "reviews_clean[0:10]"
   ]
  },
  {
   "cell_type": "markdown",
   "id": "58e9ff37-82f0-4989-8f8c-c9b89a0dc3bd",
   "metadata": {},
   "source": [
    "### embeddings"
   ]
  },
  {
   "cell_type": "code",
   "execution_count": 25,
   "id": "d64c650f-290c-43ce-9f1e-25a60fbd58b0",
   "metadata": {},
   "outputs": [
    {
     "data": {
      "application/vnd.jupyter.widget-view+json": {
       "model_id": "c23810ac394a4e77acef3a99e974a01e",
       "version_major": 2,
       "version_minor": 0
      },
      "text/plain": [
       "Batches:   0%|          | 0/313 [00:00<?, ?it/s]"
      ]
     },
     "metadata": {},
     "output_type": "display_data"
    }
   ],
   "source": [
    "model = SentenceTransformer('distilbert-base-nli-mean-tokens')\n",
    "embeddings = model.encode(reviews_clean[0:10000], show_progress_bar=True)"
   ]
  },
  {
   "cell_type": "code",
   "execution_count": 26,
   "id": "33e91247-9982-4404-8c24-22ba287a2981",
   "metadata": {},
   "outputs": [
    {
     "data": {
      "text/plain": [
       "array([[-0.6975749 , -0.13643305,  0.9038483 , ...,  0.85246605,\n",
       "        -0.5135764 , -0.22898293],\n",
       "       [-0.421778  ,  0.02271531,  0.6387496 , ...,  0.14367424,\n",
       "         0.28712925, -0.7671961 ],\n",
       "       [-0.28219888,  0.10791975,  0.98113585, ...,  0.12422124,\n",
       "        -0.27820262, -0.4483604 ],\n",
       "       ...,\n",
       "       [-0.33452088, -0.48336244,  1.0795755 , ..., -0.21132454,\n",
       "         0.01214098, -0.76798797],\n",
       "       [-0.06199561,  0.17828819,  1.0447465 , ...,  0.21801765,\n",
       "        -0.49830344, -1.3235809 ],\n",
       "       [-0.8040637 , -0.39871413,  1.0468129 , ...,  0.26616812,\n",
       "         0.22603197, -0.31997895]], dtype=float32)"
      ]
     },
     "execution_count": 26,
     "metadata": {},
     "output_type": "execute_result"
    }
   ],
   "source": [
    "embeddings"
   ]
  },
  {
   "cell_type": "code",
   "execution_count": 27,
   "id": "ba7e3b72-4d9a-4f8f-b14b-ecf212c5f96d",
   "metadata": {},
   "outputs": [
    {
     "name": "stderr",
     "output_type": "stream",
     "text": [
      "OMP: Info #271: omp_set_nested routine deprecated, please use omp_set_max_active_levels instead.\n"
     ]
    }
   ],
   "source": [
    "umap_embeddings = umap.UMAP(n_neighbors=20, \n",
    "                            n_components=5, \n",
    "                            metric='cosine').fit_transform(embeddings)"
   ]
  },
  {
   "cell_type": "code",
   "execution_count": 28,
   "id": "37dc4eeb-6d10-4090-b1d2-714170c45d36",
   "metadata": {},
   "outputs": [
    {
     "data": {
      "text/plain": [
       "array([[14.101172 , -3.5529213, 14.785128 ,  3.4090052, 12.00718  ],\n",
       "       [16.564814 , -5.6741633, 14.910553 ,  4.4259872, 12.250204 ],\n",
       "       [16.991705 , -4.982561 , 15.591683 ,  2.6467412, 11.598336 ],\n",
       "       ...,\n",
       "       [15.5799885, -4.417941 , 15.257003 ,  3.7563746, 11.608385 ],\n",
       "       [14.363771 , -3.8922734, 15.619446 ,  3.3129487, 11.270508 ],\n",
       "       [15.438481 , -5.644741 , 15.284159 ,  3.3205376, 10.579744 ]],\n",
       "      dtype=float32)"
      ]
     },
     "execution_count": 28,
     "metadata": {},
     "output_type": "execute_result"
    }
   ],
   "source": [
    "umap_embeddings"
   ]
  },
  {
   "cell_type": "code",
   "execution_count": 40,
   "id": "a197f11f-7201-43d9-b93e-25152e2b4f7e",
   "metadata": {},
   "outputs": [],
   "source": [
    "cluster = hdbscan.HDBSCAN(min_cluster_size=5,\n",
    "                           metric='euclidean',                      \n",
    "                           cluster_selection_method='eom').fit(umap_embeddings)"
   ]
  },
  {
   "cell_type": "code",
   "execution_count": 41,
   "id": "138d68c0-fe42-47cc-876e-0cc675b8689c",
   "metadata": {},
   "outputs": [
    {
     "data": {
      "text/html": [
       "<div>\n",
       "<style scoped>\n",
       "    .dataframe tbody tr th:only-of-type {\n",
       "        vertical-align: middle;\n",
       "    }\n",
       "\n",
       "    .dataframe tbody tr th {\n",
       "        vertical-align: top;\n",
       "    }\n",
       "\n",
       "    .dataframe thead th {\n",
       "        text-align: right;\n",
       "    }\n",
       "</style>\n",
       "<table border=\"1\" class=\"dataframe\">\n",
       "  <thead>\n",
       "    <tr style=\"text-align: right;\">\n",
       "      <th></th>\n",
       "      <th>x</th>\n",
       "      <th>y</th>\n",
       "      <th>labels</th>\n",
       "    </tr>\n",
       "  </thead>\n",
       "  <tbody>\n",
       "    <tr>\n",
       "      <th>0</th>\n",
       "      <td>10.442847</td>\n",
       "      <td>1.904368</td>\n",
       "      <td>1</td>\n",
       "    </tr>\n",
       "    <tr>\n",
       "      <th>1</th>\n",
       "      <td>14.714104</td>\n",
       "      <td>-0.069682</td>\n",
       "      <td>1</td>\n",
       "    </tr>\n",
       "    <tr>\n",
       "      <th>2</th>\n",
       "      <td>13.545857</td>\n",
       "      <td>1.598360</td>\n",
       "      <td>1</td>\n",
       "    </tr>\n",
       "    <tr>\n",
       "      <th>3</th>\n",
       "      <td>13.977159</td>\n",
       "      <td>3.198303</td>\n",
       "      <td>1</td>\n",
       "    </tr>\n",
       "    <tr>\n",
       "      <th>4</th>\n",
       "      <td>10.631547</td>\n",
       "      <td>1.313774</td>\n",
       "      <td>1</td>\n",
       "    </tr>\n",
       "    <tr>\n",
       "      <th>...</th>\n",
       "      <td>...</td>\n",
       "      <td>...</td>\n",
       "      <td>...</td>\n",
       "    </tr>\n",
       "    <tr>\n",
       "      <th>9995</th>\n",
       "      <td>12.925479</td>\n",
       "      <td>-0.082248</td>\n",
       "      <td>1</td>\n",
       "    </tr>\n",
       "    <tr>\n",
       "      <th>9996</th>\n",
       "      <td>13.466598</td>\n",
       "      <td>2.806940</td>\n",
       "      <td>1</td>\n",
       "    </tr>\n",
       "    <tr>\n",
       "      <th>9997</th>\n",
       "      <td>12.347876</td>\n",
       "      <td>0.654869</td>\n",
       "      <td>-1</td>\n",
       "    </tr>\n",
       "    <tr>\n",
       "      <th>9998</th>\n",
       "      <td>10.293548</td>\n",
       "      <td>0.648338</td>\n",
       "      <td>1</td>\n",
       "    </tr>\n",
       "    <tr>\n",
       "      <th>9999</th>\n",
       "      <td>12.075806</td>\n",
       "      <td>-0.220305</td>\n",
       "      <td>1</td>\n",
       "    </tr>\n",
       "  </tbody>\n",
       "</table>\n",
       "<p>10000 rows × 3 columns</p>\n",
       "</div>"
      ],
      "text/plain": [
       "              x         y  labels\n",
       "0     10.442847  1.904368       1\n",
       "1     14.714104 -0.069682       1\n",
       "2     13.545857  1.598360       1\n",
       "3     13.977159  3.198303       1\n",
       "4     10.631547  1.313774       1\n",
       "...         ...       ...     ...\n",
       "9995  12.925479 -0.082248       1\n",
       "9996  13.466598  2.806940       1\n",
       "9997  12.347876  0.654869      -1\n",
       "9998  10.293548  0.648338       1\n",
       "9999  12.075806 -0.220305       1\n",
       "\n",
       "[10000 rows x 3 columns]"
      ]
     },
     "execution_count": 41,
     "metadata": {},
     "output_type": "execute_result"
    }
   ],
   "source": [
    "result"
   ]
  },
  {
   "cell_type": "code",
   "execution_count": 44,
   "id": "d2313546-0ab2-4bb4-9e1e-e0d0682c45a7",
   "metadata": {},
   "outputs": [
    {
     "data": {
      "text/plain": [
       "<matplotlib.colorbar.Colorbar at 0x15f5ccfa0>"
      ]
     },
     "execution_count": 44,
     "metadata": {},
     "output_type": "execute_result"
    },
    {
     "data": {
      "image/png": "[encoded data removed]",
      "text/plain": [
       "<Figure size 720x360 with 2 Axes>"
      ]
     },
     "metadata": {
      "needs_background": "light"
     },
     "output_type": "display_data"
    }
   ],
   "source": [
    "# Prepare data\n",
    "umap_data = umap.UMAP(n_neighbors=20, n_components=2, min_dist=0.0, metric='cosine').fit_transform(embeddings)\n",
    "result = pd.DataFrame(umap_data, columns=['x', 'y'])\n",
    "result['labels'] = cluster.labels_\n",
    "\n",
    "# Visualize clusters\n",
    "fig, ax = plt.subplots(figsize=(10, 5))\n",
    "outliers = result.loc[result.labels == -1, :]\n",
    "clustered = result.loc[result.labels != -1, :]\n",
    "plt.scatter(outliers.x, outliers.y, color='#BDBDBD', s=0.05)\n",
    "plt.scatter(clustered.x, clustered.y, c=clustered.labels, s=0.05, cmap='hsv_r')\n",
    "plt.colorbar()"
   ]
  },
  {
   "cell_type": "code",
   "execution_count": 65,
   "id": "82f7012b-ffea-47c7-a87e-79388c5b3dfe",
   "metadata": {},
   "outputs": [],
   "source": [
    "doc = pd.DataFrame(reviews_clean[0:10000])\n",
    "doc['Topic'] = cluster.labels_\n",
    "doc['Doc_ID'] = range(len(doc))"
   ]
  },
  {
   "cell_type": "code",
   "execution_count": 66,
   "id": "081f38fd-da67-483e-8601-391c6dde38aa",
   "metadata": {},
   "outputs": [
    {
     "data": {
      "text/html": [
       "<div>\n",
       "<style scoped>\n",
       "    .dataframe tbody tr th:only-of-type {\n",
       "        vertical-align: middle;\n",
       "    }\n",
       "\n",
       "    .dataframe tbody tr th {\n",
       "        vertical-align: top;\n",
       "    }\n",
       "\n",
       "    .dataframe thead th {\n",
       "        text-align: right;\n",
       "    }\n",
       "</style>\n",
       "<table border=\"1\" class=\"dataframe\">\n",
       "  <thead>\n",
       "    <tr style=\"text-align: right;\">\n",
       "      <th></th>\n",
       "      <th>Review_Text</th>\n",
       "      <th>Topic</th>\n",
       "      <th>Doc_ID</th>\n",
       "    </tr>\n",
       "  </thead>\n",
       "  <tbody>\n",
       "    <tr>\n",
       "      <th>0</th>\n",
       "      <td>find hongkong similar layout walk street famil...</td>\n",
       "      <td>79</td>\n",
       "      <td>0</td>\n",
       "    </tr>\n",
       "    <tr>\n",
       "      <th>1</th>\n",
       "      <td>last time visit hongkong time stay tomorrowlan...</td>\n",
       "      <td>-1</td>\n",
       "      <td>1</td>\n",
       "    </tr>\n",
       "    <tr>\n",
       "      <th>2</th>\n",
       "      <td>thanks god hot humid visit big issue shadei ar...</td>\n",
       "      <td>130</td>\n",
       "      <td>2</td>\n",
       "    </tr>\n",
       "    <tr>\n",
       "      <th>3</th>\n",
       "      <td>hongkong great compact unfortunately bit maint...</td>\n",
       "      <td>-1</td>\n",
       "      <td>3</td>\n",
       "    </tr>\n",
       "    <tr>\n",
       "      <th>4</th>\n",
       "      <td>location city take hour kowloon kid like fine ...</td>\n",
       "      <td>-1</td>\n",
       "      <td>4</td>\n",
       "    </tr>\n",
       "    <tr>\n",
       "      <th>...</th>\n",
       "      <td>...</td>\n",
       "      <td>...</td>\n",
       "      <td>...</td>\n",
       "    </tr>\n",
       "    <tr>\n",
       "      <th>9995</th>\n",
       "      <td>truly magical place christmas enhances experie...</td>\n",
       "      <td>154</td>\n",
       "      <td>9995</td>\n",
       "    </tr>\n",
       "    <tr>\n",
       "      <th>9996</th>\n",
       "      <td>delight join folk experience extraordinary tim...</td>\n",
       "      <td>106</td>\n",
       "      <td>9996</td>\n",
       "    </tr>\n",
       "    <tr>\n",
       "      <th>9997</th>\n",
       "      <td>visitied day fine weather go decemberhowever v...</td>\n",
       "      <td>-1</td>\n",
       "      <td>9997</td>\n",
       "    </tr>\n",
       "    <tr>\n",
       "      <th>9998</th>\n",
       "      <td>far happy place earth sure long line high pric...</td>\n",
       "      <td>-1</td>\n",
       "      <td>9998</td>\n",
       "    </tr>\n",
       "    <tr>\n",
       "      <th>9999</th>\n",
       "      <td>visit day treat eye special christmas vacation...</td>\n",
       "      <td>-1</td>\n",
       "      <td>9999</td>\n",
       "    </tr>\n",
       "  </tbody>\n",
       "</table>\n",
       "<p>10000 rows × 3 columns</p>\n",
       "</div>"
      ],
      "text/plain": [
       "                                            Review_Text  Topic  Doc_ID\n",
       "0     find hongkong similar layout walk street famil...     79       0\n",
       "1     last time visit hongkong time stay tomorrowlan...     -1       1\n",
       "2     thanks god hot humid visit big issue shadei ar...    130       2\n",
       "3     hongkong great compact unfortunately bit maint...     -1       3\n",
       "4     location city take hour kowloon kid like fine ...     -1       4\n",
       "...                                                 ...    ...     ...\n",
       "9995  truly magical place christmas enhances experie...    154    9995\n",
       "9996  delight join folk experience extraordinary tim...    106    9996\n",
       "9997  visitied day fine weather go decemberhowever v...     -1    9997\n",
       "9998  far happy place earth sure long line high pric...     -1    9998\n",
       "9999  visit day treat eye special christmas vacation...     -1    9999\n",
       "\n",
       "[10000 rows x 3 columns]"
      ]
     },
     "execution_count": 66,
     "metadata": {},
     "output_type": "execute_result"
    }
   ],
   "source": [
    "doc"
   ]
  },
  {
   "cell_type": "code",
   "execution_count": 59,
   "id": "f938b712-b5ab-431d-b904-862ae841fb68",
   "metadata": {},
   "outputs": [],
   "source": [
    "docs_per_topic = doc.groupby(['Topic'], as_index = False).agg({'Review_Text': ' '.join})"
   ]
  },
  {
   "cell_type": "code",
   "execution_count": 62,
   "id": "c14dcbe8-96be-4cca-b0a1-56919c38a3a9",
   "metadata": {},
   "outputs": [],
   "source": [
    "def c_tf_idf(documents, m, ngram_range=(1, 1)):\n",
    "    count = CountVectorizer(ngram_range=ngram_range, stop_words=\"english\").fit(documents)\n",
    "    t = count.transform(documents).toarray()\n",
    "    w = t.sum(axis=1)\n",
    "    tf = np.divide(t.T, w)\n",
    "    sum_t = t.sum(axis=0)\n",
    "    idf = np.log(np.divide(m, sum_t)).reshape(-1, 1)\n",
    "    tf_idf = np.multiply(tf, idf)\n",
    "\n",
    "    return tf_idf, count"
   ]
  },
  {
   "cell_type": "code",
   "execution_count": 67,
   "id": "bfe42471-6c27-4f96-9e1e-36fb3d993a16",
   "metadata": {},
   "outputs": [],
   "source": [
    "tf_idf, count = c_tf_idf(docs_per_topic.Review_Text.values, m=len(reviews_clean[0:10000]))"
   ]
  },
  {
   "cell_type": "code",
   "execution_count": 70,
   "id": "d7fa5b5e-2b05-4c62-b25b-ac64de947607",
   "metadata": {},
   "outputs": [],
   "source": [
    "def extract_top_n_words_per_topic(tf_idf, count, docs_per_topic, n=20):\n",
    "    words = count.get_feature_names()\n",
    "    labels = list(docs_per_topic.Topic)\n",
    "    tf_idf_transposed = tf_idf.T\n",
    "    indices = tf_idf_transposed.argsort()[:, -n:]\n",
    "    top_n_words = {label: [(words[j], tf_idf_transposed[i][j]) for j in indices[i]][::-1] for i, label in enumerate(labels)}\n",
    "    return top_n_words\n",
    "\n",
    "def extract_topic_sizes(df):\n",
    "    topic_sizes = (df.groupby(['Topic'])\n",
    "                     .Review_Text\n",
    "                     .count()\n",
    "                     .reset_index()\n",
    "                     .rename({\"Topic\": \"Topic\", \"Review_Text\": \"Size\"}, axis='columns')\n",
    "                     .sort_values(\"Size\", ascending=False))\n",
    "    return topic_sizes"
   ]
  },
  {
   "cell_type": "code",
   "execution_count": 71,
   "id": "151ca2ed-be94-4d0f-b0d4-eaed59d50c70",
   "metadata": {},
   "outputs": [
    {
     "data": {
      "text/html": [
       "<div>\n",
       "<style scoped>\n",
       "    .dataframe tbody tr th:only-of-type {\n",
       "        vertical-align: middle;\n",
       "    }\n",
       "\n",
       "    .dataframe tbody tr th {\n",
       "        vertical-align: top;\n",
       "    }\n",
       "\n",
       "    .dataframe thead th {\n",
       "        text-align: right;\n",
       "    }\n",
       "</style>\n",
       "<table border=\"1\" class=\"dataframe\">\n",
       "  <thead>\n",
       "    <tr style=\"text-align: right;\">\n",
       "      <th></th>\n",
       "      <th>Topic</th>\n",
       "      <th>Size</th>\n",
       "    </tr>\n",
       "  </thead>\n",
       "  <tbody>\n",
       "    <tr>\n",
       "      <th>0</th>\n",
       "      <td>-1</td>\n",
       "      <td>6408</td>\n",
       "    </tr>\n",
       "    <tr>\n",
       "      <th>63</th>\n",
       "      <td>62</td>\n",
       "      <td>553</td>\n",
       "    </tr>\n",
       "    <tr>\n",
       "      <th>85</th>\n",
       "      <td>84</td>\n",
       "      <td>369</td>\n",
       "    </tr>\n",
       "    <tr>\n",
       "      <th>149</th>\n",
       "      <td>148</td>\n",
       "      <td>119</td>\n",
       "    </tr>\n",
       "    <tr>\n",
       "      <th>144</th>\n",
       "      <td>143</td>\n",
       "      <td>118</td>\n",
       "    </tr>\n",
       "    <tr>\n",
       "      <th>146</th>\n",
       "      <td>145</td>\n",
       "      <td>111</td>\n",
       "    </tr>\n",
       "    <tr>\n",
       "      <th>56</th>\n",
       "      <td>55</td>\n",
       "      <td>59</td>\n",
       "    </tr>\n",
       "    <tr>\n",
       "      <th>163</th>\n",
       "      <td>162</td>\n",
       "      <td>55</td>\n",
       "    </tr>\n",
       "    <tr>\n",
       "      <th>84</th>\n",
       "      <td>83</td>\n",
       "      <td>48</td>\n",
       "    </tr>\n",
       "    <tr>\n",
       "      <th>60</th>\n",
       "      <td>59</td>\n",
       "      <td>44</td>\n",
       "    </tr>\n",
       "  </tbody>\n",
       "</table>\n",
       "</div>"
      ],
      "text/plain": [
       "     Topic  Size\n",
       "0       -1  6408\n",
       "63      62   553\n",
       "85      84   369\n",
       "149    148   119\n",
       "144    143   118\n",
       "146    145   111\n",
       "56      55    59\n",
       "163    162    55\n",
       "84      83    48\n",
       "60      59    44"
      ]
     },
     "execution_count": 71,
     "metadata": {},
     "output_type": "execute_result"
    }
   ],
   "source": [
    "top_n_words = extract_top_n_words_per_topic(tf_idf, count, docs_per_topic, n=20)\n",
    "topic_sizes = extract_topic_sizes(doc); topic_sizes.head(10)"
   ]
  },
  {
   "cell_type": "markdown",
   "id": "9792ac30-07fc-4b33-852a-ccb773309c3b",
   "metadata": {},
   "source": [
    "### LDA"
   ]
  },
  {
   "cell_type": "code",
   "execution_count": 73,
   "id": "72256317-7e8c-41ea-a697-5aa811cc3d96",
   "metadata": {},
   "outputs": [],
   "source": [
    "data = doc.Review_Text.values.tolist()"
   ]
  },
  {
   "cell_type": "code",
   "execution_count": null,
   "id": "f9da7b2b-c7de-4228-8d36-5e011d00dfd2",
   "metadata": {},
   "outputs": [],
   "source": []
  }
 ],
 "metadata": {
  "kernelspec": {
   "display_name": "Python [conda env:573]",
   "language": "python",
   "name": "conda-env-573-py"
  },
  "language_info": {
   "codemirror_mode": {
    "name": "ipython",
    "version": 3
   },
   "file_extension": ".py",
   "mimetype": "text/x-python",
   "name": "python",
   "nbconvert_exporter": "python",
   "pygments_lexer": "ipython3",
   "version": "3.9.9"
  }
 },
 "nbformat": 4,
 "nbformat_minor": 5
}
