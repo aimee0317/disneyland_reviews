{
 "cells": [
  {
   "cell_type": "markdown",
   "id": "7f794da3-51b1-4394-8f4b-f8b3c17be222",
   "metadata": {},
   "source": [
    "# Sentiment Analysis and Topic Inferring using ChatGPT Prompt Engineering\n",
    "Author: Amelia Tang"
   ]
  },
  {
   "cell_type": "code",
   "execution_count": 1,
   "id": "8f91bbb0-d720-4bbf-864e-51e2b4a414a4",
   "metadata": {},
   "outputs": [],
   "source": [
    "import openai\n",
    "import Constants\n",
    "import os\n",
    "import pandas as pd\n",
    "import numpy as np\n",
    "import time # The free trial tier users for gpt-3.5-turbo have a RPM (request per minute) of 3. Need this to deplay executing Python code. \n",
    "\n",
    "from dotenv import load_dotenv, find_dotenv\n",
    "_ = load_dotenv(find_dotenv())\n",
    "\n",
    "openai.api_key  = Constants.API_KEY"
   ]
  },
  {
   "cell_type": "markdown",
   "id": "8798715b-df57-4ba1-99a3-21df463cc865",
   "metadata": {},
   "source": [
    "## Sentiment Analysis "
   ]
  },
  {
   "cell_type": "markdown",
   "id": "5ab51e70-cea5-44a0-96f7-9c82f14fda24",
   "metadata": {},
   "source": [
    "Since free trial tier users of `gpt-3.5-turbo` have a limit of 3 RPM (requests per minute), I decided to examine the first ten reviews as a demo and compare the results with the polarity/sentiment scores assigned by TextBlob and VADER (implemented using NLTK)."
   ]
  },
  {
   "cell_type": "code",
   "execution_count": 2,
   "id": "3ae27fb3-0a7d-45c0-9855-4cf1b9c610e0",
   "metadata": {},
   "outputs": [
    {
     "data": {
      "text/html": [
       "<div>\n",
       "<style scoped>\n",
       "    .dataframe tbody tr th:only-of-type {\n",
       "        vertical-align: middle;\n",
       "    }\n",
       "\n",
       "    .dataframe tbody tr th {\n",
       "        vertical-align: top;\n",
       "    }\n",
       "\n",
       "    .dataframe thead th {\n",
       "        text-align: right;\n",
       "    }\n",
       "</style>\n",
       "<table border=\"1\" class=\"dataframe\">\n",
       "  <thead>\n",
       "    <tr style=\"text-align: right;\">\n",
       "      <th></th>\n",
       "      <th>Review_Text</th>\n",
       "      <th>HDBSCAN_Topic</th>\n",
       "      <th>LDA_Topic</th>\n",
       "    </tr>\n",
       "  </thead>\n",
       "  <tbody>\n",
       "    <tr>\n",
       "      <th>0</th>\n",
       "      <td>If you've ever been to Disneyland anywhere you...</td>\n",
       "      <td>-1</td>\n",
       "      <td>3</td>\n",
       "    </tr>\n",
       "    <tr>\n",
       "      <th>1</th>\n",
       "      <td>Its been a while since d last time we visit HK...</td>\n",
       "      <td>-1</td>\n",
       "      <td>5</td>\n",
       "    </tr>\n",
       "    <tr>\n",
       "      <th>2</th>\n",
       "      <td>Thanks God it wasn   t too hot or too humid wh...</td>\n",
       "      <td>20</td>\n",
       "      <td>6</td>\n",
       "    </tr>\n",
       "    <tr>\n",
       "      <th>3</th>\n",
       "      <td>HK Disneyland is a great compact park. Unfortu...</td>\n",
       "      <td>43</td>\n",
       "      <td>3</td>\n",
       "    </tr>\n",
       "    <tr>\n",
       "      <th>4</th>\n",
       "      <td>the location is not in the city, took around 1...</td>\n",
       "      <td>47</td>\n",
       "      <td>7</td>\n",
       "    </tr>\n",
       "    <tr>\n",
       "      <th>...</th>\n",
       "      <td>...</td>\n",
       "      <td>...</td>\n",
       "      <td>...</td>\n",
       "    </tr>\n",
       "    <tr>\n",
       "      <th>9995</th>\n",
       "      <td>Disneyland truly is a magical place! Christmas...</td>\n",
       "      <td>0</td>\n",
       "      <td>8</td>\n",
       "    </tr>\n",
       "    <tr>\n",
       "      <th>9996</th>\n",
       "      <td>So if you delight in joining 85,000 other folk...</td>\n",
       "      <td>-1</td>\n",
       "      <td>9</td>\n",
       "    </tr>\n",
       "    <tr>\n",
       "      <th>9997</th>\n",
       "      <td>we visitied the Disneyland park for 2 days. Ev...</td>\n",
       "      <td>-1</td>\n",
       "      <td>3</td>\n",
       "    </tr>\n",
       "    <tr>\n",
       "      <th>9998</th>\n",
       "      <td>Disneyland is by far the Happiest Place on Ear...</td>\n",
       "      <td>-1</td>\n",
       "      <td>8</td>\n",
       "    </tr>\n",
       "    <tr>\n",
       "      <th>9999</th>\n",
       "      <td>Disneyland visit on any day is a treat to your...</td>\n",
       "      <td>0</td>\n",
       "      <td>8</td>\n",
       "    </tr>\n",
       "  </tbody>\n",
       "</table>\n",
       "<p>10000 rows × 3 columns</p>\n",
       "</div>"
      ],
      "text/plain": [
       "                                            Review_Text  HDBSCAN_Topic  \\\n",
       "0     If you've ever been to Disneyland anywhere you...             -1   \n",
       "1     Its been a while since d last time we visit HK...             -1   \n",
       "2     Thanks God it wasn   t too hot or too humid wh...             20   \n",
       "3     HK Disneyland is a great compact park. Unfortu...             43   \n",
       "4     the location is not in the city, took around 1...             47   \n",
       "...                                                 ...            ...   \n",
       "9995  Disneyland truly is a magical place! Christmas...              0   \n",
       "9996  So if you delight in joining 85,000 other folk...             -1   \n",
       "9997  we visitied the Disneyland park for 2 days. Ev...             -1   \n",
       "9998  Disneyland is by far the Happiest Place on Ear...             -1   \n",
       "9999  Disneyland visit on any day is a treat to your...              0   \n",
       "\n",
       "      LDA_Topic  \n",
       "0             3  \n",
       "1             5  \n",
       "2             6  \n",
       "3             3  \n",
       "4             7  \n",
       "...         ...  \n",
       "9995          8  \n",
       "9996          9  \n",
       "9997          3  \n",
       "9998          8  \n",
       "9999          8  \n",
       "\n",
       "[10000 rows x 3 columns]"
      ]
     },
     "execution_count": 2,
     "metadata": {},
     "output_type": "execute_result"
    }
   ],
   "source": [
    "topics_df = pd.read_csv(\"../data/topics.csv\",  usecols=['Review_Text','Topic','LDA_Topic'])\n",
    "topics_df = topics_df.rename(columns = {'Topic':'HDBSCAN_Topic'})\n",
    "original_doc_df = pd.read_csv(\"../data/Raw/DisneylandReviews.csv\", usecols=[\"Review_Text\"])\n",
    "topics_df['Review_Text'] = original_doc_df.Review_Text\n",
    "topics_df"
   ]
  },
  {
   "cell_type": "code",
   "execution_count": 3,
   "id": "31d9cdaf-7c46-4097-8a20-a972b81b8ca2",
   "metadata": {},
   "outputs": [
    {
     "data": {
      "text/html": [
       "<div>\n",
       "<style scoped>\n",
       "    .dataframe tbody tr th:only-of-type {\n",
       "        vertical-align: middle;\n",
       "    }\n",
       "\n",
       "    .dataframe tbody tr th {\n",
       "        vertical-align: top;\n",
       "    }\n",
       "\n",
       "    .dataframe thead th {\n",
       "        text-align: right;\n",
       "    }\n",
       "</style>\n",
       "<table border=\"1\" class=\"dataframe\">\n",
       "  <thead>\n",
       "    <tr style=\"text-align: right;\">\n",
       "      <th></th>\n",
       "      <th>Unnamed: 0</th>\n",
       "      <th>Review_ID</th>\n",
       "      <th>Rating</th>\n",
       "      <th>Year_Month</th>\n",
       "      <th>Reviewer_Location</th>\n",
       "      <th>Review_Text</th>\n",
       "      <th>Branch</th>\n",
       "      <th>polarity</th>\n",
       "      <th>NLTK_polarity</th>\n",
       "      <th>compare</th>\n",
       "    </tr>\n",
       "  </thead>\n",
       "  <tbody>\n",
       "    <tr>\n",
       "      <th>0</th>\n",
       "      <td>0</td>\n",
       "      <td>670772142</td>\n",
       "      <td>4</td>\n",
       "      <td>2019-4</td>\n",
       "      <td>Australia</td>\n",
       "      <td>if you've ever been to disneyland anywhere you...</td>\n",
       "      <td>Disneyland_HongKong</td>\n",
       "      <td>0.243981</td>\n",
       "      <td>0.7069</td>\n",
       "      <td>True</td>\n",
       "    </tr>\n",
       "    <tr>\n",
       "      <th>1</th>\n",
       "      <td>1</td>\n",
       "      <td>670682799</td>\n",
       "      <td>4</td>\n",
       "      <td>2019-5</td>\n",
       "      <td>Philippines</td>\n",
       "      <td>its been a while since d last time we visit ho...</td>\n",
       "      <td>Disneyland_HongKong</td>\n",
       "      <td>0.236131</td>\n",
       "      <td>0.9892</td>\n",
       "      <td>True</td>\n",
       "    </tr>\n",
       "    <tr>\n",
       "      <th>2</th>\n",
       "      <td>2</td>\n",
       "      <td>670623270</td>\n",
       "      <td>4</td>\n",
       "      <td>2019-4</td>\n",
       "      <td>United Arab Emirates</td>\n",
       "      <td>thanks god it wasn   t too hot or too humid wh...</td>\n",
       "      <td>Disneyland_HongKong</td>\n",
       "      <td>0.160498</td>\n",
       "      <td>0.9920</td>\n",
       "      <td>True</td>\n",
       "    </tr>\n",
       "    <tr>\n",
       "      <th>3</th>\n",
       "      <td>3</td>\n",
       "      <td>670607911</td>\n",
       "      <td>4</td>\n",
       "      <td>2019-4</td>\n",
       "      <td>Australia</td>\n",
       "      <td>hongkong disneyland is a great compact park. u...</td>\n",
       "      <td>Disneyland_HongKong</td>\n",
       "      <td>0.189286</td>\n",
       "      <td>0.8489</td>\n",
       "      <td>True</td>\n",
       "    </tr>\n",
       "    <tr>\n",
       "      <th>4</th>\n",
       "      <td>4</td>\n",
       "      <td>670607296</td>\n",
       "      <td>4</td>\n",
       "      <td>2019-4</td>\n",
       "      <td>United Kingdom</td>\n",
       "      <td>the location is not in the city, took around 1...</td>\n",
       "      <td>Disneyland_HongKong</td>\n",
       "      <td>0.266667</td>\n",
       "      <td>0.2846</td>\n",
       "      <td>True</td>\n",
       "    </tr>\n",
       "    <tr>\n",
       "      <th>5</th>\n",
       "      <td>5</td>\n",
       "      <td>670591897</td>\n",
       "      <td>3</td>\n",
       "      <td>2019-4</td>\n",
       "      <td>Singapore</td>\n",
       "      <td>have been to disney world, disneyland anaheim ...</td>\n",
       "      <td>Disneyland_HongKong</td>\n",
       "      <td>-0.065476</td>\n",
       "      <td>0.9653</td>\n",
       "      <td>False</td>\n",
       "    </tr>\n",
       "    <tr>\n",
       "      <th>6</th>\n",
       "      <td>6</td>\n",
       "      <td>670585330</td>\n",
       "      <td>5</td>\n",
       "      <td>2019-4</td>\n",
       "      <td>India</td>\n",
       "      <td>great place! your day will go by and you wo no...</td>\n",
       "      <td>Disneyland_HongKong</td>\n",
       "      <td>0.185000</td>\n",
       "      <td>0.7489</td>\n",
       "      <td>True</td>\n",
       "    </tr>\n",
       "    <tr>\n",
       "      <th>7</th>\n",
       "      <td>7</td>\n",
       "      <td>670574142</td>\n",
       "      <td>3</td>\n",
       "      <td>2019-3</td>\n",
       "      <td>Malaysia</td>\n",
       "      <td>think of it as an intro to disney magic for th...</td>\n",
       "      <td>Disneyland_HongKong</td>\n",
       "      <td>0.054722</td>\n",
       "      <td>0.8345</td>\n",
       "      <td>True</td>\n",
       "    </tr>\n",
       "    <tr>\n",
       "      <th>8</th>\n",
       "      <td>8</td>\n",
       "      <td>670571027</td>\n",
       "      <td>2</td>\n",
       "      <td>2019-4</td>\n",
       "      <td>Australia</td>\n",
       "      <td>feel so let down with this place,the disneylan...</td>\n",
       "      <td>Disneyland_HongKong</td>\n",
       "      <td>-0.067284</td>\n",
       "      <td>0.5195</td>\n",
       "      <td>False</td>\n",
       "    </tr>\n",
       "    <tr>\n",
       "      <th>9</th>\n",
       "      <td>9</td>\n",
       "      <td>670570869</td>\n",
       "      <td>5</td>\n",
       "      <td>2019-3</td>\n",
       "      <td>India</td>\n",
       "      <td>i can go on talking about disneyland. whatever...</td>\n",
       "      <td>Disneyland_HongKong</td>\n",
       "      <td>0.204497</td>\n",
       "      <td>0.9645</td>\n",
       "      <td>True</td>\n",
       "    </tr>\n",
       "  </tbody>\n",
       "</table>\n",
       "</div>"
      ],
      "text/plain": [
       "   Unnamed: 0  Review_ID  Rating Year_Month     Reviewer_Location  \\\n",
       "0           0  670772142       4     2019-4             Australia   \n",
       "1           1  670682799       4     2019-5           Philippines   \n",
       "2           2  670623270       4     2019-4  United Arab Emirates   \n",
       "3           3  670607911       4     2019-4             Australia   \n",
       "4           4  670607296       4     2019-4        United Kingdom   \n",
       "5           5  670591897       3     2019-4             Singapore   \n",
       "6           6  670585330       5     2019-4                 India   \n",
       "7           7  670574142       3     2019-3              Malaysia   \n",
       "8           8  670571027       2     2019-4             Australia   \n",
       "9           9  670570869       5     2019-3                 India   \n",
       "\n",
       "                                         Review_Text               Branch  \\\n",
       "0  if you've ever been to disneyland anywhere you...  Disneyland_HongKong   \n",
       "1  its been a while since d last time we visit ho...  Disneyland_HongKong   \n",
       "2  thanks god it wasn   t too hot or too humid wh...  Disneyland_HongKong   \n",
       "3  hongkong disneyland is a great compact park. u...  Disneyland_HongKong   \n",
       "4  the location is not in the city, took around 1...  Disneyland_HongKong   \n",
       "5  have been to disney world, disneyland anaheim ...  Disneyland_HongKong   \n",
       "6  great place! your day will go by and you wo no...  Disneyland_HongKong   \n",
       "7  think of it as an intro to disney magic for th...  Disneyland_HongKong   \n",
       "8  feel so let down with this place,the disneylan...  Disneyland_HongKong   \n",
       "9  i can go on talking about disneyland. whatever...  Disneyland_HongKong   \n",
       "\n",
       "   polarity  NLTK_polarity  compare  \n",
       "0  0.243981         0.7069     True  \n",
       "1  0.236131         0.9892     True  \n",
       "2  0.160498         0.9920     True  \n",
       "3  0.189286         0.8489     True  \n",
       "4  0.266667         0.2846     True  \n",
       "5 -0.065476         0.9653    False  \n",
       "6  0.185000         0.7489     True  \n",
       "7  0.054722         0.8345     True  \n",
       "8 -0.067284         0.5195    False  \n",
       "9  0.204497         0.9645     True  "
      ]
     },
     "execution_count": 3,
     "metadata": {},
     "output_type": "execute_result"
    }
   ],
   "source": [
    "sentiment_df = pd.read_csv(\"../data/sentiment.csv\")\n",
    "sentiment_df_10 = sentiment_df.iloc[:10]\n",
    "sentiment_df_10 "
   ]
  },
  {
   "cell_type": "code",
   "execution_count": 4,
   "id": "2b3d63db-74a7-4ea5-92e6-2c09b880938e",
   "metadata": {},
   "outputs": [],
   "source": [
    "# Code from deeplearning.ai ChatGPT Prompt Engineering for Developers Short Course \n",
    "def get_completion(prompt, model=\"gpt-3.5-turbo\"):\n",
    "    messages = [{\"role\": \"user\", \"content\": prompt}]\n",
    "    response = openai.ChatCompletion.create(\n",
    "        model=model,\n",
    "        messages=messages,\n",
    "        temperature=0, # this is the degree of randomness of the model's output\n",
    "    )\n",
    "    return response.choices[0].message[\"content\"]"
   ]
  },
  {
   "cell_type": "code",
   "execution_count": 5,
   "id": "89b594e5-dbef-4c94-ac03-c963b96248bc",
   "metadata": {},
   "outputs": [],
   "source": [
    "# Prompt adpated from deeplearning.ai ChatGPT Prompt Engineering for Developers Short Course \n",
    "def sentiment_full(start_index, end_index):\n",
    "    \"\"\"Full sentiment analysis using ChatGPT gpt-3.5-turbo.\n",
    "\n",
    "    Use ChatGPT to describe the reviews' sentiments.  \n",
    "\n",
    "    Parameters\n",
    "    ----------\n",
    "    start_index : int\n",
    "        The start index of the Review_Text in the sentiment_df dataframe we want to examine\n",
    "    end_index : int\n",
    "        The end index of the Review_Text in the sentiment_df dataframe we want to examine\n",
    "\n",
    "    Returns\n",
    "    -------\n",
    "    None\n",
    "        Only print out the sentiment of each review text using ChatGPT as a string in a list\n",
    "\n",
    "    Examples\n",
    "    --------\n",
    "    >>> sentiment_full(10, 12)\n",
    "   ['The sentiment of the review is positive.']\n",
    "   ['The sentiment of the review on Disneyland is positive.']\n",
    "    \"\"\"\n",
    "    ChatGPT_sentiment_full = []\n",
    "    for i in np.arange(start=start_index, stop=end_index):\n",
    "        disney_review = topics_df.Review_Text[i]\n",
    "        prompt = f\"\"\"\n",
    "        What is the sentiment of the following review on Disneyland,\n",
    "        which is delimited with triple backticks?\n",
    "        Review text: '''{disney_review}'''\n",
    "        \"\"\"\n",
    "        sentiment = get_completion(prompt)\n",
    "        ChatGPT_sentiment_full.append(sentiment)\n",
    "        print(ChatGPT_sentiment_full)"
   ]
  },
  {
   "cell_type": "code",
   "execution_count": 6,
   "id": "e3c30ff8-4027-41c2-8d45-b5953318269e",
   "metadata": {
    "tags": []
   },
   "outputs": [
    {
     "name": "stdout",
     "output_type": "stream",
     "text": [
      "['The sentiment of the review is positive.']\n",
      "['The sentiment of the review is positive.', 'The sentiment of the review on Disneyland is mixed. The reviewer expresses excitement and enjoyment for certain attractions like the Iron Man Experience and Space Mountain, but also expresses disappointment with the behavior of the cast members and the overall atmosphere of the park. They do mention some positive aspects such as the bakery and the addition of a Starbucks inside the park.']\n",
      "['The sentiment of the review is positive.', 'The sentiment of the review on Disneyland is mixed. The reviewer expresses excitement and enjoyment for certain attractions like the Iron Man Experience and Space Mountain, but also expresses disappointment with the behavior of the cast members and the overall atmosphere of the park. They do mention some positive aspects such as the bakery and the addition of a Starbucks inside the park.', 'The sentiment of the review on Disneyland is generally positive.']\n"
     ]
    }
   ],
   "source": [
    "sentiment_full(0, 3) \n",
    "time.sleep(60) # The free trial tier users for gpt-3.5-turbo have a RPM (request per minute) of 3. Need this to deplay executing Python code."
   ]
  },
  {
   "cell_type": "code",
   "execution_count": 7,
   "id": "7bba9511-0ef3-44f5-899a-f4112ce5c064",
   "metadata": {},
   "outputs": [],
   "source": [
    "def sentiment_rating(start_index, end_index):\n",
    "    \"\"\"sentiment rating between -1 and 1 using ChatGPT gpt-3.5-turbo.\n",
    "\n",
    "    Use ChatGPT to rate the reviews' sentiments.  \n",
    "\n",
    "    Parameters\n",
    "    ----------\n",
    "    start_index : int\n",
    "        The start index of the Review_Text in the sentiment_df dataframe we want to examine\n",
    "    end_index : int\n",
    "        The end index of the Review_Text in the sentiment_df dataframe we want to examine\n",
    "\n",
    "    Returns\n",
    "    -------\n",
    "    list\n",
    "        A list of strings that report the ChatGPT ratings\n",
    "\n",
    "    Examples\n",
    "    --------\n",
    "    >>> sentiment_rating(10, 12)\n",
    "    ['0.9', '0.8']\n",
    "    \"\"\"\n",
    "    time.sleep(60) # The free trial tier users for gpt-3.5-turbo have a RPM (request per minute) of 3. Need this to deplay executing Python code. \n",
    "    sentiment_rating = []\n",
    "    for i in np.arange(start=start_index, stop=end_index):\n",
    "        disney_review = topics_df.Review_Text[i]\n",
    "        prompt = f\"\"\"\n",
    "        What is the sentiment of the following review on Disneyland,\n",
    "        which is delimited with triple backticks?\n",
    "        Review text: '''{disney_review}'''\n",
    "        Rate the sentiment on a scale of -1 to 1 where 1 means the most positive and -1 means the most negative.\n",
    "        The output rating should be a float number between -1 and 1 only. \n",
    "        Do not add any text in additional to the output rating. \n",
    "        \"\"\"\n",
    "        sentiment = get_completion(prompt)\n",
    "        sentiment_rating.append(sentiment)\n",
    "    return sentiment_rating"
   ]
  },
  {
   "cell_type": "code",
   "execution_count": 8,
   "id": "4ba2236c-16eb-43ca-9005-5a501e377ad3",
   "metadata": {},
   "outputs": [],
   "source": [
    "sentiment_rating_10 = []\n",
    "#time.sleep(60)  # The free trial tier users for gpt-3.5-turbo have a RPM (request per minute) of 3. Need this to deplay executing Python code. \n",
    "sentiment_rating_10.extend(sentiment_rating(0,3))\n",
    "#time.sleep(60)\n",
    "sentiment_rating_10.extend(sentiment_rating(3,6))\n",
    "#time.sleep(60)\n",
    "sentiment_rating_10.extend(sentiment_rating(6,9))\n",
    "#time.sleep(60)\n",
    "sentiment_rating_10.extend(sentiment_rating(9,10))"
   ]
  },
  {
   "cell_type": "code",
   "execution_count": 9,
   "id": "7462fe32-1c88-403a-996a-80b8c2e88488",
   "metadata": {},
   "outputs": [
    {
     "data": {
      "text/plain": [
       "['0.6', '0.4', '0.4', '0.5', '0.4', '-0.8', '0.8', '0.2', '-0.9', '0.8']"
      ]
     },
     "execution_count": 9,
     "metadata": {},
     "output_type": "execute_result"
    }
   ],
   "source": [
    "sentiment_rating_10 "
   ]
  },
  {
   "cell_type": "code",
   "execution_count": 10,
   "id": "c44b0ad4-7206-4eee-811e-ec21fd9a62f1",
   "metadata": {},
   "outputs": [
    {
     "name": "stderr",
     "output_type": "stream",
     "text": [
      "/var/folders/_4/jzqnz7yj25j_kwhdgh43z6br0000gn/T/ipykernel_82724/2156948754.py:1: SettingWithCopyWarning: \n",
      "A value is trying to be set on a copy of a slice from a DataFrame.\n",
      "Try using .loc[row_indexer,col_indexer] = value instead\n",
      "\n",
      "See the caveats in the documentation: https://pandas.pydata.org/pandas-docs/stable/user_guide/indexing.html#returning-a-view-versus-a-copy\n",
      "  sentiment_df_10['ChatGPT_rating'] = np.array(sentiment_rating_10)\n"
     ]
    }
   ],
   "source": [
    "sentiment_df_10['ChatGPT_rating'] = np.array(sentiment_rating_10)"
   ]
  },
  {
   "cell_type": "code",
   "execution_count": 11,
   "id": "f1e16e2b-6d7c-437f-bf14-b716d307385a",
   "metadata": {},
   "outputs": [
    {
     "data": {
      "text/html": [
       "<div>\n",
       "<style scoped>\n",
       "    .dataframe tbody tr th:only-of-type {\n",
       "        vertical-align: middle;\n",
       "    }\n",
       "\n",
       "    .dataframe tbody tr th {\n",
       "        vertical-align: top;\n",
       "    }\n",
       "\n",
       "    .dataframe thead th {\n",
       "        text-align: right;\n",
       "    }\n",
       "</style>\n",
       "<table border=\"1\" class=\"dataframe\">\n",
       "  <thead>\n",
       "    <tr style=\"text-align: right;\">\n",
       "      <th></th>\n",
       "      <th>Unnamed: 0</th>\n",
       "      <th>Review_ID</th>\n",
       "      <th>Rating</th>\n",
       "      <th>Year_Month</th>\n",
       "      <th>Reviewer_Location</th>\n",
       "      <th>Review_Text</th>\n",
       "      <th>Branch</th>\n",
       "      <th>polarity</th>\n",
       "      <th>NLTK_polarity</th>\n",
       "      <th>compare</th>\n",
       "      <th>ChatGPT_rating</th>\n",
       "    </tr>\n",
       "  </thead>\n",
       "  <tbody>\n",
       "    <tr>\n",
       "      <th>0</th>\n",
       "      <td>0</td>\n",
       "      <td>670772142</td>\n",
       "      <td>4</td>\n",
       "      <td>2019-4</td>\n",
       "      <td>Australia</td>\n",
       "      <td>if you've ever been to disneyland anywhere you...</td>\n",
       "      <td>Disneyland_HongKong</td>\n",
       "      <td>0.243981</td>\n",
       "      <td>0.7069</td>\n",
       "      <td>True</td>\n",
       "      <td>0.6</td>\n",
       "    </tr>\n",
       "    <tr>\n",
       "      <th>1</th>\n",
       "      <td>1</td>\n",
       "      <td>670682799</td>\n",
       "      <td>4</td>\n",
       "      <td>2019-5</td>\n",
       "      <td>Philippines</td>\n",
       "      <td>its been a while since d last time we visit ho...</td>\n",
       "      <td>Disneyland_HongKong</td>\n",
       "      <td>0.236131</td>\n",
       "      <td>0.9892</td>\n",
       "      <td>True</td>\n",
       "      <td>0.4</td>\n",
       "    </tr>\n",
       "    <tr>\n",
       "      <th>2</th>\n",
       "      <td>2</td>\n",
       "      <td>670623270</td>\n",
       "      <td>4</td>\n",
       "      <td>2019-4</td>\n",
       "      <td>United Arab Emirates</td>\n",
       "      <td>thanks god it wasn   t too hot or too humid wh...</td>\n",
       "      <td>Disneyland_HongKong</td>\n",
       "      <td>0.160498</td>\n",
       "      <td>0.9920</td>\n",
       "      <td>True</td>\n",
       "      <td>0.4</td>\n",
       "    </tr>\n",
       "    <tr>\n",
       "      <th>3</th>\n",
       "      <td>3</td>\n",
       "      <td>670607911</td>\n",
       "      <td>4</td>\n",
       "      <td>2019-4</td>\n",
       "      <td>Australia</td>\n",
       "      <td>hongkong disneyland is a great compact park. u...</td>\n",
       "      <td>Disneyland_HongKong</td>\n",
       "      <td>0.189286</td>\n",
       "      <td>0.8489</td>\n",
       "      <td>True</td>\n",
       "      <td>0.5</td>\n",
       "    </tr>\n",
       "    <tr>\n",
       "      <th>4</th>\n",
       "      <td>4</td>\n",
       "      <td>670607296</td>\n",
       "      <td>4</td>\n",
       "      <td>2019-4</td>\n",
       "      <td>United Kingdom</td>\n",
       "      <td>the location is not in the city, took around 1...</td>\n",
       "      <td>Disneyland_HongKong</td>\n",
       "      <td>0.266667</td>\n",
       "      <td>0.2846</td>\n",
       "      <td>True</td>\n",
       "      <td>0.4</td>\n",
       "    </tr>\n",
       "    <tr>\n",
       "      <th>5</th>\n",
       "      <td>5</td>\n",
       "      <td>670591897</td>\n",
       "      <td>3</td>\n",
       "      <td>2019-4</td>\n",
       "      <td>Singapore</td>\n",
       "      <td>have been to disney world, disneyland anaheim ...</td>\n",
       "      <td>Disneyland_HongKong</td>\n",
       "      <td>-0.065476</td>\n",
       "      <td>0.9653</td>\n",
       "      <td>False</td>\n",
       "      <td>-0.8</td>\n",
       "    </tr>\n",
       "    <tr>\n",
       "      <th>6</th>\n",
       "      <td>6</td>\n",
       "      <td>670585330</td>\n",
       "      <td>5</td>\n",
       "      <td>2019-4</td>\n",
       "      <td>India</td>\n",
       "      <td>great place! your day will go by and you wo no...</td>\n",
       "      <td>Disneyland_HongKong</td>\n",
       "      <td>0.185000</td>\n",
       "      <td>0.7489</td>\n",
       "      <td>True</td>\n",
       "      <td>0.8</td>\n",
       "    </tr>\n",
       "    <tr>\n",
       "      <th>7</th>\n",
       "      <td>7</td>\n",
       "      <td>670574142</td>\n",
       "      <td>3</td>\n",
       "      <td>2019-3</td>\n",
       "      <td>Malaysia</td>\n",
       "      <td>think of it as an intro to disney magic for th...</td>\n",
       "      <td>Disneyland_HongKong</td>\n",
       "      <td>0.054722</td>\n",
       "      <td>0.8345</td>\n",
       "      <td>True</td>\n",
       "      <td>0.2</td>\n",
       "    </tr>\n",
       "    <tr>\n",
       "      <th>8</th>\n",
       "      <td>8</td>\n",
       "      <td>670571027</td>\n",
       "      <td>2</td>\n",
       "      <td>2019-4</td>\n",
       "      <td>Australia</td>\n",
       "      <td>feel so let down with this place,the disneylan...</td>\n",
       "      <td>Disneyland_HongKong</td>\n",
       "      <td>-0.067284</td>\n",
       "      <td>0.5195</td>\n",
       "      <td>False</td>\n",
       "      <td>-0.9</td>\n",
       "    </tr>\n",
       "    <tr>\n",
       "      <th>9</th>\n",
       "      <td>9</td>\n",
       "      <td>670570869</td>\n",
       "      <td>5</td>\n",
       "      <td>2019-3</td>\n",
       "      <td>India</td>\n",
       "      <td>i can go on talking about disneyland. whatever...</td>\n",
       "      <td>Disneyland_HongKong</td>\n",
       "      <td>0.204497</td>\n",
       "      <td>0.9645</td>\n",
       "      <td>True</td>\n",
       "      <td>0.8</td>\n",
       "    </tr>\n",
       "  </tbody>\n",
       "</table>\n",
       "</div>"
      ],
      "text/plain": [
       "   Unnamed: 0  Review_ID  Rating Year_Month     Reviewer_Location  \\\n",
       "0           0  670772142       4     2019-4             Australia   \n",
       "1           1  670682799       4     2019-5           Philippines   \n",
       "2           2  670623270       4     2019-4  United Arab Emirates   \n",
       "3           3  670607911       4     2019-4             Australia   \n",
       "4           4  670607296       4     2019-4        United Kingdom   \n",
       "5           5  670591897       3     2019-4             Singapore   \n",
       "6           6  670585330       5     2019-4                 India   \n",
       "7           7  670574142       3     2019-3              Malaysia   \n",
       "8           8  670571027       2     2019-4             Australia   \n",
       "9           9  670570869       5     2019-3                 India   \n",
       "\n",
       "                                         Review_Text               Branch  \\\n",
       "0  if you've ever been to disneyland anywhere you...  Disneyland_HongKong   \n",
       "1  its been a while since d last time we visit ho...  Disneyland_HongKong   \n",
       "2  thanks god it wasn   t too hot or too humid wh...  Disneyland_HongKong   \n",
       "3  hongkong disneyland is a great compact park. u...  Disneyland_HongKong   \n",
       "4  the location is not in the city, took around 1...  Disneyland_HongKong   \n",
       "5  have been to disney world, disneyland anaheim ...  Disneyland_HongKong   \n",
       "6  great place! your day will go by and you wo no...  Disneyland_HongKong   \n",
       "7  think of it as an intro to disney magic for th...  Disneyland_HongKong   \n",
       "8  feel so let down with this place,the disneylan...  Disneyland_HongKong   \n",
       "9  i can go on talking about disneyland. whatever...  Disneyland_HongKong   \n",
       "\n",
       "   polarity  NLTK_polarity  compare ChatGPT_rating  \n",
       "0  0.243981         0.7069     True            0.6  \n",
       "1  0.236131         0.9892     True            0.4  \n",
       "2  0.160498         0.9920     True            0.4  \n",
       "3  0.189286         0.8489     True            0.5  \n",
       "4  0.266667         0.2846     True            0.4  \n",
       "5 -0.065476         0.9653    False           -0.8  \n",
       "6  0.185000         0.7489     True            0.8  \n",
       "7  0.054722         0.8345     True            0.2  \n",
       "8 -0.067284         0.5195    False           -0.9  \n",
       "9  0.204497         0.9645     True            0.8  "
      ]
     },
     "execution_count": 11,
     "metadata": {},
     "output_type": "execute_result"
    }
   ],
   "source": [
    "sentiment_df_10"
   ]
  },
  {
   "cell_type": "markdown",
   "id": "396888e0-3d07-4367-9a23-6530ef2db47e",
   "metadata": {},
   "source": [
    "In the two instances where the polarity/sentiment scores assigned by TextBlob and VADER have different signs (positive/negative), ChatGPT agrees with TextBlob. I decided to examine these two reviews, and it appeared that the sentiment of both reviews was rather negative."
   ]
  },
  {
   "cell_type": "code",
   "execution_count": 12,
   "id": "7cb9b752-7fcd-4462-98d3-98304845c828",
   "metadata": {
    "tags": []
   },
   "outputs": [
    {
     "data": {
      "text/plain": [
       "'have been to disney world, disneyland anaheim and tokyo disneyland but i feel that disneyland hongkong is really too small to be called a disneyland. it has way too few rides and attractions. souvenirs, food and even entrance tickets are slightly more expensive than other disneyland as well. basically, this park is good only for small children and people who has never been to disney. the food choices were acceptable, mostly fast food, and not too expensive. bottled water, however, was very expensive but they do have water fountains around for you to refill your water bottles. the parade was pretty good. it was crowded not a problem but what was the problem was the people were just so rude, the pushing and shoving cutting in lines for the rides, gift shops, food stands was just to much to take. forget trying to see one of the shows its a free for all for seats, i do not see how disney can let this happen, it was by far the worst managed disney property.'"
      ]
     },
     "execution_count": 12,
     "metadata": {},
     "output_type": "execute_result"
    }
   ],
   "source": [
    "sentiment_df_10.loc[5][5]"
   ]
  },
  {
   "cell_type": "code",
   "execution_count": 13,
   "id": "4171d402-91a2-4881-870e-df17b0b0cf80",
   "metadata": {
    "tags": []
   },
   "outputs": [
    {
     "data": {
      "text/plain": [
       "'feel so let down with this place,the disneyland train was fantastic until you get past the station,bad signage, terrible staff who just did not want to be there ,it was rainning and rides were not working could not find a map of place, over priced fun park. disney characters only 2 seen under a cabana having photos with visitors queuing up in the rain. dont waste your money. walt disney would be horrified, not enough eating places for the amount of people or rest rooms. seems they are building something but who knows what. no atmosphere of fun and fantasy. '"
      ]
     },
     "execution_count": 13,
     "metadata": {},
     "output_type": "execute_result"
    }
   ],
   "source": [
    "sentiment_df_10.loc[8][5]"
   ]
  },
  {
   "cell_type": "markdown",
   "id": "8ce50962-3512-4d12-9533-e22b6bc67e5d",
   "metadata": {},
   "source": [
    "## Topic Modeling "
   ]
  },
  {
   "cell_type": "markdown",
   "id": "97048053-967d-45b0-a559-17d43f4a3e78",
   "metadata": {},
   "source": [
    "First, I loaded the topic modeling results using HDBSCAN and LDA. HDBSCAN identified 4,673 reviews as noise, and topic clusters 29, 45, and 26 are among the largest clusters. In LDA, topics 8, 7, and 9 contained the most reviews."
   ]
  },
  {
   "cell_type": "code",
   "execution_count": 14,
   "id": "afdde8da-6a67-4ae0-8e42-775c4707344a",
   "metadata": {
    "tags": []
   },
   "outputs": [
    {
     "data": {
      "text/html": [
       "<div>\n",
       "<style scoped>\n",
       "    .dataframe tbody tr th:only-of-type {\n",
       "        vertical-align: middle;\n",
       "    }\n",
       "\n",
       "    .dataframe tbody tr th {\n",
       "        vertical-align: top;\n",
       "    }\n",
       "\n",
       "    .dataframe thead th {\n",
       "        text-align: right;\n",
       "    }\n",
       "</style>\n",
       "<table border=\"1\" class=\"dataframe\">\n",
       "  <thead>\n",
       "    <tr style=\"text-align: right;\">\n",
       "      <th></th>\n",
       "      <th>Review_Text</th>\n",
       "    </tr>\n",
       "    <tr>\n",
       "      <th>HDBSCAN_Topic</th>\n",
       "      <th></th>\n",
       "    </tr>\n",
       "  </thead>\n",
       "  <tbody>\n",
       "    <tr>\n",
       "      <th>-1</th>\n",
       "      <td>4673</td>\n",
       "    </tr>\n",
       "    <tr>\n",
       "      <th>29</th>\n",
       "      <td>297</td>\n",
       "    </tr>\n",
       "    <tr>\n",
       "      <th>45</th>\n",
       "      <td>284</td>\n",
       "    </tr>\n",
       "    <tr>\n",
       "      <th>26</th>\n",
       "      <td>205</td>\n",
       "    </tr>\n",
       "    <tr>\n",
       "      <th>16</th>\n",
       "      <td>184</td>\n",
       "    </tr>\n",
       "    <tr>\n",
       "      <th>5</th>\n",
       "      <td>178</td>\n",
       "    </tr>\n",
       "    <tr>\n",
       "      <th>20</th>\n",
       "      <td>165</td>\n",
       "    </tr>\n",
       "    <tr>\n",
       "      <th>11</th>\n",
       "      <td>154</td>\n",
       "    </tr>\n",
       "    <tr>\n",
       "      <th>35</th>\n",
       "      <td>153</td>\n",
       "    </tr>\n",
       "    <tr>\n",
       "      <th>47</th>\n",
       "      <td>145</td>\n",
       "    </tr>\n",
       "  </tbody>\n",
       "</table>\n",
       "</div>"
      ],
      "text/plain": [
       "               Review_Text\n",
       "HDBSCAN_Topic             \n",
       "-1                    4673\n",
       " 29                    297\n",
       " 45                    284\n",
       " 26                    205\n",
       " 16                    184\n",
       " 5                     178\n",
       " 20                    165\n",
       " 11                    154\n",
       " 35                    153\n",
       " 47                    145"
      ]
     },
     "execution_count": 14,
     "metadata": {},
     "output_type": "execute_result"
    }
   ],
   "source": [
    "topics_df.iloc[:, 0:2].groupby('HDBSCAN_Topic').count().sort_values('Review_Text', ascending=False).head(10)"
   ]
  },
  {
   "cell_type": "code",
   "execution_count": 15,
   "id": "275fde5e-e4f4-4f4f-b9cd-7b64ab200735",
   "metadata": {
    "tags": []
   },
   "outputs": [
    {
     "data": {
      "text/html": [
       "<div>\n",
       "<style scoped>\n",
       "    .dataframe tbody tr th:only-of-type {\n",
       "        vertical-align: middle;\n",
       "    }\n",
       "\n",
       "    .dataframe tbody tr th {\n",
       "        vertical-align: top;\n",
       "    }\n",
       "\n",
       "    .dataframe thead th {\n",
       "        text-align: right;\n",
       "    }\n",
       "</style>\n",
       "<table border=\"1\" class=\"dataframe\">\n",
       "  <thead>\n",
       "    <tr style=\"text-align: right;\">\n",
       "      <th></th>\n",
       "      <th>Review_Text</th>\n",
       "    </tr>\n",
       "    <tr>\n",
       "      <th>LDA_Topic</th>\n",
       "      <th></th>\n",
       "    </tr>\n",
       "  </thead>\n",
       "  <tbody>\n",
       "    <tr>\n",
       "      <th>8</th>\n",
       "      <td>1552</td>\n",
       "    </tr>\n",
       "    <tr>\n",
       "      <th>7</th>\n",
       "      <td>1451</td>\n",
       "    </tr>\n",
       "    <tr>\n",
       "      <th>9</th>\n",
       "      <td>1408</td>\n",
       "    </tr>\n",
       "    <tr>\n",
       "      <th>6</th>\n",
       "      <td>1150</td>\n",
       "    </tr>\n",
       "    <tr>\n",
       "      <th>2</th>\n",
       "      <td>1101</td>\n",
       "    </tr>\n",
       "    <tr>\n",
       "      <th>3</th>\n",
       "      <td>1011</td>\n",
       "    </tr>\n",
       "    <tr>\n",
       "      <th>5</th>\n",
       "      <td>832</td>\n",
       "    </tr>\n",
       "    <tr>\n",
       "      <th>4</th>\n",
       "      <td>767</td>\n",
       "    </tr>\n",
       "    <tr>\n",
       "      <th>0</th>\n",
       "      <td>452</td>\n",
       "    </tr>\n",
       "    <tr>\n",
       "      <th>1</th>\n",
       "      <td>276</td>\n",
       "    </tr>\n",
       "  </tbody>\n",
       "</table>\n",
       "</div>"
      ],
      "text/plain": [
       "           Review_Text\n",
       "LDA_Topic             \n",
       "8                 1552\n",
       "7                 1451\n",
       "9                 1408\n",
       "6                 1150\n",
       "2                 1101\n",
       "3                 1011\n",
       "5                  832\n",
       "4                  767\n",
       "0                  452\n",
       "1                  276"
      ]
     },
     "execution_count": 15,
     "metadata": {},
     "output_type": "execute_result"
    }
   ],
   "source": [
    "topics_df.iloc[:, np.r_[0, 2]].groupby('LDA_Topic').count().sort_values('Review_Text', ascending=False)"
   ]
  },
  {
   "cell_type": "markdown",
   "id": "dba5df5f-55fc-4b90-956d-50fcfcfb85db",
   "metadata": {},
   "source": [
    "I used ChatGPT to infer the topic of the top 3 large clusters for both assigned by HDBSCAN and LDA. "
   ]
  },
  {
   "cell_type": "code",
   "execution_count": 16,
   "id": "29c92746-66f4-4c01-b331-cf311a9c7448",
   "metadata": {
    "tags": []
   },
   "outputs": [],
   "source": [
    "def ChatGPT_topic_infer(topic_num, n_sample = 5, method = 'HDBSCAN_Topic'):\n",
    "    \"\"\"Topic identification using ChatGPT gpt-3.5-turbo.\n",
    "\n",
    "    Use ChatGPT to examine the topics identified by HDBSCAN and\n",
    "    LDA in the Disney Reviews.\n",
    "\n",
    "    Parameters\n",
    "    ----------\n",
    "   topic_num : int\n",
    "        The topic number of the topic / cluster to examine\n",
    "    n_sample : int\n",
    "        The amount of samples we draw from each topic, default to 5. \n",
    "    method : str\n",
    "        The method used to identify the topic\n",
    "        default to 'HDBSCAN_Topic'\n",
    "        can also use 'LDA_Topic'\n",
    "\n",
    "    Returns\n",
    "    -------\n",
    "    None\n",
    "        Only print out the 5 topics identified by ChatGPT \n",
    "\n",
    "    Examples\n",
    "    --------\n",
    "    >>> ChatGPT_topic_infer(29, 10)\n",
    "    1. Disneyland\n",
    "    2. Fireworks\n",
    "    3. Rides\n",
    "    4. Characters\n",
    "    5. Family trip\n",
    "    \"\"\"\n",
    "    time.sleep(60)\n",
    "    topics_df_sample = topics_df.loc[topics_df[method] == topic_num].sample(n_sample)\n",
    "    corpus = ' '.join(topics_df_sample[\"Review_Text\"])\n",
    "    \n",
    "\n",
    "    prompt = f\"\"\"\n",
    "    Determine five topics that are being discussed in the \\\n",
    "    following text, which is delimited by triple backticks.\n",
    "    Make each item one or two words long. \n",
    "    Format your response as a list of items separated by commas.\n",
    "\n",
    "    Text sample: '''{corpus}'''\n",
    "    Format: \n",
    "    1. Topic 1\n",
    "    2. Topic 2\n",
    "    3. Topic 3\n",
    "    4. Topic 4\n",
    "    5. Topic 5\n",
    "    \"\"\"\n",
    "    response = get_completion(prompt)\n",
    "    print(response)"
   ]
  },
  {
   "cell_type": "markdown",
   "id": "9779d80c-609d-4ad5-801b-1983efb5d904",
   "metadata": {},
   "source": [
    "### Topic 29, 45 and 26 by HDBSCAN\n",
    "Initially, I read sampled comments in each topic and summarized as below: \n",
    "<br>- Topic 29: firework\n",
    "<br>- Topic 45: family members\n",
    "<br>- Topic 26: disappointments\n",
    "<br>It looked like topic 29 was likely to be related to fireworks. "
   ]
  },
  {
   "cell_type": "code",
   "execution_count": 17,
   "id": "384c38d7-f35c-4310-b801-fa0af449dddd",
   "metadata": {
    "tags": []
   },
   "outputs": [
    {
     "name": "stdout",
     "output_type": "stream",
     "text": [
      "1. Disneyland experience\n",
      "2. Rides and attractions\n",
      "3. Age suitability\n",
      "4. Parade and fireworks\n",
      "5. Shopping and merchandise\n"
     ]
    }
   ],
   "source": [
    "ChatGPT_topic_infer(29, 5)"
   ]
  },
  {
   "cell_type": "code",
   "execution_count": 18,
   "id": "b73ae251-fc7a-4aca-981e-e20234ac6e0c",
   "metadata": {
    "tags": []
   },
   "outputs": [
    {
     "name": "stdout",
     "output_type": "stream",
     "text": [
      "1. Disneyland experience\n",
      "2. Rides and attractions\n",
      "3. Dining options\n",
      "4. Character meet and greets\n",
      "5. Crowd management and staff behavior\n"
     ]
    }
   ],
   "source": [
    "ChatGPT_topic_infer(45, 5)"
   ]
  },
  {
   "cell_type": "code",
   "execution_count": 19,
   "id": "32170afd-5e29-4ebb-965b-576576d1afe7",
   "metadata": {
    "tags": []
   },
   "outputs": [
    {
     "name": "stdout",
     "output_type": "stream",
     "text": [
      "1. Family & kids\n",
      "2. Queues\n",
      "3. Rides\n",
      "4. Food prices\n",
      "5. Disney characters\n"
     ]
    }
   ],
   "source": [
    "ChatGPT_topic_infer(26, 5)"
   ]
  },
  {
   "cell_type": "markdown",
   "id": "fb18d4ad-b410-4ac5-bff4-9976822dcf98",
   "metadata": {},
   "source": [
    "### Topic 8, 7 and 9 by LDA"
   ]
  },
  {
   "cell_type": "markdown",
   "id": "586922b1-c4db-49f9-96cd-5456e28c5224",
   "metadata": {},
   "source": [
    "Initially, I read sampled comments in each topic and summarized as below: \n",
    "<br> - Topic 8: family, best, fantastic \n",
    "<br> - Topic 7: Recommend, worth visiting\n",
    "<br> - Topic 9: Travel, ticket, rides, directions\n",
    "<br> There were some overlapping topics between the topics identified by ChatGPT and by me. "
   ]
  },
  {
   "cell_type": "code",
   "execution_count": 20,
   "id": "d26e66ac-8cd9-4c18-949c-0b6a470527c6",
   "metadata": {
    "tags": []
   },
   "outputs": [
    {
     "name": "stdout",
     "output_type": "stream",
     "text": [
      "1. Disney character\n",
      "2. Disneyland\n",
      "3. Rides\n",
      "4. Shows\n",
      "5. Tokyo Disneyland\n"
     ]
    }
   ],
   "source": [
    "ChatGPT_topic_infer(8, 5, 'LDA_Topic')"
   ]
  },
  {
   "cell_type": "code",
   "execution_count": 21,
   "id": "ee159696-086c-45fd-81f4-461cbc7b5b3a",
   "metadata": {
    "tags": []
   },
   "outputs": [
    {
     "name": "stdout",
     "output_type": "stream",
     "text": [
      "1. Disneyland experience\n",
      "2. Size of HK Disneyland\n",
      "3. Wait times for rides\n",
      "4. Seating and food options\n",
      "5. Fireworks and parades\n"
     ]
    }
   ],
   "source": [
    "ChatGPT_topic_infer(7, 5, 'LDA_Topic')"
   ]
  },
  {
   "cell_type": "code",
   "execution_count": 22,
   "id": "bebf4662-8c1c-499d-b5a8-3640d078ee8c",
   "metadata": {
    "tags": []
   },
   "outputs": [
    {
     "name": "stdout",
     "output_type": "stream",
     "text": [
      "1. Employee behavior\n",
      "2. Attractions and activities\n",
      "3. Expenses and prices\n",
      "4. Transportation\n",
      "5. Food and dining\n"
     ]
    }
   ],
   "source": [
    "ChatGPT_topic_infer(9, 5, 'LDA_Topic')"
   ]
  },
  {
   "cell_type": "markdown",
   "id": "7f665daf-7a8b-4c88-a4bd-546cadda8208",
   "metadata": {
    "tags": []
   },
   "source": [
    "### ChatGPT Topic Modeling \n",
    "I used a prompt to allow ChatGPT to assign topics. Due to the restrictions of the free tier user of the ChatGPT API, I only examined the first 10 reviews as a demo. Among those reviews, ChatGPT and I identified some common topics, including fireworks, rides, and queues.   "
   ]
  },
  {
   "cell_type": "code",
   "execution_count": 23,
   "id": "be6d27b8-d51c-4239-b106-6b58667ca19a",
   "metadata": {
    "tags": []
   },
   "outputs": [],
   "source": [
    "def ChatGPT_Topic_Assignment(start_index, end_index):\n",
    "    \"\"\"Assign topics to each Disney Review using ChatGPT gpt-3.5-turbo.\n",
    "\n",
    "    Parameters\n",
    "    ----------\n",
    "    start_index : int\n",
    "        The start index of the Review_Text in the topics_df dataframe we want to examine\n",
    "    end_index : int\n",
    "        The end index of the Review_Text in the topics_df dataframe we want to examine\n",
    "\n",
    "    Returns\n",
    "    -------\n",
    "    list\n",
    "        A list of strings that contains topics identified by ChatGPT\n",
    "\n",
    "    Examples\n",
    "    --------\n",
    "    >>> ChatGPT_Topic_Assignment(0, 3)\n",
    "    ['rides, queues', 'fireworks, rides, queues', 'rides, attractions, queues']\n",
    "    \"\"\"\n",
    "    time.sleep(60)\n",
    "    Chat_topic = []\n",
    "    for i in np.arange(start=start_index, stop=end_index):\n",
    "        review_text = topics_df.Review_Text[i]\n",
    "        prompt = f\"\"\"\n",
    "        What is the topic of the following review on Disneyland, \\\n",
    "        which is delimited with triple backticks? \\\n",
    "        Review text: '''{review_text}''' \\\n",
    "        Give me one to three high-level topics like fireworks, rides and queues \\\n",
    "        each topic in one word and separate each topic by a comma  \n",
    "        \"\"\"\n",
    "        topic = get_completion(prompt)\n",
    "        Chat_topic.append(topic)\n",
    "    return Chat_topic"
   ]
  },
  {
   "cell_type": "code",
   "execution_count": 24,
   "id": "6e6edd72-4300-4b5c-b800-166105cf06c0",
   "metadata": {
    "tags": []
   },
   "outputs": [],
   "source": [
    "Chat_topic_10 = []\n",
    "Chat_topic_10 = ChatGPT_Topic_Assignment(0, 3)"
   ]
  },
  {
   "cell_type": "code",
   "execution_count": 25,
   "id": "65b76668-31e6-4308-95c1-9c82e20e1948",
   "metadata": {
    "tags": []
   },
   "outputs": [],
   "source": [
    "Chat_topic_10.extend(ChatGPT_Topic_Assignment(3,6))"
   ]
  },
  {
   "cell_type": "code",
   "execution_count": 26,
   "id": "d41c27b0-1cd7-4ed5-a8ed-45f6d95efb8d",
   "metadata": {
    "tags": []
   },
   "outputs": [],
   "source": [
    "Chat_topic_10.extend(ChatGPT_Topic_Assignment(6,9))"
   ]
  },
  {
   "cell_type": "code",
   "execution_count": 27,
   "id": "84ff79be-3e32-4daf-b9af-1048a1af9aae",
   "metadata": {
    "tags": []
   },
   "outputs": [],
   "source": [
    "Chat_topic_10.extend(ChatGPT_Topic_Assignment(9,10))"
   ]
  },
  {
   "cell_type": "code",
   "execution_count": 28,
   "id": "479f764b-6749-4768-8d0a-530c6018a488",
   "metadata": {
    "tags": []
   },
   "outputs": [
    {
     "name": "stderr",
     "output_type": "stream",
     "text": [
      "/var/folders/_4/jzqnz7yj25j_kwhdgh43z6br0000gn/T/ipykernel_82724/301654584.py:2: SettingWithCopyWarning: \n",
      "A value is trying to be set on a copy of a slice from a DataFrame.\n",
      "Try using .loc[row_indexer,col_indexer] = value instead\n",
      "\n",
      "See the caveats in the documentation: https://pandas.pydata.org/pandas-docs/stable/user_guide/indexing.html#returning-a-view-versus-a-copy\n",
      "  topics_df_10['ChatGPT_Topics'] = Chat_topic_10\n"
     ]
    },
    {
     "data": {
      "text/html": [
       "<div>\n",
       "<style scoped>\n",
       "    .dataframe tbody tr th:only-of-type {\n",
       "        vertical-align: middle;\n",
       "    }\n",
       "\n",
       "    .dataframe tbody tr th {\n",
       "        vertical-align: top;\n",
       "    }\n",
       "\n",
       "    .dataframe thead th {\n",
       "        text-align: right;\n",
       "    }\n",
       "</style>\n",
       "<table border=\"1\" class=\"dataframe\">\n",
       "  <thead>\n",
       "    <tr style=\"text-align: right;\">\n",
       "      <th></th>\n",
       "      <th>Review_Text</th>\n",
       "      <th>HDBSCAN_Topic</th>\n",
       "      <th>LDA_Topic</th>\n",
       "      <th>ChatGPT_Topics</th>\n",
       "    </tr>\n",
       "  </thead>\n",
       "  <tbody>\n",
       "    <tr>\n",
       "      <th>0</th>\n",
       "      <td>If you've ever been to Disneyland anywhere you...</td>\n",
       "      <td>-1</td>\n",
       "      <td>3</td>\n",
       "      <td>rides, queues</td>\n",
       "    </tr>\n",
       "    <tr>\n",
       "      <th>1</th>\n",
       "      <td>Its been a while since d last time we visit HK...</td>\n",
       "      <td>-1</td>\n",
       "      <td>5</td>\n",
       "      <td>fireworks, rides, queues</td>\n",
       "    </tr>\n",
       "    <tr>\n",
       "      <th>2</th>\n",
       "      <td>Thanks God it wasn   t too hot or too humid wh...</td>\n",
       "      <td>20</td>\n",
       "      <td>6</td>\n",
       "      <td>rides, attractions, queues</td>\n",
       "    </tr>\n",
       "    <tr>\n",
       "      <th>3</th>\n",
       "      <td>HK Disneyland is a great compact park. Unfortu...</td>\n",
       "      <td>43</td>\n",
       "      <td>3</td>\n",
       "      <td>maintenance, crowds, prices</td>\n",
       "    </tr>\n",
       "    <tr>\n",
       "      <th>4</th>\n",
       "      <td>the location is not in the city, took around 1...</td>\n",
       "      <td>47</td>\n",
       "      <td>7</td>\n",
       "      <td>crowded, hot</td>\n",
       "    </tr>\n",
       "    <tr>\n",
       "      <th>5</th>\n",
       "      <td>Have been to Disney World, Disneyland Anaheim ...</td>\n",
       "      <td>-1</td>\n",
       "      <td>2</td>\n",
       "      <td>rides, queues, crowds</td>\n",
       "    </tr>\n",
       "    <tr>\n",
       "      <th>6</th>\n",
       "      <td>Great place! Your day will go by and you won't...</td>\n",
       "      <td>-1</td>\n",
       "      <td>7</td>\n",
       "      <td>rides, queues, parade</td>\n",
       "    </tr>\n",
       "    <tr>\n",
       "      <th>7</th>\n",
       "      <td>Think of it as an intro to Disney magic for th...</td>\n",
       "      <td>-1</td>\n",
       "      <td>9</td>\n",
       "      <td>food, attractions, service</td>\n",
       "    </tr>\n",
       "    <tr>\n",
       "      <th>8</th>\n",
       "      <td>Feel so let down with this place,the Disneylan...</td>\n",
       "      <td>26</td>\n",
       "      <td>4</td>\n",
       "      <td>signage, staff, rides</td>\n",
       "    </tr>\n",
       "    <tr>\n",
       "      <th>9</th>\n",
       "      <td>I can go on talking about Disneyland. Whatever...</td>\n",
       "      <td>24</td>\n",
       "      <td>9</td>\n",
       "      <td>fireworks, rides, queues</td>\n",
       "    </tr>\n",
       "  </tbody>\n",
       "</table>\n",
       "</div>"
      ],
      "text/plain": [
       "                                         Review_Text  HDBSCAN_Topic  \\\n",
       "0  If you've ever been to Disneyland anywhere you...             -1   \n",
       "1  Its been a while since d last time we visit HK...             -1   \n",
       "2  Thanks God it wasn   t too hot or too humid wh...             20   \n",
       "3  HK Disneyland is a great compact park. Unfortu...             43   \n",
       "4  the location is not in the city, took around 1...             47   \n",
       "5  Have been to Disney World, Disneyland Anaheim ...             -1   \n",
       "6  Great place! Your day will go by and you won't...             -1   \n",
       "7  Think of it as an intro to Disney magic for th...             -1   \n",
       "8  Feel so let down with this place,the Disneylan...             26   \n",
       "9  I can go on talking about Disneyland. Whatever...             24   \n",
       "\n",
       "   LDA_Topic               ChatGPT_Topics  \n",
       "0          3                rides, queues  \n",
       "1          5     fireworks, rides, queues  \n",
       "2          6   rides, attractions, queues  \n",
       "3          3  maintenance, crowds, prices  \n",
       "4          7                 crowded, hot  \n",
       "5          2        rides, queues, crowds  \n",
       "6          7        rides, queues, parade  \n",
       "7          9   food, attractions, service  \n",
       "8          4        signage, staff, rides  \n",
       "9          9     fireworks, rides, queues  "
      ]
     },
     "execution_count": 28,
     "metadata": {},
     "output_type": "execute_result"
    }
   ],
   "source": [
    "topics_df_10 = topics_df.head(10)\n",
    "topics_df_10['ChatGPT_Topics'] = Chat_topic_10\n",
    "topics_df_10"
   ]
  }
 ],
 "metadata": {
  "kernelspec": {
   "display_name": "Python [conda env:tm_disney]",
   "language": "python",
   "name": "conda-env-tm_disney-py"
  },
  "language_info": {
   "codemirror_mode": {
    "name": "ipython",
    "version": 3
   },
   "file_extension": ".py",
   "mimetype": "text/x-python",
   "name": "python",
   "nbconvert_exporter": "python",
   "pygments_lexer": "ipython3",
   "version": "3.10.12"
  }
 },
 "nbformat": 4,
 "nbformat_minor": 5
}
